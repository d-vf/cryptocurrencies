{
  "nbformat": 4,
  "nbformat_minor": 0,
  "metadata": {
    "colab": {
      "name": "HW II (log - linear) - R notebook.ipynb",
      "provenance": [],
      "collapsed_sections": [],
      "toc_visible": true,
      "machine_shape": "hm",
      "authorship_tag": "ABX9TyOMG0HR7ZzXbtJFuJG8jSO1",
      "include_colab_link": true
    },
    "kernelspec": {
      "name": "ir",
      "display_name": "R"
    }
  },
  "cells": [
    {
      "cell_type": "markdown",
      "metadata": {
        "id": "view-in-github",
        "colab_type": "text"
      },
      "source": [
        "<a href=\"https://colab.research.google.com/github/d-vf/notebooks/blob/master/HW_II_(log_linear)_R_notebook.ipynb\" target=\"_parent\"><img src=\"https://colab.research.google.com/assets/colab-badge.svg\" alt=\"Open In Colab\"/></a>"
      ]
    },
    {
      "cell_type": "markdown",
      "metadata": {
        "id": "FD7id1Dp9giO",
        "colab_type": "text"
      },
      "source": [
        "# HomeWork Assignment I\n",
        "## Data description, Single Regression and Multiple Regression\n",
        "\n",
        "Objective: Work through data, present rich descriptive statistics and build some models. Some hints:\n",
        "* Set a general research question in a topic of your interest\n",
        "* Select the data\n",
        "* Create the variables you need for the analysis\n",
        "* Explore and describe the data and show some statistics\n",
        "* Perform single regressions and explain the importance of the variables used\n",
        "* Perform multiple regression and explain clearly\n",
        "\n",
        "Page limit: 3 pages.\n",
        "The evaluation will take into account the following key factors:\n",
        " * Data analysis\n",
        " * Interpretation and clear explanation of results"
      ]
    },
    {
      "cell_type": "markdown",
      "metadata": {
        "id": "yJ0Kpe-pZ8JE",
        "colab_type": "text"
      },
      "source": [
        "## Setup\n"
      ]
    },
    {
      "cell_type": "code",
      "metadata": {
        "id": "96-GvOmjNpHv",
        "colab_type": "code",
        "outputId": "2dec9545-4d01-4301-ab66-ec68da8496dc",
        "colab": {
          "base_uri": "https://localhost:8080/",
          "height": 102
        }
      },
      "source": [
        "cat(system('python3 -c \"from google.colab import drive\\ndrive.mount()\"', intern=TRUE), sep='\\n', wait=TRUE)"
      ],
      "execution_count": 1,
      "outputs": [
        {
          "output_type": "stream",
          "text": [
            "Warning message in system(\"python3 -c \\\"from google.colab import drive\\ndrive.mount()\\\"\", :\n",
            "“running command 'python3 -c \"from google.colab import drive\n",
            "drive.mount()\"' had status 1”\n"
          ],
          "name": "stderr"
        },
        {
          "output_type": "stream",
          "text": [
            "\n",
            "TRUE\n"
          ],
          "name": "stdout"
        }
      ]
    },
    {
      "cell_type": "code",
      "metadata": {
        "id": "uQhFVgAMMkOV",
        "colab_type": "code",
        "colab": {}
      },
      "source": [
        "system(\"add-apt-repository -y ppa:marutter/rrutter\")\n",
        "system(\"add-apt-repository -y ppa:marutter/c2d4u\")\n",
        "system(\"apt-get update\")\n",
        "system(\"apt install -y r-cran-rstan\")"
      ],
      "execution_count": 0,
      "outputs": []
    },
    {
      "cell_type": "markdown",
      "metadata": {
        "id": "SUxZr1OFskLP",
        "colab_type": "text"
      },
      "source": [
        "## Libraries"
      ]
    },
    {
      "cell_type": "code",
      "metadata": {
        "id": "d0CTkD0BM8Iv",
        "colab_type": "code",
        "outputId": "1bfa7c9f-942f-42e9-c3f8-e169e1327b55",
        "colab": {
          "base_uri": "https://localhost:8080/",
          "height": 425
        }
      },
      "source": [
        "install.packages('codetools') #Code Analysis Tools for R\n",
        "install.packages('data.table') #Fast aggregation of large data (not needed as 20 0000 is a small sample)\n",
        "install.packages('ggplot2') #for basic charts this is not needed (as has a learning curve)\n",
        "install.packages('stargazer') #beautiful LATEX, HTML and ASCII tables from R statistical output (not needed as the output is not latex and be used UTF-8)\n",
        "install.packages('lmtest') #Testing Linear Regression Models\n",
        "install.packages('dplyr') # A Grammar of Data Manipulation (to replace data.table)\n",
        "install.packages('gsheet') #for reading from gsheet (sliced file)\n",
        "install.packages('GGally') # corr plot and confusion matrix"
      ],
      "execution_count": 3,
      "outputs": [
        {
          "output_type": "stream",
          "text": [
            "Installing package into ‘/usr/local/lib/R/site-library’\n",
            "(as ‘lib’ is unspecified)\n",
            "\n",
            "Installing package into ‘/usr/local/lib/R/site-library’\n",
            "(as ‘lib’ is unspecified)\n",
            "\n",
            "Installing package into ‘/usr/local/lib/R/site-library’\n",
            "(as ‘lib’ is unspecified)\n",
            "\n",
            "Installing package into ‘/usr/local/lib/R/site-library’\n",
            "(as ‘lib’ is unspecified)\n",
            "\n",
            "Installing package into ‘/usr/local/lib/R/site-library’\n",
            "(as ‘lib’ is unspecified)\n",
            "\n",
            "Installing package into ‘/usr/local/lib/R/site-library’\n",
            "(as ‘lib’ is unspecified)\n",
            "\n",
            "Installing package into ‘/usr/local/lib/R/site-library’\n",
            "(as ‘lib’ is unspecified)\n",
            "\n",
            "Installing package into ‘/usr/local/lib/R/site-library’\n",
            "(as ‘lib’ is unspecified)\n",
            "\n"
          ],
          "name": "stderr"
        }
      ]
    },
    {
      "cell_type": "markdown",
      "metadata": {
        "id": "eq4DYPKvG1qY",
        "colab_type": "text"
      },
      "source": [
        "## Research Question: \n",
        "\n",
        "Factors (happiness and gender) that influence Equivalised monthly household income in PPP euros (continuous) \n",
        "\n",
        "Data: Dataset:European Quality of Life Survey Integrated Data File, 2003-2016\n",
        "\n",
        "Source: https://beta.ukdataservice.ac.uk/\n",
        "\n",
        "\n",
        "\n"
      ]
    },
    {
      "cell_type": "code",
      "metadata": {
        "id": "_G1SDoIQt3kx",
        "colab_type": "code",
        "colab": {}
      },
      "source": [
        "library(readr) \n",
        "url <- \"/eqls_integrated_trend_2003_2016.csv\" \n",
        "data <- read.csv(url, header=TRUE, quote=\"\\\"\", na.strings = \"NA\", fill = TRUE )"
      ],
      "execution_count": 0,
      "outputs": []
    },
    {
      "cell_type": "markdown",
      "metadata": {
        "id": "djddXqYgWuTe",
        "colab_type": "text"
      },
      "source": [
        "## Filter PT"
      ]
    },
    {
      "cell_type": "code",
      "metadata": {
        "id": "haUigVDRE3kQ",
        "colab_type": "code",
        "colab": {}
      },
      "source": [
        "dataPT <- subset(data, Y16_Country=='23')"
      ],
      "execution_count": 0,
      "outputs": []
    },
    {
      "cell_type": "markdown",
      "metadata": {
        "id": "kQK_cyyKbnww",
        "colab_type": "text"
      },
      "source": [
        "# Select Variables\n",
        "\n",
        "Dependant:\n",
        "\n",
        "* Y16_Income_Equivalised (Equivalised monthly household income in PPP euros)\n",
        "\n",
        "Predictors as\n",
        "\n",
        "- Gender\n",
        "\n",
        "Pos. = 14\tVariable = Y16_HH2a\tVariable label = Respondent sex\n",
        "This variable is  numeric, the SPSS measurement level is NOMINAL\n",
        "SPSS user missing values = 998.0 thru None\n",
        "\n",
        "''\n",
        "\n",
        "\tValue label information for Y16_HH2a\n",
        "\tValue = 1.0\tLabel = Male\n",
        "\tValue = 2.0\tLabel = Female\n",
        "\n",
        "\n",
        "- Hapiness (1 very unhappy, 10 Very happy)\n",
        "\n",
        "Pos. = 57\tVariable = Y16_Q5\tVariable label = Taking all things together on a scale of 1 to 10, how happy would you say you are?\n",
        "This variable is  numeric, the SPSS measurement level is SCALE\n",
        "SPSS user missing values = 98.0 or 99.0\n",
        "''\n",
        "\n",
        "\tValue label information for Y16_Q5\n",
        "\tValue = 1.0\tLabel = Very unhappy\n",
        "\tValue = 2.0\tLabel = 2\n",
        "\tValue = 3.0\tLabel = 3\n",
        "\tValue = 4.0\tLabel = 4\n",
        "\tValue = 5.0\tLabel = 5\n",
        "\tValue = 6.0\tLabel = 6\n",
        "\tValue = 7.0\tLabel = 7\n",
        "\tValue = 8.0\tLabel = 8\n",
        "\tValue = 9.0\tLabel = 9\n",
        "\tValue = 10.0\tLabel = Very happy\n",
        "\tValue = 98.0\tLabel = Don't know\n",
        "\tValue = 99.0\tLabel = Refusal\n",
        "\n"
      ]
    },
    {
      "cell_type": "markdown",
      "metadata": {
        "id": "3x4SWjQkiqKG",
        "colab_type": "text"
      },
      "source": [
        "### Encode categorical variables\n",
        "* The default option is to use the first level of the factor as a reference and interpret the remaining levels relative to this level.\n",
        "\n",
        "* This case reference: \n",
        "  - gender: male (1)\n",
        "  - happiness: Very unhappy (1) "
      ]
    },
    {
      "cell_type": "code",
      "metadata": {
        "id": "jMG2lOJuYzR4",
        "colab_type": "code",
        "colab": {}
      },
      "source": [
        "dataPTsample <- data.frame(dataPT$Y16_Income_Equivalised, dataPT$Y16_HH2a, dataPT$Y16_Q5)"
      ],
      "execution_count": 0,
      "outputs": []
    },
    {
      "cell_type": "code",
      "metadata": {
        "id": "tF6pTCDaLbQb",
        "colab_type": "code",
        "outputId": "dcc20a49-6a7a-40a3-9109-b675f9da66f8",
        "colab": {
          "base_uri": "https://localhost:8080/",
          "height": 153
        }
      },
      "source": [
        "summary(dataPTsample) "
      ],
      "execution_count": 7,
      "outputs": [
        {
          "output_type": "display_data",
          "data": {
            "text/plain": [
              " dataPT.Y16_Income_Equivalised dataPT.Y16_HH2a dataPT.Y16_Q5   \n",
              " Min.   :   1.212              Min.   :1.00    Min.   : 1.000  \n",
              " 1st Qu.: 383.142              1st Qu.:1.00    1st Qu.: 6.000  \n",
              " Median : 629.723              Median :2.00    Median : 7.000  \n",
              " Mean   : 825.679              Mean   :1.57    Mean   : 7.629  \n",
              " 3rd Qu.: 979.431              3rd Qu.:2.00    3rd Qu.: 8.000  \n",
              " Max.   :9760.705              Max.   :2.00    Max.   :98.000  \n",
              " NA's   :1592                                                  "
            ]
          },
          "metadata": {
            "tags": []
          }
        }
      ]
    },
    {
      "cell_type": "markdown",
      "metadata": {
        "id": "KEjftNDxby0E",
        "colab_type": "text"
      },
      "source": [
        "## Clean up "
      ]
    },
    {
      "cell_type": "markdown",
      "metadata": {
        "id": "qUliA0eOP2Ee",
        "colab_type": "text"
      },
      "source": [
        "### Removing all rows with any NA\n",
        "\n",
        "* This case just removed all for simplicity\n",
        "\n"
      ]
    },
    {
      "cell_type": "code",
      "metadata": {
        "id": "yWiy_qbJ4Mq6",
        "colab_type": "code",
        "colab": {}
      },
      "source": [
        "dataPTsample <- dataPTsample[complete.cases(dataPTsample), ]"
      ],
      "execution_count": 0,
      "outputs": []
    },
    {
      "cell_type": "markdown",
      "metadata": {
        "id": "Ynd8tAPxb5WH",
        "colab_type": "text"
      },
      "source": [
        "## Remove:\n",
        "\n",
        "Value = 99.0\tLabel = (Refusal)\n",
        "Value = 98.0\tLabel = (Don't know)\n",
        "\n",
        "## Replace\n",
        "\n",
        "Value = 1.0\tLabel = Male -> 0\n",
        "\n",
        "Value = 2.0\tLabel = Female -> 1\n",
        "\n",
        "## Set as factor (0 & 1)\n",
        "\n"
      ]
    },
    {
      "cell_type": "markdown",
      "metadata": {
        "id": "KXzOAQrUcwfJ",
        "colab_type": "text"
      },
      "source": [
        "### Y16_Q5\tVariable label = Taking all things together on a scale of 1 to 10, how happy would you say you are?\n"
      ]
    },
    {
      "cell_type": "code",
      "metadata": {
        "id": "NK0TzthQG89h",
        "colab_type": "code",
        "outputId": "1917843d-6d71-42aa-d883-670c5808c0be",
        "colab": {
          "base_uri": "https://localhost:8080/",
          "height": 51
        }
      },
      "source": [
        "summary(dataPTsample$dataPT.Y16_Q5)"
      ],
      "execution_count": 9,
      "outputs": [
        {
          "output_type": "display_data",
          "data": {
            "text/plain": [
              "   Min. 1st Qu.  Median    Mean 3rd Qu.    Max. \n",
              "  1.000   6.000   7.000   7.473   8.000  98.000 "
            ]
          },
          "metadata": {
            "tags": []
          }
        }
      ]
    },
    {
      "cell_type": "code",
      "metadata": {
        "id": "Ind2czWOHqTS",
        "colab_type": "code",
        "colab": {}
      },
      "source": [
        "dataPTsample <- subset(dataPTsample, dataPT.Y16_Q5 != '99' & dataPT.Y16_Q5!= '98')"
      ],
      "execution_count": 0,
      "outputs": []
    },
    {
      "cell_type": "code",
      "metadata": {
        "id": "Sy6m2EmzHhSU",
        "colab_type": "code",
        "colab": {}
      },
      "source": [
        "dataPTsample$dataPT.Y16_Q89a <- factor(dataPTsample$dataPT.Y16_Q5)"
      ],
      "execution_count": 0,
      "outputs": []
    },
    {
      "cell_type": "code",
      "metadata": {
        "id": "KeKBoEUMH8Zh",
        "colab_type": "code",
        "outputId": "ad26e909-5137-4543-9e08-e16b0c816152",
        "colab": {
          "base_uri": "https://localhost:8080/",
          "height": 51
        }
      },
      "source": [
        "summary(dataPTsample$dataPT.Y16_Q5)"
      ],
      "execution_count": 12,
      "outputs": [
        {
          "output_type": "display_data",
          "data": {
            "text/plain": [
              "   Min. 1st Qu.  Median    Mean 3rd Qu.    Max. \n",
              "  1.000   5.000   7.000   6.851   8.000  10.000 "
            ]
          },
          "metadata": {
            "tags": []
          }
        }
      ]
    },
    {
      "cell_type": "code",
      "metadata": {
        "id": "kUo1U99zrspq",
        "colab_type": "code",
        "colab": {
          "base_uri": "https://localhost:8080/",
          "height": 68
        },
        "outputId": "98482176-21e5-45e1-99b2-b1e70de965c4"
      },
      "source": [
        "table1 <- table(dataPTsample$dataPT.Y16_Q5)\n",
        "table1"
      ],
      "execution_count": 13,
      "outputs": [
        {
          "output_type": "display_data",
          "data": {
            "text/plain": [
              "\n",
              "  1   2   3   4   5   6   7   8   9  10 \n",
              " 23  40 104 102 353 345 456 576 253 220 "
            ]
          },
          "metadata": {
            "tags": []
          }
        }
      ]
    },
    {
      "cell_type": "code",
      "metadata": {
        "id": "76BLlJiMrvUY",
        "colab_type": "code",
        "colab": {
          "base_uri": "https://localhost:8080/",
          "height": 102
        },
        "outputId": "3a89cee6-b7c2-443f-a3a7-c6fbaedddac3"
      },
      "source": [
        "prop.table(table1)"
      ],
      "execution_count": 14,
      "outputs": [
        {
          "output_type": "display_data",
          "data": {
            "text/plain": [
              "\n",
              "          1           2           3           4           5           6 \n",
              "0.009304207 0.016181230 0.042071197 0.041262136 0.142799353 0.139563107 \n",
              "          7           8           9          10 \n",
              "0.184466019 0.233009709 0.102346278 0.088996764 "
            ]
          },
          "metadata": {
            "tags": []
          }
        }
      ]
    },
    {
      "cell_type": "code",
      "metadata": {
        "id": "ULoMu5qqryi1",
        "colab_type": "code",
        "colab": {
          "base_uri": "https://localhost:8080/",
          "height": 471
        },
        "outputId": "3ea0a53f-169a-4eb7-e818-0d0c8414503f"
      },
      "source": [
        "library(ggplot2)\n",
        "#hist(dataPTsample$dataPT.Y16_Q5)\n",
        "g <- ggplot(dataPTsample, aes(dataPTsample$dataPT.Y16_Q5))\n",
        "g + geom_bar() + labs(title= \"Taking all things together on a scale of 1 to 10, \n",
        "how happy would you say you are? \\\n",
        "(0 = Very unhappy and 10 = Very happy)\",  y=\"Count\", x = \"Response\")"
      ],
      "execution_count": 15,
      "outputs": [
        {
          "output_type": "stream",
          "text": [
            "Warning message:\n",
            "“Use of `dataPTsample$dataPT.Y16_Q5` is discouraged. Use `dataPT.Y16_Q5` instead.”\n"
          ],
          "name": "stderr"
        },
        {
          "output_type": "display_data",
          "data": {
            "image/png": "[encoded data removed]",
            "text/plain": [
              "plot without title"
            ]
          },
          "metadata": {
            "tags": [],
            "image/png": {
              "width": 420,
              "height": 420
            },
            "text/plain": {
              "width": 420,
              "height": 420
            }
          }
        }
      ]
    },
    {
      "cell_type": "markdown",
      "metadata": {
        "id": "eDyo9XtZc5eg",
        "colab_type": "text"
      },
      "source": [
        "### Y16_Income_Equivalised Variable label = Equivalised monthly household income in PPP euros\n",
        "\n",
        "### transform - > Log \n"
      ]
    },
    {
      "cell_type": "code",
      "metadata": {
        "id": "lrpHqpyciSHQ",
        "colab_type": "code",
        "outputId": "197c51d2-748f-49f2-a570-5ce5f4dbdcc7",
        "colab": {
          "base_uri": "https://localhost:8080/",
          "height": 51
        }
      },
      "source": [
        "summary(dataPTsample$dataPT.Y16_Income_Equivalised)"
      ],
      "execution_count": 16,
      "outputs": [
        {
          "output_type": "display_data",
          "data": {
            "text/plain": [
              "    Min.  1st Qu.   Median     Mean  3rd Qu.     Max. \n",
              "   1.212  394.515  629.723  828.191  980.309 9760.705 "
            ]
          },
          "metadata": {
            "tags": []
          }
        }
      ]
    },
    {
      "cell_type": "code",
      "metadata": {
        "id": "mG0AIyFy15_D",
        "colab_type": "code",
        "colab": {}
      },
      "source": [
        "dataPTsample$dataPT.Y16_Income_Equivalised_log <- log(dataPTsample$dataPT.Y16_Income_Equivalise)"
      ],
      "execution_count": 0,
      "outputs": []
    },
    {
      "cell_type": "code",
      "metadata": {
        "id": "36vlGbfU2DRO",
        "colab_type": "code",
        "outputId": "012fd08b-eafe-414b-88d1-803c25ba6281",
        "colab": {
          "base_uri": "https://localhost:8080/",
          "height": 51
        }
      },
      "source": [
        "summary(dataPTsample$dataPT.Y16_Income_Equivalised_log)"
      ],
      "execution_count": 18,
      "outputs": [
        {
          "output_type": "display_data",
          "data": {
            "text/plain": [
              "   Min. 1st Qu.  Median    Mean 3rd Qu.    Max. \n",
              " 0.1924  5.9777  6.4453  6.4388  6.8879  9.1861 "
            ]
          },
          "metadata": {
            "tags": []
          }
        }
      ]
    },
    {
      "cell_type": "code",
      "metadata": {
        "id": "8OQYklgcr691",
        "colab_type": "code",
        "colab": {
          "base_uri": "https://localhost:8080/",
          "height": 437
        },
        "outputId": "e2994c28-8cc7-4708-fe42-37a3c39b380d"
      },
      "source": [
        "# Histogram with kernel density curve\n",
        "#hist(dataPTsample$dataPT.Y16_Income_Equivalised_log)\n",
        "ggplot(dataPTsample, aes(x = dataPT.Y16_Income_Equivalised_log)) +\n",
        "    geom_density(alpha = .2, fill = \"#FF6666\")"
      ],
      "execution_count": 19,
      "outputs": [
        {
          "output_type": "display_data",
          "data": {
            "image/png": "[encoded data removed]",
            "text/plain": [
              "plot without title"
            ]
          },
          "metadata": {
            "tags": [],
            "image/png": {
              "width": 420,
              "height": 420
            },
            "text/plain": {
              "width": 420,
              "height": 420
            }
          }
        }
      ]
    },
    {
      "cell_type": "markdown",
      "metadata": {
        "id": "hZuBtRPHOkun",
        "colab_type": "text"
      },
      "source": [
        "# Gender"
      ]
    },
    {
      "cell_type": "code",
      "metadata": {
        "id": "tpID6hhaPCgC",
        "colab_type": "code",
        "outputId": "eb526a7e-6b6d-4e21-bd2c-a89fd46cb58c",
        "colab": {
          "base_uri": "https://localhost:8080/",
          "height": 51
        }
      },
      "source": [
        "summary(dataPTsample$dataPT.Y16_HH2a)"
      ],
      "execution_count": 20,
      "outputs": [
        {
          "output_type": "display_data",
          "data": {
            "text/plain": [
              "   Min. 1st Qu.  Median    Mean 3rd Qu.    Max. \n",
              "  1.000   1.000   2.000   1.589   2.000   2.000 "
            ]
          },
          "metadata": {
            "tags": []
          }
        }
      ]
    },
    {
      "cell_type": "code",
      "metadata": {
        "id": "CxVleyGbPEjd",
        "colab_type": "code",
        "colab": {}
      },
      "source": [
        "dataPTsample <- subset(dataPTsample, dataPT.Y16_HH2a != '99' & dataPT.Y16_HH2a!= '98')"
      ],
      "execution_count": 0,
      "outputs": []
    },
    {
      "cell_type": "code",
      "metadata": {
        "id": "xag5PbIuOzVw",
        "colab_type": "code",
        "colab": {}
      },
      "source": [
        "dataPTsample$dataPT.Y16_HH2a[dataPTsample$dataPT.Y16_HH2a == 1] <- 0"
      ],
      "execution_count": 0,
      "outputs": []
    },
    {
      "cell_type": "code",
      "metadata": {
        "id": "vOGEOuwtOmzU",
        "colab_type": "code",
        "colab": {}
      },
      "source": [
        "dataPTsample$dataPT.Y16_HH2a[dataPTsample$dataPT.Y16_HH2a == 2] <- 1"
      ],
      "execution_count": 0,
      "outputs": []
    },
    {
      "cell_type": "code",
      "metadata": {
        "id": "yV_G12YtO7H4",
        "colab_type": "code",
        "colab": {}
      },
      "source": [
        "dataPTsample$dataPT.Y16_HH2a <- factor(dataPTsample$dataPT.Y16_HH2a)"
      ],
      "execution_count": 0,
      "outputs": []
    },
    {
      "cell_type": "code",
      "metadata": {
        "id": "ymfTFs9BO9jy",
        "colab_type": "code",
        "outputId": "ade8c0e3-28d5-4a24-87bb-6b7961366d6c",
        "colab": {
          "base_uri": "https://localhost:8080/",
          "height": 34
        }
      },
      "source": [
        "summary(dataPTsample$dataPT.Y16_HH2a)"
      ],
      "execution_count": 25,
      "outputs": [
        {
          "output_type": "display_data",
          "data": {
            "text/plain": [
              "   0    1 \n",
              "1017 1455 "
            ],
            "text/latex": "\\begin{description*}\n\\item[0] 1017\n\\item[1] 1455\n\\end{description*}\n",
            "text/markdown": "0\n:   10171\n:   1455\n\n",
            "text/html": [
              "<style>\n",
              ".dl-inline {width: auto; margin:0; padding: 0}\n",
              ".dl-inline>dt, .dl-inline>dd {float: none; width: auto; display: inline-block}\n",
              ".dl-inline>dt::after {content: \":\\0020\"; padding-right: .5ex}\n",
              ".dl-inline>dt:not(:first-of-type) {padding-left: .5ex}\n",
              "</style><dl class=dl-inline><dt>0</dt><dd>1017</dd><dt>1</dt><dd>1455</dd></dl>\n"
            ]
          },
          "metadata": {
            "tags": []
          }
        }
      ]
    },
    {
      "cell_type": "code",
      "metadata": {
        "id": "FRUmxVlfsGKY",
        "colab_type": "code",
        "colab": {
          "base_uri": "https://localhost:8080/",
          "height": 68
        },
        "outputId": "7bc45d44-fd48-40dd-fea3-82b6297fe962"
      },
      "source": [
        "table2 <- table(dataPTsample$dataPT.Y16_HH2a)\n",
        "table2"
      ],
      "execution_count": 26,
      "outputs": [
        {
          "output_type": "display_data",
          "data": {
            "text/plain": [
              "\n",
              "   0    1 \n",
              "1017 1455 "
            ]
          },
          "metadata": {
            "tags": []
          }
        }
      ]
    },
    {
      "cell_type": "code",
      "metadata": {
        "id": "QCaVdEAO4g4-",
        "colab_type": "code",
        "colab": {
          "base_uri": "https://localhost:8080/",
          "height": 68
        },
        "outputId": "43d5c322-5dc6-42fc-f7e7-925f5f0aad6b"
      },
      "source": [
        "prop.table(table2)"
      ],
      "execution_count": 27,
      "outputs": [
        {
          "output_type": "display_data",
          "data": {
            "text/plain": [
              "\n",
              "        0         1 \n",
              "0.4114078 0.5885922 "
            ]
          },
          "metadata": {
            "tags": []
          }
        }
      ]
    },
    {
      "cell_type": "code",
      "metadata": {
        "id": "kBErPL4dse5t",
        "colab_type": "code",
        "colab": {
          "base_uri": "https://localhost:8080/",
          "height": 437
        },
        "outputId": "a3a6443e-a412-4d64-e241-378eea51f41b"
      },
      "source": [
        "library(ggplot2)\n",
        "#plot(dataPTsample$dataPT.Y16_HH2a)\n",
        "g2 <- ggplot(dataPTsample, aes(dataPT.Y16_HH2a))\n",
        "g2 + geom_bar() + labs(title= \"Gender \\ (0 = Male and 1 = Female)\",  y=\"Count\", x = \"Response\")"
      ],
      "execution_count": 28,
      "outputs": [
        {
          "output_type": "display_data",
          "data": {
            "image/png": "[encoded data removed]",
            "text/plain": [
              "plot without title"
            ]
          },
          "metadata": {
            "tags": [],
            "image/png": {
              "width": 420,
              "height": 420
            },
            "text/plain": {
              "width": 420,
              "height": 420
            }
          }
        }
      ]
    },
    {
      "cell_type": "markdown",
      "metadata": {
        "id": "leYz7pIC6Nk9",
        "colab_type": "text"
      },
      "source": [
        "## Cleaned and transformed dataset summary"
      ]
    },
    {
      "cell_type": "code",
      "metadata": {
        "id": "IQVNk_EytZ9B",
        "colab_type": "code",
        "colab": {
          "base_uri": "https://localhost:8080/",
          "height": 289
        },
        "outputId": "04e7f4ef-97fa-431e-906c-1c2d4f5ec740"
      },
      "source": [
        "summary(dataPTsample)"
      ],
      "execution_count": 29,
      "outputs": [
        {
          "output_type": "display_data",
          "data": {
            "text/plain": [
              " dataPT.Y16_Income_Equivalised dataPT.Y16_HH2a dataPT.Y16_Q5    dataPT.Y16_Q89a\n",
              " Min.   :   1.212              0:1017          Min.   : 1.000   8      :576    \n",
              " 1st Qu.: 394.515              1:1455          1st Qu.: 5.000   7      :456    \n",
              " Median : 629.723                              Median : 7.000   5      :353    \n",
              " Mean   : 828.191                              Mean   : 6.851   6      :345    \n",
              " 3rd Qu.: 980.309                              3rd Qu.: 8.000   9      :253    \n",
              " Max.   :9760.705                              Max.   :10.000   10     :220    \n",
              "                                                                (Other):269    \n",
              " dataPT.Y16_Income_Equivalised_log\n",
              " Min.   :0.1924                   \n",
              " 1st Qu.:5.9777                   \n",
              " Median :6.4453                   \n",
              " Mean   :6.4388                   \n",
              " 3rd Qu.:6.8879                   \n",
              " Max.   :9.1861                   \n",
              "                                  "
            ]
          },
          "metadata": {
            "tags": []
          }
        }
      ]
    },
    {
      "cell_type": "code",
      "metadata": {
        "id": "QsZaQyKEtYpF",
        "colab_type": "code",
        "colab": {
          "base_uri": "https://localhost:8080/",
          "height": 505
        },
        "outputId": "468b827a-2a95-4794-e3f7-f61d630b757f"
      },
      "source": [
        "library(GGally)\n",
        "dataPTsample_impcopy <- dataPTsample\n",
        "# Convert data to numeric\n",
        "corr <- data.frame(lapply(dataPTsample_impcopy, as.integer))\n",
        "# Plot the graphggcorr(using GGally)\n",
        "ggcorr(corr, method = c(\"everything\", \"spearman\"), nbreaks = 6,\n",
        "hjust = 0.8,label = TRUE, label_size = 3, color = \"grey50\")"
      ],
      "execution_count": 30,
      "outputs": [
        {
          "output_type": "stream",
          "text": [
            "Registered S3 method overwritten by 'GGally':\n",
            "  method from   \n",
            "  +.gg   ggplot2\n",
            "\n"
          ],
          "name": "stderr"
        },
        {
          "output_type": "display_data",
          "data": {
            "image/png": "[encoded data removed]",
            "text/plain": [
              "plot without title"
            ]
          },
          "metadata": {
            "tags": [],
            "image/png": {
              "width": 420,
              "height": 420
            },
            "text/plain": {
              "width": 420,
              "height": 420
            }
          }
        }
      ]
    },
    {
      "cell_type": "markdown",
      "metadata": {
        "id": "osblt7BYdyPI",
        "colab_type": "text"
      },
      "source": [
        "## Linear Regression"
      ]
    },
    {
      "cell_type": "markdown",
      "metadata": {
        "id": "AkuC9ENQJU5B",
        "colab_type": "text"
      },
      "source": [
        "## Intercept-only model\n",
        "\n",
        "$log(dataPT.Y16_Income_Equivalised)=β_0=6.439$\n",
        "\n",
        "We can say that 6.439 is the unconditional expected mean of log of Y16_Income_Equivalised. Therefore the exponentiated value is exp(6.439)=625.67079473529. "
      ]
    },
    {
      "cell_type": "code",
      "metadata": {
        "id": "kmda_iB3K33h",
        "colab_type": "code",
        "outputId": "3bf43e63-b29d-4518-e04b-f3f765e21bc9",
        "colab": {
          "base_uri": "https://localhost:8080/",
          "height": 153
        }
      },
      "source": [
        "lm(dataPTsample$dataPT.Y16_Income_Equivalised_log ~ 1)"
      ],
      "execution_count": 31,
      "outputs": [
        {
          "output_type": "display_data",
          "data": {
            "text/plain": [
              "\n",
              "Call:\n",
              "lm(formula = dataPTsample$dataPT.Y16_Income_Equivalised_log ~ \n",
              "    1)\n",
              "\n",
              "Coefficients:\n",
              "(Intercept)  \n",
              "      6.439  \n"
            ]
          },
          "metadata": {
            "tags": []
          }
        }
      ]
    },
    {
      "cell_type": "code",
      "metadata": {
        "id": "LS-_xHviMmzV",
        "colab_type": "code",
        "outputId": "25e15dbd-f07a-4636-ca44-5c4ea06c7f00",
        "colab": {
          "base_uri": "https://localhost:8080/",
          "height": 34
        }
      },
      "source": [
        "mean(dataPTsample$dataPT.Y16_Income_Equivalised_log)"
      ],
      "execution_count": 32,
      "outputs": [
        {
          "output_type": "display_data",
          "data": {
            "text/plain": [
              "[1] 6.438824"
            ],
            "text/latex": "6.4388243457687",
            "text/markdown": "6.4388243457687",
            "text/html": [
              "6.4388243457687"
            ]
          },
          "metadata": {
            "tags": []
          }
        }
      ]
    },
    {
      "cell_type": "code",
      "metadata": {
        "id": "DqyAOieqiNF6",
        "colab_type": "code",
        "outputId": "4089361b-7e68-4bb0-f25f-576f57231429",
        "colab": {
          "base_uri": "https://localhost:8080/",
          "height": 34
        }
      },
      "source": [
        "exp(6.4388243457687)"
      ],
      "execution_count": 33,
      "outputs": [
        {
          "output_type": "display_data",
          "data": {
            "text/plain": [
              "[1] 625.6708"
            ],
            "text/latex": "625.67079473529",
            "text/markdown": "625.67079473529",
            "text/html": [
              "625.67079473529"
            ]
          },
          "metadata": {
            "tags": []
          }
        }
      ]
    },
    {
      "cell_type": "markdown",
      "metadata": {
        "id": "YNvJz5wri_I3",
        "colab_type": "text"
      },
      "source": [
        "### Single binary predictor variable.\n"
      ]
    },
    {
      "cell_type": "code",
      "metadata": {
        "id": "Qt7cm4SDjnFG",
        "colab_type": "code",
        "outputId": "3f270dc7-2977-4bb0-afc6-679c8bf68110",
        "colab": {
          "base_uri": "https://localhost:8080/",
          "height": 340
        }
      },
      "source": [
        "lm2 <-lm(dataPT.Y16_Income_Equivalised_log ~ as.factor(dataPT.Y16_HH2a) , data = dataPTsample)\n",
        "summary(lm2)"
      ],
      "execution_count": 34,
      "outputs": [
        {
          "output_type": "display_data",
          "data": {
            "text/plain": [
              "\n",
              "Call:\n",
              "lm(formula = dataPT.Y16_Income_Equivalised_log ~ as.factor(dataPT.Y16_HH2a), \n",
              "    data = dataPTsample)\n",
              "\n",
              "Residuals:\n",
              "    Min      1Q  Median      3Q     Max \n",
              "-6.3564 -0.4601  0.0117  0.4466  2.6374 \n",
              "\n",
              "Coefficients:\n",
              "                            Estimate Std. Error t value Pr(>|t|)    \n",
              "(Intercept)                  6.54873    0.02344 279.402  < 2e-16 ***\n",
              "as.factor(dataPT.Y16_HH2a)1 -0.18673    0.03055  -6.112 1.14e-09 ***\n",
              "---\n",
              "Signif. codes:  0 ‘***’ 0.001 ‘**’ 0.01 ‘*’ 0.05 ‘.’ 0.1 ‘ ’ 1\n",
              "\n",
              "Residual standard error: 0.7475 on 2470 degrees of freedom\n",
              "Multiple R-squared:  0.0149,\tAdjusted R-squared:  0.0145 \n",
              "F-statistic: 37.36 on 1 and 2470 DF,  p-value: 1.139e-09\n"
            ]
          },
          "metadata": {
            "tags": []
          }
        }
      ]
    },
    {
      "cell_type": "markdown",
      "metadata": {
        "id": "HXNiQ6vq5M6U",
        "colab_type": "text"
      },
      "source": [
        "log (income) =β0+β1×female(1)\n",
        "=6.46123+(-0.18673)×(1)\n",
        "\n",
        "Y = a + bX\n",
        "\n",
        "where Y is equal to our dependent variable and X is equal to our independent variable.\n",
        "\n",
        "log(income) = 6.54873 + (-0.18673 x sex)\n",
        "\n",
        "Since sex takes on the value of 1 for female and 0 for male, the predicted scores are as follows:\n",
        "\n",
        "log(income) = 6.54873 + (-0.18673 x 1) =  (Female)\n",
        "\n",
        "log(income) = 6.54873 + (-0.18673 x 0) = 6.73546 (Male)"
      ]
    },
    {
      "cell_type": "markdown",
      "metadata": {
        "id": "tz0TLk6ejxVY",
        "colab_type": "text"
      },
      "source": [
        "* On average, females haves less 25% PPP compared with males"
      ]
    },
    {
      "cell_type": "code",
      "metadata": {
        "id": "7jg0U3oAmew6",
        "colab_type": "code",
        "colab": {
          "base_uri": "https://localhost:8080/",
          "height": 34
        },
        "outputId": "bdd08951-6d00-4fd1-eb6d-b8c4d032f157"
      },
      "source": [
        "exp(0.22326)-1"
      ],
      "execution_count": 45,
      "outputs": [
        {
          "output_type": "display_data",
          "data": {
            "text/plain": [
              "[1] 0.2501456"
            ],
            "text/latex": "0.250145569332752",
            "text/markdown": "0.250145569332752",
            "text/html": [
              "0.250145569332752"
            ]
          },
          "metadata": {
            "tags": []
          }
        }
      ]
    },
    {
      "cell_type": "markdown",
      "metadata": {
        "id": "-xF-zvwVqC2a",
        "colab_type": "text"
      },
      "source": [
        "### Multiple Regression\n",
        "\n"
      ]
    },
    {
      "cell_type": "code",
      "metadata": {
        "id": "xAqRPBpPPtYr",
        "colab_type": "code",
        "outputId": "687390c0-f291-45f8-991f-db7d1cb30979",
        "colab": {
          "base_uri": "https://localhost:8080/",
          "height": 493
        }
      },
      "source": [
        "lm3 <-lm(dataPT.Y16_Income_Equivalised_log ~ dataPT.Y16_HH2a + as.factor(dataPT.Y16_Q5), data = dataPTsample)\n",
        "summary(lm3)"
      ],
      "execution_count": 37,
      "outputs": [
        {
          "output_type": "display_data",
          "data": {
            "text/plain": [
              "\n",
              "Call:\n",
              "lm(formula = dataPT.Y16_Income_Equivalised_log ~ dataPT.Y16_HH2a + \n",
              "    as.factor(dataPT.Y16_Q5), data = dataPTsample)\n",
              "\n",
              "Residuals:\n",
              "    Min      1Q  Median      3Q     Max \n",
              "-6.4583 -0.4058  0.0042  0.4167  2.7317 \n",
              "\n",
              "Coefficients:\n",
              "                           Estimate Std. Error t value Pr(>|t|)    \n",
              "(Intercept)                 6.01402    0.15123  39.766  < 2e-16 ***\n",
              "dataPT.Y16_HH2a1           -0.17283    0.02943  -5.873 4.87e-09 ***\n",
              "as.factor(dataPT.Y16_Q5)2   0.25480    0.18807   1.355  0.17561    \n",
              "as.factor(dataPT.Y16_Q5)3   0.16203    0.16559   0.979  0.32792    \n",
              "as.factor(dataPT.Y16_Q5)4   0.15778    0.16592   0.951  0.34172    \n",
              "as.factor(dataPT.Y16_Q5)5   0.25391    0.15468   1.641  0.10083    \n",
              "as.factor(dataPT.Y16_Q5)6   0.44038    0.15478   2.845  0.00447 ** \n",
              "as.factor(dataPT.Y16_Q5)7   0.62565    0.15361   4.073 4.79e-05 ***\n",
              "as.factor(dataPT.Y16_Q5)8   0.63667    0.15285   4.165 3.22e-05 ***\n",
              "as.factor(dataPT.Y16_Q5)9   0.85232    0.15656   5.444 5.72e-08 ***\n",
              "as.factor(dataPT.Y16_Q5)10  0.67827    0.15751   4.306 1.73e-05 ***\n",
              "---\n",
              "Signif. codes:  0 ‘***’ 0.001 ‘**’ 0.01 ‘*’ 0.05 ‘.’ 0.1 ‘ ’ 1\n",
              "\n",
              "Residual standard error: 0.7186 on 2461 degrees of freedom\n",
              "Multiple R-squared:  0.09277,\tAdjusted R-squared:  0.08908 \n",
              "F-statistic: 25.16 on 10 and 2461 DF,  p-value: < 2.2e-16\n"
            ]
          },
          "metadata": {
            "tags": []
          }
        }
      ]
    },
    {
      "cell_type": "markdown",
      "metadata": {
        "id": "glhhur4iuRWd",
        "colab_type": "text"
      },
      "source": [
        "log (income) =β0+β1×Level 10(10)\n",
        " =6.46123+(0.59048 )×(1)\n",
        "\n",
        "Similar resoning, per each level: \n",
        "\n",
        "log(income) = 6.01402 + (0.25480 x 1) =  (Level 2)\n",
        "\n",
        "...\n",
        "\n",
        "log(income) = 6.01402 + (0.67827 x 1) =  (Level 10)"
      ]
    },
    {
      "cell_type": "code",
      "metadata": {
        "id": "_Yjtid-ra5GN",
        "colab_type": "code",
        "outputId": "094f611e-ea8d-4c32-f4c8-70244d3e4ca2",
        "colab": {
          "base_uri": "https://localhost:8080/",
          "height": 629
        }
      },
      "source": [
        "library(stargazer)\n",
        "stargazer(lm3, type = 'text', no.space = TRUE)"
      ],
      "execution_count": 39,
      "outputs": [
        {
          "output_type": "stream",
          "text": [
            "\n",
            "============================================================\n",
            "                                  Dependent variable:       \n",
            "                           ---------------------------------\n",
            "                           dataPT.Y16_Income_Equivalised_log\n",
            "------------------------------------------------------------\n",
            "dataPT.Y16_HH2a1                       -0.173***            \n",
            "                                        (0.029)             \n",
            "as.factor(dataPT.Y16_Q5)2                0.255              \n",
            "                                        (0.188)             \n",
            "as.factor(dataPT.Y16_Q5)3                0.162              \n",
            "                                        (0.166)             \n",
            "as.factor(dataPT.Y16_Q5)4                0.158              \n",
            "                                        (0.166)             \n",
            "as.factor(dataPT.Y16_Q5)5                0.254              \n",
            "                                        (0.155)             \n",
            "as.factor(dataPT.Y16_Q5)6              0.440***             \n",
            "                                        (0.155)             \n",
            "as.factor(dataPT.Y16_Q5)7              0.626***             \n",
            "                                        (0.154)             \n",
            "as.factor(dataPT.Y16_Q5)8              0.637***             \n",
            "                                        (0.153)             \n",
            "as.factor(dataPT.Y16_Q5)9              0.852***             \n",
            "                                        (0.157)             \n",
            "as.factor(dataPT.Y16_Q5)10             0.678***             \n",
            "                                        (0.158)             \n",
            "Constant                               6.014***             \n",
            "                                        (0.151)             \n",
            "------------------------------------------------------------\n",
            "Observations                             2,472              \n",
            "R2                                       0.093              \n",
            "Adjusted R2                              0.089              \n",
            "Residual Std. Error                0.719 (df = 2461)        \n",
            "F Statistic                    25.165*** (df = 10; 2461)    \n",
            "============================================================\n",
            "Note:                            *p<0.1; **p<0.05; ***p<0.01\n"
          ],
          "name": "stdout"
        }
      ]
    },
    {
      "cell_type": "markdown",
      "metadata": {
        "id": "FGpSno9gQgvB",
        "colab_type": "text"
      },
      "source": [
        " ## Adding interation gender and hapiness"
      ]
    },
    {
      "cell_type": "code",
      "metadata": {
        "id": "dbfkuisbot6Z",
        "colab_type": "code",
        "colab": {
          "base_uri": "https://localhost:8080/",
          "height": 1000
        },
        "outputId": "caabff9a-284f-42df-debc-66838b3305ef"
      },
      "source": [
        "lm4 <-lm(dataPT.Y16_Income_Equivalised_log ~ dataPT.Y16_HH2a + as.factor(dataPT.Y16_Q5) + (dataPT.Y16_HH2a * as.factor(dataPT.Y16_Q5)^2), data = dataPTsample)\n",
        "summary(lm4)"
      ],
      "execution_count": 40,
      "outputs": [
        {
          "output_type": "display_data",
          "data": {
            "text/plain": [
              "\n",
              "Call:\n",
              "lm(formula = dataPT.Y16_Income_Equivalised_log ~ dataPT.Y16_HH2a + \n",
              "    as.factor(dataPT.Y16_Q5) + (dataPT.Y16_HH2a * as.factor(dataPT.Y16_Q5)^2), \n",
              "    data = dataPTsample)\n",
              "\n",
              "Residuals:\n",
              "    Min      1Q  Median      3Q     Max \n",
              "-6.4401 -0.3951  0.0067  0.4147  2.6960 \n",
              "\n",
              "Coefficients:\n",
              "                                            Estimate Std. Error t value\n",
              "(Intercept)                                  6.06361    0.27162  22.324\n",
              "dataPT.Y16_HH2a1                            -0.24410    0.32566  -0.750\n",
              "as.factor(dataPT.Y16_Q5)2                    0.49970    0.32566   1.534\n",
              "as.factor(dataPT.Y16_Q5)3                    0.06072    0.30073   0.202\n",
              "as.factor(dataPT.Y16_Q5)4                    0.19038    0.29243   0.651\n",
              "as.factor(dataPT.Y16_Q5)5                    0.15521    0.27797   0.558\n",
              "as.factor(dataPT.Y16_Q5)6                    0.42650    0.27858   1.531\n",
              "as.factor(dataPT.Y16_Q5)7                    0.58836    0.27669   2.126\n",
              "as.factor(dataPT.Y16_Q5)8                    0.56886    0.27541   2.065\n",
              "as.factor(dataPT.Y16_Q5)9                    0.82295    0.27998   2.939\n",
              "as.factor(dataPT.Y16_Q5)10                   0.57660    0.28210   2.044\n",
              "dataPT.Y16_HH2a1:as.factor(dataPT.Y16_Q5)2  -0.41953    0.39982  -1.049\n",
              "dataPT.Y16_HH2a1:as.factor(dataPT.Y16_Q5)3   0.14497    0.36027   0.402\n",
              "dataPT.Y16_HH2a1:as.factor(dataPT.Y16_Q5)4  -0.07325    0.35595  -0.206\n",
              "dataPT.Y16_HH2a1:as.factor(dataPT.Y16_Q5)5   0.15585    0.33476   0.466\n",
              "dataPT.Y16_HH2a1:as.factor(dataPT.Y16_Q5)6   0.01263    0.33517   0.038\n",
              "dataPT.Y16_HH2a1:as.factor(dataPT.Y16_Q5)7   0.05050    0.33279   0.152\n",
              "dataPT.Y16_HH2a1:as.factor(dataPT.Y16_Q5)8   0.10338    0.33123   0.312\n",
              "dataPT.Y16_HH2a1:as.factor(dataPT.Y16_Q5)9   0.03501    0.33813   0.104\n",
              "dataPT.Y16_HH2a1:as.factor(dataPT.Y16_Q5)10  0.15875    0.34030   0.467\n",
              "                                            Pr(>|t|)    \n",
              "(Intercept)                                  < 2e-16 ***\n",
              "dataPT.Y16_HH2a1                             0.45359    \n",
              "as.factor(dataPT.Y16_Q5)2                    0.12506    \n",
              "as.factor(dataPT.Y16_Q5)3                    0.84001    \n",
              "as.factor(dataPT.Y16_Q5)4                    0.51509    \n",
              "as.factor(dataPT.Y16_Q5)5                    0.57665    \n",
              "as.factor(dataPT.Y16_Q5)6                    0.12590    \n",
              "as.factor(dataPT.Y16_Q5)7                    0.03356 *  \n",
              "as.factor(dataPT.Y16_Q5)8                    0.03898 *  \n",
              "as.factor(dataPT.Y16_Q5)9                    0.00332 ** \n",
              "as.factor(dataPT.Y16_Q5)10                   0.04106 *  \n",
              "dataPT.Y16_HH2a1:as.factor(dataPT.Y16_Q5)2   0.29414    \n",
              "dataPT.Y16_HH2a1:as.factor(dataPT.Y16_Q5)3   0.68744    \n",
              "dataPT.Y16_HH2a1:as.factor(dataPT.Y16_Q5)4   0.83698    \n",
              "dataPT.Y16_HH2a1:as.factor(dataPT.Y16_Q5)5   0.64158    \n",
              "dataPT.Y16_HH2a1:as.factor(dataPT.Y16_Q5)6   0.96995    \n",
              "dataPT.Y16_HH2a1:as.factor(dataPT.Y16_Q5)7   0.87939    \n",
              "dataPT.Y16_HH2a1:as.factor(dataPT.Y16_Q5)8   0.75497    \n",
              "dataPT.Y16_HH2a1:as.factor(dataPT.Y16_Q5)9   0.91755    \n",
              "dataPT.Y16_HH2a1:as.factor(dataPT.Y16_Q5)10  0.64090    \n",
              "---\n",
              "Signif. codes:  0 ‘***’ 0.001 ‘**’ 0.01 ‘*’ 0.05 ‘.’ 0.1 ‘ ’ 1\n",
              "\n",
              "Residual standard error: 0.7186 on 2452 degrees of freedom\n",
              "Multiple R-squared:  0.09602,\tAdjusted R-squared:  0.08902 \n",
              "F-statistic: 13.71 on 19 and 2452 DF,  p-value: < 2.2e-16\n"
            ]
          },
          "metadata": {
            "tags": []
          }
        }
      ]
    },
    {
      "cell_type": "markdown",
      "metadata": {
        "id": "jON-rS5CPW1w",
        "colab_type": "text"
      },
      "source": [
        "## Interpretation\n",
        "\n",
        "* dependent/response variable is log-transformed \n",
        "\n",
        "To know for female (as dataPT.Y16_HH2a1 = 1) and each hapiness level, there are the following coeficients (as the base is for male)\n",
        "\n",
        "* dataPT.Y16_HH2a1:as.factor(dataPT.Y16_Q5)2:   0.29414    \n",
        "* dataPT.Y16_HH2a1:as.factor(dataPT.Y16_Q5)3:   0.68744    \n",
        "* dataPT.Y16_HH2a1:as.factor(dataPT.Y16_Q5)4:   0.83698    \n",
        "* dataPT.Y16_HH2a1:as.factor(dataPT.Y16_Q5)5:   0.64158    \n",
        "* dataPT.Y16_HH2a1:as.factor(dataPT.Y16_Q5)6:   0.96995    \n",
        "* dataPT.Y16_HH2a1:as.factor(dataPT.Y16_Q5)7:   0.87939    \n",
        "* dataPT.Y16_HH2a1:as.factor(dataPT.Y16_Q5)8:   0.75497    \n",
        "* dataPT.Y16_HH2a1:as.factor(dataPT.Y16_Q5)9:   0.91755    \n",
        "* dataPT.Y16_HH2a1:as.factor(dataPT.Y16_Q5)10:  0.64090  \n"
      ]
    },
    {
      "cell_type": "code",
      "metadata": {
        "id": "VezZyReQcE8z",
        "colab_type": "code",
        "outputId": "c8778bfa-8c79-4d95-d282-1a88023a028f",
        "colab": {
          "base_uri": "https://localhost:8080/",
          "height": 437
        }
      },
      "source": [
        "layout(matrix(c(1,2,3,4),2,2)) \n",
        "plot(lm3)"
      ],
      "execution_count": 44,
      "outputs": [
        {
          "output_type": "display_data",
          "data": {
            "image/png": "[encoded data removed]",
            "text/plain": [
              "Plot with title “”"
            ]
          },
          "metadata": {
            "tags": [],
            "image/png": {
              "width": 420,
              "height": 420
            },
            "text/plain": {
              "width": 420,
              "height": 420
            }
          }
        }
      ]
    }
  ]
}