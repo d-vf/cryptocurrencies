{
  "nbformat": 4,
  "nbformat_minor": 0,
  "metadata": {
    "colab": {
      "name": "HW - R notebook.ipynb",
      "provenance": [],
      "machine_shape": "hm",
      "authorship_tag": "ABX9TyPb7ReCnGkZUSjOZflLqNpY",
      "include_colab_link": true
    },
    "kernelspec": {
      "name": "ir",
      "display_name": "R"
    }
  },
  "cells": [
    {
      "cell_type": "markdown",
      "metadata": {
        "id": "view-in-github",
        "colab_type": "text"
      },
      "source": [
        "<a href=\"https://colab.research.google.com/github/d-vf/notebooks/blob/master/HW_R_notebook.ipynb\" target=\"_parent\"><img src=\"https://colab.research.google.com/assets/colab-badge.svg\" alt=\"Open In Colab\"/></a>"
      ]
    },
    {
      "cell_type": "markdown",
      "metadata": {
        "id": "yJ0Kpe-pZ8JE",
        "colab_type": "text"
      },
      "source": [
        "## Setup\n",
        "\n",
        "### R kernel\n",
        "https://github.com/IRkernel/IRkernel"
      ]
    },
    {
      "cell_type": "code",
      "metadata": {
        "id": "96-GvOmjNpHv",
        "colab_type": "code",
        "outputId": "c777fca6-db3a-4c2f-e258-3d7a2de7102c",
        "colab": {
          "base_uri": "https://localhost:8080/",
          "height": 102
        }
      },
      "source": [
        "cat(system('python3 -c \"from google.colab import drive\\ndrive.mount()\"', intern=TRUE), sep='\\n', wait=TRUE)"
      ],
      "execution_count": 5,
      "outputs": [
        {
          "output_type": "stream",
          "text": [
            "Warning message in system(\"python3 -c \\\"from google.colab import drive\\ndrive.mount()\\\"\", :\n",
            "“running command 'python3 -c \"from google.colab import drive\n",
            "drive.mount()\"' had status 1”\n"
          ],
          "name": "stderr"
        },
        {
          "output_type": "stream",
          "text": [
            "\n",
            "TRUE\n"
          ],
          "name": "stdout"
        }
      ]
    },
    {
      "cell_type": "code",
      "metadata": {
        "id": "uQhFVgAMMkOV",
        "colab_type": "code",
        "colab": {}
      },
      "source": [
        "system(\"add-apt-repository -y ppa:marutter/rrutter\")\n",
        "system(\"add-apt-repository -y ppa:marutter/c2d4u\")\n",
        "system(\"apt-get update\")\n",
        "system(\"apt install -y r-cran-rstan\")"
      ],
      "execution_count": 0,
      "outputs": []
    },
    {
      "cell_type": "markdown",
      "metadata": {
        "id": "SUxZr1OFskLP",
        "colab_type": "text"
      },
      "source": [
        "## Libraries"
      ]
    },
    {
      "cell_type": "code",
      "metadata": {
        "id": "d0CTkD0BM8Iv",
        "colab_type": "code",
        "outputId": "939cd95e-bffd-4eed-c047-c785fe78e42e",
        "colab": {
          "base_uri": "https://localhost:8080/",
          "height": 578
        }
      },
      "source": [
        "install.packages('codetools') #Code Analysis Tools for R\n",
        "install.packages('data.table') #Fast aggregation of large data (not needed as 20 0000 is a small sample)\n",
        "install.packages('ggplot2') #for basic charts this is not needed (as has a learning curve)\n",
        "install.packages('stargazer') #beautiful LATEX, HTML and ASCII tables from R statistical output (not needed as the output is not latex and be used UTF-8)\n",
        "install.packages('lmtest') #Testing Linear Regression Models\n",
        "install.packages('dplyr') # A Grammar of Data Manipulation (to replace data.table)\n",
        "install.packages('aod')\n",
        "install.packages('mfx') #for marginal effects\n",
        "\n",
        "install.packages('mice') # for missing data\n",
        "install.packages('VIM') # or missing data\n",
        "\n",
        "install.packages('gsheet') #for reading from gsheet (sliced file)\n",
        "install.packages('GGally') # corr plot and consusion matrix"
      ],
      "execution_count": 7,
      "outputs": [
        {
          "output_type": "stream",
          "text": [
            "Installing package into ‘/usr/local/lib/R/site-library’\n",
            "(as ‘lib’ is unspecified)\n",
            "\n",
            "Installing package into ‘/usr/local/lib/R/site-library’\n",
            "(as ‘lib’ is unspecified)\n",
            "\n",
            "Installing package into ‘/usr/local/lib/R/site-library’\n",
            "(as ‘lib’ is unspecified)\n",
            "\n",
            "Installing package into ‘/usr/local/lib/R/site-library’\n",
            "(as ‘lib’ is unspecified)\n",
            "\n",
            "Installing package into ‘/usr/local/lib/R/site-library’\n",
            "(as ‘lib’ is unspecified)\n",
            "\n",
            "Installing package into ‘/usr/local/lib/R/site-library’\n",
            "(as ‘lib’ is unspecified)\n",
            "\n",
            "Installing package into ‘/usr/local/lib/R/site-library’\n",
            "(as ‘lib’ is unspecified)\n",
            "\n",
            "Installing package into ‘/usr/local/lib/R/site-library’\n",
            "(as ‘lib’ is unspecified)\n",
            "\n",
            "Installing package into ‘/usr/local/lib/R/site-library’\n",
            "(as ‘lib’ is unspecified)\n",
            "\n",
            "Installing package into ‘/usr/local/lib/R/site-library’\n",
            "(as ‘lib’ is unspecified)\n",
            "\n",
            "Installing package into ‘/usr/local/lib/R/site-library’\n",
            "(as ‘lib’ is unspecified)\n",
            "\n"
          ],
          "name": "stderr"
        }
      ]
    },
    {
      "cell_type": "markdown",
      "metadata": {
        "id": "TAycPRWRGTMW",
        "colab_type": "text"
      },
      "source": [
        "# HomeWork Assignment I\n",
        "## Data description, Single Regression and Multiple Regression\n",
        "\n",
        "Objective: Work through data, present rich descriptive statistics and build some models. Some hints:\n",
        "* Set a general research question in a topic of your interest\n",
        "* Select the data\n",
        "* Create the variables you need for the analysis\n",
        "* Explore and describe the data and show some statistics\n",
        "* Perform single regressions and explain the importance of the variables used\n",
        "* Perform multiple regression and explain clearly\n",
        "\n",
        "Page limit: 3 pages.\n",
        "The evaluation will take into account the following key factors:\n",
        " * Data analysis\n",
        " * Interpretation and clear explanation of results\n",
        "\n"
      ]
    },
    {
      "cell_type": "markdown",
      "metadata": {
        "id": "eq4DYPKvG1qY",
        "colab_type": "text"
      },
      "source": [
        "## Research Question: \n",
        "\n",
        "Factors that influence having the ability to Afford keeping your home adequately warm, where dependeant variable, dichotomous is \"Afford keeping your home adequately warm\" (Y16_Q89a) and takes 0 as Yes and 1 as not and the independant variables (preditor) are:\n",
        "\n",
        "- Arrears in utility bills, such as electricity, water, gas (dichotomous, 0 and 1)\n",
        "- Equivalised monthly household income in PPP euros (continuous)\n",
        "\n",
        "Data: Dataset:European Quality of Life Survey Integrated Data File, 2003-2016\n",
        "Source: https://beta.ukdataservice.ac.uk/\n",
        "\n",
        "Background: Energy Poverty can be measure by the ability to Afford keeping your home adequately warm (Y16_Q89a)\n",
        "\n",
        "\n"
      ]
    },
    {
      "cell_type": "code",
      "metadata": {
        "id": "_G1SDoIQt3kx",
        "colab_type": "code",
        "colab": {}
      },
      "source": [
        "library(readr)\n",
        "url <- \"/eqls_integrated_trend_2003_2016.csv\"\n",
        "data <- read.csv(url, header=TRUE, quote=\"\\\"\", na.strings = \"NA\", fill = TRUE )\n",
        "#summary(data)"
      ],
      "execution_count": 0,
      "outputs": []
    },
    {
      "cell_type": "markdown",
      "metadata": {
        "id": "djddXqYgWuTe",
        "colab_type": "text"
      },
      "source": [
        "## Filter PT\n",
        "\n",
        "(it was filtered by PT) as PT has a higher % of enery poverty compared with another EU contries"
      ]
    },
    {
      "cell_type": "code",
      "metadata": {
        "id": "haUigVDRE3kQ",
        "colab_type": "code",
        "colab": {}
      },
      "source": [
        "dataPT <- subset(data, Y16_Country=='23')"
      ],
      "execution_count": 0,
      "outputs": []
    },
    {
      "cell_type": "markdown",
      "metadata": {
        "id": "BFJkhxEI96s9",
        "colab_type": "text"
      },
      "source": [
        "## Alternative filtered file"
      ]
    },
    {
      "cell_type": "code",
      "metadata": {
        "id": "kFl8rsxKHtJu",
        "colab_type": "code",
        "colab": {}
      },
      "source": [
        "write_csv(dataPT, path = \"dataPT.csv\") #/content/dataPT.csv"
      ],
      "execution_count": 0,
      "outputs": []
    },
    {
      "cell_type": "code",
      "metadata": {
        "id": "LHVyAoMDH5_F",
        "colab_type": "code",
        "colab": {}
      },
      "source": [
        "library(gsheet)\n",
        "url <-gsheet2tbl('https://docs.google.com/spreadsheets/d/122cHA11edHVY2KdRU2eZIb4EJrcMsOzaDcCucs1zr_I/edit#gid=75732280')\n",
        "dataPTGS <- as.data.frame(url, header=TRUE)"
      ],
      "execution_count": 0,
      "outputs": []
    },
    {
      "cell_type": "markdown",
      "metadata": {
        "id": "kQK_cyyKbnww",
        "colab_type": "text"
      },
      "source": [
        "# Select Variables\n",
        "\n",
        "Description of the variables: \n",
        "* Y16_Q89a (Afford keeping your home adequately warm)\n",
        "\n",
        "* Y16_Income_Equivalised (Equivalised monthly household income in PPP euros)\n",
        "* Y16_Q93b (Arrears in utility bills, such as electricity, water, gas)\n",
        "\n",
        "\n",
        "# does not have\n",
        "* Y16_Q97B Variable (What range best matches your household's total net monthly income?\n",
        "* Y16_Q25f (Lack of facilities (heating or cooling) to keep a comfortable temperature at home)\n",
        "\n",
        "* Y16_Q53 (Urbanisation (subjective)\n",
        "unbalanced\n"
      ]
    },
    {
      "cell_type": "code",
      "metadata": {
        "id": "jMG2lOJuYzR4",
        "colab_type": "code",
        "colab": {}
      },
      "source": [
        "dataPTsample <- data.frame(dataPT$Y16_Q89a, dataPT$Y16_Income_Equivalised, dataPT$Y16_Q93b)"
      ],
      "execution_count": 0,
      "outputs": []
    },
    {
      "cell_type": "code",
      "metadata": {
        "id": "KVyCmX9upTlF",
        "colab_type": "code",
        "colab": {}
      },
      "source": [
        "#removing NA's\n",
        "#dataPTsample <- dataPTsample[complete.cases(dataPTsample), ]"
      ],
      "execution_count": 0,
      "outputs": []
    },
    {
      "cell_type": "markdown",
      "metadata": {
        "id": "VD0JP1jL06ue",
        "colab_type": "text"
      },
      "source": [
        "## Initial inspection"
      ]
    },
    {
      "cell_type": "code",
      "metadata": {
        "id": "tF6pTCDaLbQb",
        "colab_type": "code",
        "outputId": "af50dbe2-a4ae-4212-a9a7-9784b1126378",
        "colab": {
          "base_uri": "https://localhost:8080/",
          "height": 153
        }
      },
      "source": [
        "summary(dataPTsample) "
      ],
      "execution_count": 13,
      "outputs": [
        {
          "output_type": "display_data",
          "data": {
            "text/plain": [
              " dataPT.Y16_Q89a  dataPT.Y16_Income_Equivalised dataPT.Y16_Q93b \n",
              " Min.   : 1.000   Min.   :   1.212              Min.   : 1.000  \n",
              " 1st Qu.: 1.000   1st Qu.: 383.142              1st Qu.: 2.000  \n",
              " Median : 1.000   Median : 629.723              Median : 2.000  \n",
              " Mean   : 2.649   Mean   : 825.679              Mean   : 2.534  \n",
              " 3rd Qu.: 2.000   3rd Qu.: 979.431              3rd Qu.: 2.000  \n",
              " Max.   :99.000   Max.   :9760.705              Max.   :99.000  \n",
              "                  NA's   :1592                                  "
            ]
          },
          "metadata": {
            "tags": []
          }
        }
      ]
    },
    {
      "cell_type": "markdown",
      "metadata": {
        "id": "9JRRJ2xs_NKG",
        "colab_type": "text"
      },
      "source": [
        "### Missing values"
      ]
    },
    {
      "cell_type": "code",
      "metadata": {
        "id": "t85oC5iH1CgH",
        "colab_type": "code",
        "colab": {
          "base_uri": "https://localhost:8080/",
          "height": 476
        },
        "outputId": "4d397054-9aba-42ea-d112-47b4ae338f3f"
      },
      "source": [
        "library(mice)\n",
        "library(VIM)"
      ],
      "execution_count": 14,
      "outputs": [
        {
          "output_type": "stream",
          "text": [
            "\n",
            "Attaching package: ‘mice’\n",
            "\n",
            "\n",
            "The following objects are masked from ‘package:base’:\n",
            "\n",
            "    cbind, rbind\n",
            "\n",
            "\n",
            "Loading required package: colorspace\n",
            "\n",
            "Loading required package: grid\n",
            "\n",
            "VIM is ready to use.\n",
            "\n",
            "\n",
            "Suggestions and bug-reports can be submitted at: https://github.com/statistikat/VIM/issues\n",
            "\n",
            "\n",
            "Attaching package: ‘VIM’\n",
            "\n",
            "\n",
            "The following object is masked from ‘package:datasets’:\n",
            "\n",
            "    sleep\n",
            "\n",
            "\n"
          ],
          "name": "stderr"
        }
      ]
    },
    {
      "cell_type": "code",
      "metadata": {
        "id": "L7ppbmSk1H_G",
        "colab_type": "code",
        "outputId": "49ed62bb-5207-447d-e2ec-239806333795",
        "colab": {
          "base_uri": "https://localhost:8080/",
          "height": 539
        }
      },
      "source": [
        "aggr_plot <- aggr(dataPTsample, col=c('grey','red'), numbers=TRUE, sortVars=TRUE, labels=names(dataPTsample), cex.axis=.3,cex.numbers=0.5, gap=0.3, ylab=c(\"Histogram of missing data\",\"Pattern\"), width=9, height=6)"
      ],
      "execution_count": 15,
      "outputs": [
        {
          "output_type": "stream",
          "text": [
            "\n",
            " Variables sorted by number of missings: \n",
            "                      Variable     Count\n",
            " dataPT.Y16_Income_Equivalised 0.3901005\n",
            "               dataPT.Y16_Q89a 0.0000000\n",
            "               dataPT.Y16_Q93b 0.0000000\n"
          ],
          "name": "stdout"
        },
        {
          "output_type": "display_data",
          "data": {
            "image/png": "[encoded data removed]",
            "text/plain": [
              "plot without title"
            ]
          },
          "metadata": {
            "tags": [],
            "image/png": {
              "width": 420,
              "height": 420
            },
            "text/plain": {
              "width": 420,
              "height": 420
            }
          }
        }
      ]
    },
    {
      "cell_type": "markdown",
      "metadata": {
        "id": "A9tNMHoCDIMR",
        "colab_type": "text"
      },
      "source": [
        "- Removing all dataPT.Y16_Income_Equivalised with NA would change the sample (almost 40%)\n",
        "\n",
        "- For dependant with Value = 99.0 Label = (Refusal)  and Value = 98.0 Label = (Don't know) will be removed (as it is 0/1 probability). Multinomial probit model is not justified as it would e for 56 cases.\n",
        "\n",
        "- For categorical 98 and 99,can be coded as separate grup besides (0 and 1), keeping those observations"
      ]
    },
    {
      "cell_type": "markdown",
      "metadata": {
        "id": "KEjftNDxby0E",
        "colab_type": "text"
      },
      "source": [
        "## Clean up "
      ]
    },
    {
      "cell_type": "markdown",
      "metadata": {
        "id": "Ynd8tAPxb5WH",
        "colab_type": "text"
      },
      "source": [
        "\n",
        "## Remove:\n",
        "\n",
        "Value = 99.0\tLabel = (Refusal)\n",
        "Value = 98.0\tLabel = (Don't know)\n",
        "\n",
        "## Replace\n",
        "\n",
        "Value = 1.0\tLabel = Yes, can afford if want -> 0\n",
        "\n",
        "Value = 2.0\tLabel = No, cannot afford it -> 1\n",
        "\n",
        "## Set as factor \n",
        "(0/1)\n",
        "\n"
      ]
    },
    {
      "cell_type": "markdown",
      "metadata": {
        "id": "wrOj7XRgcc7x",
        "colab_type": "text"
      },
      "source": [
        "## Depedant (response) Variable)\n",
        "\n",
        "### Y16_Q89a Variable label = Afford keeping your home adequately warm\n",
        "\n",
        "* Frequency table (dependant variable)"
      ]
    },
    {
      "cell_type": "code",
      "metadata": {
        "id": "Xp8h3oXOM70a",
        "colab_type": "code",
        "outputId": "5c02692c-b4c4-4dfd-c614-75220d9272e8",
        "colab": {
          "base_uri": "https://localhost:8080/",
          "height": 68
        }
      },
      "source": [
        "table <- table(dataPTsample$dataPT.Y16_Q89a)\n",
        "table"
      ],
      "execution_count": 16,
      "outputs": [
        {
          "output_type": "display_data",
          "data": {
            "text/plain": [
              "\n",
              "   1    2   98   99 \n",
              "2731 1294   52    4 "
            ]
          },
          "metadata": {
            "tags": []
          }
        }
      ]
    },
    {
      "cell_type": "markdown",
      "metadata": {
        "id": "6yGDK7DOOZ2h",
        "colab_type": "text"
      },
      "source": [
        "* Proportions"
      ]
    },
    {
      "cell_type": "code",
      "metadata": {
        "id": "YUWj7O-8OPKp",
        "colab_type": "code",
        "outputId": "c3a79573-fa38-41ed-8a41-b924a0f96162",
        "colab": {
          "base_uri": "https://localhost:8080/",
          "height": 68
        }
      },
      "source": [
        "prop.table(table)"
      ],
      "execution_count": 17,
      "outputs": [
        {
          "output_type": "display_data",
          "data": {
            "text/plain": [
              "\n",
              "           1            2           98           99 \n",
              "0.6691987258 0.3170791473 0.0127419750 0.0009801519 "
            ]
          },
          "metadata": {
            "tags": []
          }
        }
      ]
    },
    {
      "cell_type": "markdown",
      "metadata": {
        "id": "feE3c2mIQ9zc",
        "colab_type": "text"
      },
      "source": [
        "For dependant with Value = 99.0 Label = (Refusal) and Value = 98.0 Label = (Don't know) will be removed (as it is 0/1 probability). Multinomial probit model is not justified as it would be for 56 cases."
      ]
    },
    {
      "cell_type": "code",
      "metadata": {
        "id": "Ind2czWOHqTS",
        "colab_type": "code",
        "colab": {}
      },
      "source": [
        "dataPTsample <- subset(dataPTsample, dataPT.Y16_Q89a != '99' & dataPT.Y16_Q89a!= '98')"
      ],
      "execution_count": 0,
      "outputs": []
    },
    {
      "cell_type": "markdown",
      "metadata": {
        "id": "yED9rlDBRDuZ",
        "colab_type": "text"
      },
      "source": [
        "Value = 1.0 Label = Yes, can afford if want -> 0\n",
        "\n",
        "Value = 2.0 Label = No, cannot afford it -> 1\n",
        "\n",
        "Set as factor (0 & 1)"
      ]
    },
    {
      "cell_type": "code",
      "metadata": {
        "id": "ki5mgZTmWS9I",
        "colab_type": "code",
        "colab": {}
      },
      "source": [
        "dataPTsample$dataPT.Y16_Q89a[dataPTsample$dataPT.Y16_Q89a == 1] <- 0"
      ],
      "execution_count": 0,
      "outputs": []
    },
    {
      "cell_type": "code",
      "metadata": {
        "id": "I7FkVHWzXiRv",
        "colab_type": "code",
        "colab": {}
      },
      "source": [
        "dataPTsample$dataPT.Y16_Q89a[dataPTsample$dataPT.Y16_Q89a == 2] <- 1"
      ],
      "execution_count": 0,
      "outputs": []
    },
    {
      "cell_type": "code",
      "metadata": {
        "id": "QwtHtkFOX3Kf",
        "colab_type": "code",
        "outputId": "758078ec-11d6-4296-9e7a-469960f3e523",
        "colab": {
          "base_uri": "https://localhost:8080/",
          "height": 34
        }
      },
      "source": [
        "head(dataPTsample$dataPT.Y16_Q89a)"
      ],
      "execution_count": 21,
      "outputs": [
        {
          "output_type": "display_data",
          "data": {
            "text/plain": [
              "[1] 0 0 0 0 0 0"
            ],
            "text/latex": "\\begin{enumerate*}\n\\item 0\n\\item 0\n\\item 0\n\\item 0\n\\item 0\n\\item 0\n\\end{enumerate*}\n",
            "text/markdown": "1. 0\n2. 0\n3. 0\n4. 0\n5. 0\n6. 0\n\n\n",
            "text/html": [
              "<style>\n",
              ".list-inline {list-style: none; margin:0; padding: 0}\n",
              ".list-inline>li {display: inline-block}\n",
              ".list-inline>li:not(:last-child)::after {content: \"\\00b7\"; padding: 0 .5ex}\n",
              "</style>\n",
              "<ol class=list-inline><li>0</li><li>0</li><li>0</li><li>0</li><li>0</li><li>0</li></ol>\n"
            ]
          },
          "metadata": {
            "tags": []
          }
        }
      ]
    },
    {
      "cell_type": "code",
      "metadata": {
        "id": "Sy6m2EmzHhSU",
        "colab_type": "code",
        "colab": {}
      },
      "source": [
        "dataPTsample$dataPT.Y16_Q89a <- as.factor(dataPTsample$dataPT.Y16_Q89a)"
      ],
      "execution_count": 0,
      "outputs": []
    },
    {
      "cell_type": "code",
      "metadata": {
        "id": "KeKBoEUMH8Zh",
        "colab_type": "code",
        "outputId": "0c87b4a9-c597-4448-aca2-117595226173",
        "colab": {
          "base_uri": "https://localhost:8080/",
          "height": 34
        }
      },
      "source": [
        "summary(dataPTsample$dataPT.Y16_Q89a)"
      ],
      "execution_count": 23,
      "outputs": [
        {
          "output_type": "display_data",
          "data": {
            "text/plain": [
              "   0    1 \n",
              "2731 1294 "
            ],
            "text/latex": "\\begin{description*}\n\\item[0] 2731\n\\item[1] 1294\n\\end{description*}\n",
            "text/markdown": "0\n:   27311\n:   1294\n\n",
            "text/html": [
              "<style>\n",
              ".dl-inline {width: auto; margin:0; padding: 0}\n",
              ".dl-inline>dt, .dl-inline>dd {float: none; width: auto; display: inline-block}\n",
              ".dl-inline>dt::after {content: \":\\0020\"; padding-right: .5ex}\n",
              ".dl-inline>dt:not(:first-of-type) {padding-left: .5ex}\n",
              "</style><dl class=dl-inline><dt>0</dt><dd>2731</dd><dt>1</dt><dd>1294</dd></dl>\n"
            ]
          },
          "metadata": {
            "tags": []
          }
        }
      ]
    },
    {
      "cell_type": "code",
      "metadata": {
        "id": "L39MqNjCjZRM",
        "colab_type": "code",
        "outputId": "e0b6a9ce-d42e-40f7-b3c9-c8c92b223442",
        "colab": {
          "base_uri": "https://localhost:8080/",
          "height": 437
        }
      },
      "source": [
        "library(ggplot2)\n",
        "#plot(dataPTsample$dataPT.Y16_Q89a)\n",
        "g <- ggplot(dataPTsample, aes(dataPT.Y16_Q89a))\n",
        "# Number of cars in each class:\n",
        "g + geom_bar() + labs(title= \"Afford keeping your home adequately warm \\ (0 = Yes and 1 = No)\",  y=\"Count\", x = \"Response\")"
      ],
      "execution_count": 24,
      "outputs": [
        {
          "output_type": "display_data",
          "data": {
            "image/png": "[encoded data removed]",
            "text/plain": [
              "plot without title"
            ]
          },
          "metadata": {
            "tags": [],
            "image/png": {
              "width": 420,
              "height": 420
            },
            "text/plain": {
              "width": 420,
              "height": 420
            }
          }
        }
      ]
    },
    {
      "cell_type": "code",
      "metadata": {
        "id": "A_vTigtwSG_x",
        "colab_type": "code",
        "outputId": "70ef57e3-e0c2-43cd-92ec-e128bd4d3a95",
        "colab": {
          "base_uri": "https://localhost:8080/",
          "height": 68
        }
      },
      "source": [
        "table1 <- table(dataPTsample$dataPT.Y16_Q89a)\n",
        "table1"
      ],
      "execution_count": 25,
      "outputs": [
        {
          "output_type": "display_data",
          "data": {
            "text/plain": [
              "\n",
              "   0    1 \n",
              "2731 1294 "
            ]
          },
          "metadata": {
            "tags": []
          }
        }
      ]
    },
    {
      "cell_type": "code",
      "metadata": {
        "id": "GyQouZD6SOQc",
        "colab_type": "code",
        "outputId": "bf96d5e3-ed39-4e8e-e4fe-2ae5ab7fe7e9",
        "colab": {
          "base_uri": "https://localhost:8080/",
          "height": 68
        }
      },
      "source": [
        "prop.table(table1)"
      ],
      "execution_count": 26,
      "outputs": [
        {
          "output_type": "display_data",
          "data": {
            "text/plain": [
              "\n",
              "        0         1 \n",
              "0.6785093 0.3214907 "
            ]
          },
          "metadata": {
            "tags": []
          }
        }
      ]
    },
    {
      "cell_type": "markdown",
      "metadata": {
        "id": "h7__YdyaSZF0",
        "colab_type": "text"
      },
      "source": [
        "## Predictors"
      ]
    },
    {
      "cell_type": "markdown",
      "metadata": {
        "id": "KXzOAQrUcwfJ",
        "colab_type": "text"
      },
      "source": [
        "### Y16_Q93b\tVariable label = Arrears in utility bills, such as electricity, water, gas\n"
      ]
    },
    {
      "cell_type": "code",
      "metadata": {
        "id": "10DrIZVej5pF",
        "colab_type": "code",
        "outputId": "3a940522-17ef-4e1e-801a-930cbcd3293a",
        "colab": {
          "base_uri": "https://localhost:8080/",
          "height": 51
        }
      },
      "source": [
        "summary(dataPTsample$dataPT.Y16_Q93b)"
      ],
      "execution_count": 27,
      "outputs": [
        {
          "output_type": "display_data",
          "data": {
            "text/plain": [
              "   Min. 1st Qu.  Median    Mean 3rd Qu.    Max. \n",
              "  1.000   2.000   2.000   2.448   2.000  99.000 "
            ]
          },
          "metadata": {
            "tags": []
          }
        }
      ]
    },
    {
      "cell_type": "code",
      "metadata": {
        "id": "xhKZlLjdTk2L",
        "colab_type": "code",
        "outputId": "04a75c81-e016-42c0-c279-a7e2013236b4",
        "colab": {
          "base_uri": "https://localhost:8080/",
          "height": 68
        }
      },
      "source": [
        "table3 <- table(dataPTsample$dataPT.Y16_Q93b)\n",
        "table3"
      ],
      "execution_count": 28,
      "outputs": [
        {
          "output_type": "display_data",
          "data": {
            "text/plain": [
              "\n",
              "   1    2   98   99 \n",
              " 407 3595   22    1 "
            ]
          },
          "metadata": {
            "tags": []
          }
        }
      ]
    },
    {
      "cell_type": "code",
      "metadata": {
        "id": "A7RG1C3nTsIG",
        "colab_type": "code",
        "outputId": "dce4b543-29ba-464f-af5e-7e99dd30ba10",
        "colab": {
          "base_uri": "https://localhost:8080/",
          "height": 68
        }
      },
      "source": [
        "prop.table(table3)"
      ],
      "execution_count": 29,
      "outputs": [
        {
          "output_type": "display_data",
          "data": {
            "text/plain": [
              "\n",
              "           1            2           98           99 \n",
              "0.1011180124 0.8931677019 0.0054658385 0.0002484472 "
            ]
          },
          "metadata": {
            "tags": []
          }
        }
      ]
    },
    {
      "cell_type": "code",
      "metadata": {
        "id": "ZaBdmKYVyMrH",
        "colab_type": "code",
        "colab": {}
      },
      "source": [
        "is.nan.data.frame <- function(x)\n",
        "  do.call(cbind, lapply(x, is.nan))\n",
        "\n",
        "dataPTsample$dataPT.Y16_Q93b[is.nan(dataPTsample$dataPT.Y16_Q93b)] <- NA"
      ],
      "execution_count": 0,
      "outputs": []
    },
    {
      "cell_type": "markdown",
      "metadata": {
        "id": "p27NWWusTgZa",
        "colab_type": "text"
      },
      "source": [
        "- For categorical 98 and 99,can be coded as separate grup besides (0 and 1), keeping those observations"
      ]
    },
    {
      "cell_type": "code",
      "metadata": {
        "id": "R30dKAHkklXg",
        "colab_type": "code",
        "colab": {}
      },
      "source": [
        "dataPTsample$dataPT.Y16_Q93b <- as.factor(dataPTsample$dataPT.Y16_Q93b)"
      ],
      "execution_count": 0,
      "outputs": []
    },
    {
      "cell_type": "code",
      "metadata": {
        "id": "65BjiwJ-kxk_",
        "colab_type": "code",
        "outputId": "6ebb6ad6-7e8e-4981-9e69-7f505ca60713",
        "colab": {
          "base_uri": "https://localhost:8080/",
          "height": 437
        }
      },
      "source": [
        "g1 <- ggplot(dataPTsample, aes(dataPT.Y16_Q93b))\n",
        "# Number of cars in each class:\n",
        "g1 + geom_bar() + labs(title= \"Arrears in utility bills, such as electricity, water, gas \n",
        " (1 = Yes, 2 = No, 99 = (Refusal) 98 = (Don't know)\",  y=\"Count\", x = \"Response\")"
      ],
      "execution_count": 32,
      "outputs": [
        {
          "output_type": "display_data",
          "data": {
            "image/png": "[encoded data removed]",
            "text/plain": [
              "plot without title"
            ]
          },
          "metadata": {
            "tags": [],
            "image/png": {
              "width": 420,
              "height": 420
            },
            "text/plain": {
              "width": 420,
              "height": 420
            }
          }
        }
      ]
    },
    {
      "cell_type": "code",
      "metadata": {
        "id": "hnzqxv5EkyH-",
        "colab_type": "code",
        "outputId": "8bc969d5-270a-4687-cf32-ab520e66d424",
        "colab": {
          "base_uri": "https://localhost:8080/",
          "height": 34
        }
      },
      "source": [
        "summary(dataPTsample$dataPT.Y16_Q93b)"
      ],
      "execution_count": 33,
      "outputs": [
        {
          "output_type": "display_data",
          "data": {
            "text/plain": [
              "   1    2   98   99 \n",
              " 407 3595   22    1 "
            ],
            "text/latex": "\\begin{description*}\n\\item[1] 407\n\\item[2] 3595\n\\item[98] 22\n\\item[99] 1\n\\end{description*}\n",
            "text/markdown": "1\n:   4072\n:   359598\n:   2299\n:   1\n\n",
            "text/html": [
              "<style>\n",
              ".dl-inline {width: auto; margin:0; padding: 0}\n",
              ".dl-inline>dt, .dl-inline>dd {float: none; width: auto; display: inline-block}\n",
              ".dl-inline>dt::after {content: \":\\0020\"; padding-right: .5ex}\n",
              ".dl-inline>dt:not(:first-of-type) {padding-left: .5ex}\n",
              "</style><dl class=dl-inline><dt>1</dt><dd>407</dd><dt>2</dt><dd>3595</dd><dt>98</dt><dd>22</dd><dt>99</dt><dd>1</dd></dl>\n"
            ]
          },
          "metadata": {
            "tags": []
          }
        }
      ]
    },
    {
      "cell_type": "code",
      "metadata": {
        "id": "OWqHoBHkVbMV",
        "colab_type": "code",
        "outputId": "3501d9fb-2afa-4ef2-c0a1-2ebd6c285b62",
        "colab": {
          "base_uri": "https://localhost:8080/",
          "height": 68
        }
      },
      "source": [
        "table4 <- table(dataPTsample$dataPT.Y16_Q93b)\n",
        "table4"
      ],
      "execution_count": 34,
      "outputs": [
        {
          "output_type": "display_data",
          "data": {
            "text/plain": [
              "\n",
              "   1    2   98   99 \n",
              " 407 3595   22    1 "
            ]
          },
          "metadata": {
            "tags": []
          }
        }
      ]
    },
    {
      "cell_type": "code",
      "metadata": {
        "id": "fYdg_RdMVgHf",
        "colab_type": "code",
        "outputId": "696453c2-2e6d-47a9-fc1a-b59867eb1c10",
        "colab": {
          "base_uri": "https://localhost:8080/",
          "height": 68
        }
      },
      "source": [
        "prop.table(table4)"
      ],
      "execution_count": 35,
      "outputs": [
        {
          "output_type": "display_data",
          "data": {
            "text/plain": [
              "\n",
              "           1            2           98           99 \n",
              "0.1011180124 0.8931677019 0.0054658385 0.0002484472 "
            ]
          },
          "metadata": {
            "tags": []
          }
        }
      ]
    },
    {
      "cell_type": "markdown",
      "metadata": {
        "id": "eDyo9XtZc5eg",
        "colab_type": "text"
      },
      "source": [
        "### Y16_Income_Equivalised Variable label = Equivalised monthly household income in PPP euros\n",
        "\n"
      ]
    },
    {
      "cell_type": "code",
      "metadata": {
        "id": "lrpHqpyciSHQ",
        "colab_type": "code",
        "outputId": "4bf2c8f0-bf93-40de-ff24-045b8d25fdd3",
        "colab": {
          "base_uri": "https://localhost:8080/",
          "height": 51
        }
      },
      "source": [
        "summary(dataPTsample$dataPT.Y16_Income_Equivalised)"
      ],
      "execution_count": 36,
      "outputs": [
        {
          "output_type": "display_data",
          "data": {
            "text/plain": [
              "    Min.  1st Qu.   Median     Mean  3rd Qu.     Max.     NA's \n",
              "   1.212  389.177  629.723  828.742  992.212 9760.705     1561 "
            ]
          },
          "metadata": {
            "tags": []
          }
        }
      ]
    },
    {
      "cell_type": "code",
      "metadata": {
        "id": "P2Kfh3vgQnkw",
        "colab_type": "code",
        "outputId": "9aa483bc-acbe-4a3b-c233-d588ab607256",
        "colab": {
          "base_uri": "https://localhost:8080/",
          "height": 539
        }
      },
      "source": [
        "aggr_plot <- aggr(dataPTsample, col=c('grey','red'), numbers=TRUE, sortVars=TRUE, labels=names(dataPTsample), cex.axis=.3,cex.numbers=0.5, gap=0.3, ylab=c(\"Histogram of missing data\",\"Pattern\"), width=9, height=6)"
      ],
      "execution_count": 37,
      "outputs": [
        {
          "output_type": "stream",
          "text": [
            "\n",
            " Variables sorted by number of missings: \n",
            "                      Variable     Count\n",
            " dataPT.Y16_Income_Equivalised 0.3878261\n",
            "               dataPT.Y16_Q89a 0.0000000\n",
            "               dataPT.Y16_Q93b 0.0000000\n"
          ],
          "name": "stdout"
        },
        {
          "output_type": "display_data",
          "data": {
            "image/png": "[encoded data removed]",
            "text/plain": [
              "plot without title"
            ]
          },
          "metadata": {
            "tags": [],
            "image/png": {
              "width": 420,
              "height": 420
            },
            "text/plain": {
              "width": 420,
              "height": 420
            }
          }
        }
      ]
    },
    {
      "cell_type": "markdown",
      "metadata": {
        "id": "tV4msLDbOAq6",
        "colab_type": "text"
      },
      "source": [
        "### Explaining imputation and reasoning\n",
        "\n",
        "* Rubin's theory on this: Inference and Missing Data, https://www.jstor.org/stable/2335739?seq=1\n",
        "\n",
        "* MCAR, MAR and MNAR: MCAR, MAR and MNAR: https://stefvanbuuren.name/fimd/sec-MCAR.html\n",
        "\n",
        "* In this case they are actual missing (not refusal or don´t know, or 98 or 99 codes)\n",
        "\n",
        "* Also, BAT'S would say that more than 25% missing would lead to not use the variable of this dataset;\n",
        "\n",
        "* Impact of other approaches (as would lead to change the sample), i.e. remove all obervations that this variable is missing -> would lead to cut more than 40% of the sample and increase probabulity (to more than 50%, from original 30%\n",
        "\n",
        "* There aren´t many substitive proxies (as net income, etc)\n",
        "\n",
        "* Just using arreas is somehow a mirroed or consequent effect. Also there are no answers related to equipment (as ability to keep house warm could be due to fix assets or opex (where arreas reflect more opex). As well know, energy conservation measuares demands invesment on capex level and opex is somehow dependant on capex. \n",
        "\n",
        "* There is also some inequality as someone with better housing will need less energy (or waste less energy), unfortunally witouth the parameter refered supra is not possible to access. \n"
      ]
    },
    {
      "cell_type": "code",
      "metadata": {
        "id": "RlqDLDqxvYIX",
        "colab_type": "code",
        "colab": {
          "base_uri": "https://localhost:8080/",
          "height": 85
        },
        "outputId": "1656f704-c4d7-4d20-defd-272949941698"
      },
      "source": [
        "library(mice)\n",
        "library(VIM)\n",
        "require(rpart)\n",
        "require(lattice)"
      ],
      "execution_count": 38,
      "outputs": [
        {
          "output_type": "stream",
          "text": [
            "Loading required package: rpart\n",
            "\n",
            "Loading required package: lattice\n",
            "\n"
          ],
          "name": "stderr"
        }
      ]
    },
    {
      "cell_type": "markdown",
      "metadata": {
        "id": "dLFhTtf1TQIw",
        "colab_type": "text"
      },
      "source": [
        "Methods\n",
        "\n",
        "Imputation by predictive mean matching (pmm) using\n",
        "\n",
        "R package: Multivariate Imputation by Chained Equations (MICE)"
      ]
    },
    {
      "cell_type": "code",
      "metadata": {
        "id": "hCq8h6QLvi6Z",
        "colab_type": "code",
        "outputId": "7c9572d9-1524-42e5-9c45-620552e4b69e",
        "colab": {
          "base_uri": "https://localhost:8080/",
          "height": 510
        }
      },
      "source": [
        "imp <- mice(dataPTsample, meth = \"pmm\", minbucket = 10) "
      ],
      "execution_count": 39,
      "outputs": [
        {
          "output_type": "stream",
          "text": [
            "\n",
            " iter imp variable\n",
            "  1   1  dataPT.Y16_Income_Equivalised\n",
            "  1   2  dataPT.Y16_Income_Equivalised\n",
            "  1   3  dataPT.Y16_Income_Equivalised\n",
            "  1   4  dataPT.Y16_Income_Equivalised\n",
            "  1   5  dataPT.Y16_Income_Equivalised\n",
            "  2   1  dataPT.Y16_Income_Equivalised\n",
            "  2   2  dataPT.Y16_Income_Equivalised\n",
            "  2   3  dataPT.Y16_Income_Equivalised\n",
            "  2   4  dataPT.Y16_Income_Equivalised\n",
            "  2   5  dataPT.Y16_Income_Equivalised\n",
            "  3   1  dataPT.Y16_Income_Equivalised\n",
            "  3   2  dataPT.Y16_Income_Equivalised\n",
            "  3   3  dataPT.Y16_Income_Equivalised\n",
            "  3   4  dataPT.Y16_Income_Equivalised\n",
            "  3   5  dataPT.Y16_Income_Equivalised\n",
            "  4   1  dataPT.Y16_Income_Equivalised\n",
            "  4   2  dataPT.Y16_Income_Equivalised\n",
            "  4   3  dataPT.Y16_Income_Equivalised\n",
            "  4   4  dataPT.Y16_Income_Equivalised\n",
            "  4   5  dataPT.Y16_Income_Equivalised\n",
            "  5   1  dataPT.Y16_Income_Equivalised\n",
            "  5   2  dataPT.Y16_Income_Equivalised\n",
            "  5   3  dataPT.Y16_Income_Equivalised\n",
            "  5   4  dataPT.Y16_Income_Equivalised\n",
            "  5   5  dataPT.Y16_Income_Equivalised\n"
          ],
          "name": "stdout"
        },
        {
          "output_type": "stream",
          "text": [
            "Warning message:\n",
            "“Number of logged events: 25”\n"
          ],
          "name": "stderr"
        }
      ]
    },
    {
      "cell_type": "code",
      "metadata": {
        "id": "5FF2GzsgvoVT",
        "colab_type": "code",
        "outputId": "f7ea2f89-c168-4220-a339-6d80830ea44d",
        "colab": {
          "base_uri": "https://localhost:8080/",
          "height": 51
        }
      },
      "source": [
        "summary(imp$chainMean)"
      ],
      "execution_count": 40,
      "outputs": [
        {
          "output_type": "display_data",
          "data": {
            "text/plain": [
              "   Min. 1st Qu.  Median    Mean 3rd Qu.    Max.    NA's \n",
              "  852.2   866.3   886.0   887.4   910.0   930.6      50 "
            ]
          },
          "metadata": {
            "tags": []
          }
        }
      ]
    },
    {
      "cell_type": "code",
      "metadata": {
        "id": "e_SPYX3Avxoj",
        "colab_type": "code",
        "outputId": "d4f9402e-deac-4a69-9ce3-e200b304977e",
        "colab": {
          "base_uri": "https://localhost:8080/",
          "height": 437
        }
      },
      "source": [
        "plot(imp)"
      ],
      "execution_count": 41,
      "outputs": [
        {
          "output_type": "display_data",
          "data": {
            "image/png": "[encoded data removed]",
            "text/plain": [
              "plot without title"
            ]
          },
          "metadata": {
            "tags": [],
            "image/png": {
              "width": 420,
              "height": 420
            },
            "text/plain": {
              "width": 420,
              "height": 420
            }
          }
        }
      ]
    },
    {
      "cell_type": "code",
      "metadata": {
        "id": "E8P3LGQTv25G",
        "colab_type": "code",
        "outputId": "4433da59-8b97-4441-c837-3d52cb38dfc6",
        "colab": {
          "base_uri": "https://localhost:8080/",
          "height": 437
        }
      },
      "source": [
        "stripplot(imp, pch = 20, cex = 1.2)"
      ],
      "execution_count": 42,
      "outputs": [
        {
          "output_type": "display_data",
          "data": {
            "image/png": "[encoded data removed]",
            "text/plain": [
              "plot without title"
            ]
          },
          "metadata": {
            "tags": [],
            "image/png": {
              "width": 420,
              "height": 420
            },
            "text/plain": {
              "width": 420,
              "height": 420
            }
          }
        }
      ]
    },
    {
      "cell_type": "code",
      "metadata": {
        "id": "CYBELGvdv64T",
        "colab_type": "code",
        "outputId": "76833be3-2571-46e4-d52f-36479fb614bc",
        "colab": {
          "base_uri": "https://localhost:8080/",
          "height": 34
        }
      },
      "source": [
        "imp$method"
      ],
      "execution_count": 43,
      "outputs": [
        {
          "output_type": "display_data",
          "data": {
            "text/plain": [
              "              dataPT.Y16_Q89a dataPT.Y16_Income_Equivalised \n",
              "                           \"\"                         \"pmm\" \n",
              "              dataPT.Y16_Q93b \n",
              "                           \"\" "
            ],
            "text/latex": "\\begin{description*}\n\\item[dataPT.Y16\\textbackslash{}\\_Q89a] ''\n\\item[dataPT.Y16\\textbackslash{}\\_Income\\textbackslash{}\\_Equivalised] 'pmm'\n\\item[dataPT.Y16\\textbackslash{}\\_Q93b] ''\n\\end{description*}\n",
            "text/markdown": "dataPT.Y16_Q89a\n:   ''dataPT.Y16_Income_Equivalised\n:   'pmm'dataPT.Y16_Q93b\n:   ''\n\n",
            "text/html": [
              "<style>\n",
              ".dl-inline {width: auto; margin:0; padding: 0}\n",
              ".dl-inline>dt, .dl-inline>dd {float: none; width: auto; display: inline-block}\n",
              ".dl-inline>dt::after {content: \":\\0020\"; padding-right: .5ex}\n",
              ".dl-inline>dt:not(:first-of-type) {padding-left: .5ex}\n",
              "</style><dl class=dl-inline><dt>dataPT.Y16_Q89a</dt><dd>''</dd><dt>dataPT.Y16_Income_Equivalised</dt><dd>'pmm'</dd><dt>dataPT.Y16_Q93b</dt><dd>''</dd></dl>\n"
            ]
          },
          "metadata": {
            "tags": []
          }
        }
      ]
    },
    {
      "cell_type": "markdown",
      "metadata": {
        "id": "CMeblPRATmTs",
        "colab_type": "text"
      },
      "source": [
        "Actual (blue) and generated samples (red)"
      ]
    },
    {
      "cell_type": "code",
      "metadata": {
        "id": "K-XD593OwHUd",
        "colab_type": "code",
        "outputId": "e1c55809-b0cb-4913-99d8-553d6627d814",
        "colab": {
          "base_uri": "https://localhost:8080/",
          "height": 437
        }
      },
      "source": [
        "densityplot(imp)"
      ],
      "execution_count": 44,
      "outputs": [
        {
          "output_type": "display_data",
          "data": {
            "image/png": "[encoded data removed]",
            "text/plain": [
              "plot without title"
            ]
          },
          "metadata": {
            "tags": [],
            "image/png": {
              "width": 420,
              "height": 420
            },
            "text/plain": {
              "width": 420,
              "height": 420
            }
          }
        }
      ]
    },
    {
      "cell_type": "code",
      "metadata": {
        "id": "eAS254tRwQTn",
        "colab_type": "code",
        "outputId": "cd7e6234-cb25-44a1-9b9e-05aaf891726f",
        "colab": {
          "base_uri": "https://localhost:8080/",
          "height": 136
        }
      },
      "source": [
        "#Get completed datasets (observed and imputed)\n",
        "dataPTsample_imp <- complete(imp,1) #it can be chosen\n",
        "summary(dataPTsample_imp)"
      ],
      "execution_count": 45,
      "outputs": [
        {
          "output_type": "display_data",
          "data": {
            "text/plain": [
              " dataPT.Y16_Q89a dataPT.Y16_Income_Equivalised dataPT.Y16_Q93b\n",
              " 0:2731          Min.   :   1.212              1 : 407        \n",
              " 1:1294          1st Qu.: 404.040              2 :3595        \n",
              "                 Median : 646.085              98:  22        \n",
              "                 Mean   : 840.375              99:   1        \n",
              "                 3rd Qu.: 997.980                             \n",
              "                 Max.   :9760.705                             "
            ]
          },
          "metadata": {
            "tags": []
          }
        }
      ]
    },
    {
      "cell_type": "code",
      "metadata": {
        "id": "bJB0Ypexbvu-",
        "colab_type": "code",
        "outputId": "ca891e8b-8dd3-4149-c5f1-f66ed2e8c243",
        "colab": {
          "base_uri": "https://localhost:8080/",
          "height": 1000
        }
      },
      "source": [
        "dataPTsample_imp"
      ],
      "execution_count": 46,
      "outputs": [
        {
          "output_type": "display_data",
          "data": {
            "text/plain": [
              "     dataPT.Y16_Q89a dataPT.Y16_Income_Equivalised dataPT.Y16_Q93b\n",
              "1    0               1763.22418                    2              \n",
              "2    0                827.58618                    2              \n",
              "3    0                526.02020                    2              \n",
              "4    0               1133.50126                    2              \n",
              "5    0                356.30054                    2              \n",
              "6    0                721.15229                    2              \n",
              "7    0                663.94613                    2              \n",
              "8    1               1442.30458                    2              \n",
              "9    1               1175.31671                    1              \n",
              "10   1               1389.09704                    2              \n",
              "11   1                448.65364                    2              \n",
              "12   1                439.67487                    1              \n",
              "13   1                801.28032                    1              \n",
              "14   0                479.81806                    2              \n",
              "15   0               2030.43801                    2              \n",
              "16   0               1692.03167                    2              \n",
              "17   0               1389.09704                    2              \n",
              "18   0               2030.43801                    2              \n",
              "19   1                586.23315                    2              \n",
              "20   0               1175.31671                    2              \n",
              "21   1                400.58361                    2              \n",
              "22   0                766.28351                    2              \n",
              "23   0                 71.26011                    2              \n",
              "24   1                439.67487                    2              \n",
              "25   0               1121.63410                    2              \n",
              "26   0                 85.51213                    2              \n",
              "27   0               1175.31671                    2              \n",
              "28   0                881.61209                    2              \n",
              "29   0                977.01148                    2              \n",
              "30   1               1389.09704                    2              \n",
              "⋮    ⋮               ⋮                             ⋮              \n",
              "3996 0               2078.08564                    1              \n",
              "3997 0                961.72642                    2              \n",
              "3998 0                404.30707                    2              \n",
              "3999 0                779.28212                    2              \n",
              "4000 1                692.69521                    2              \n",
              "4001 0               2998.68058                    2              \n",
              "4002 0               1049.53820                    2              \n",
              "4003 0                755.66751                    2              \n",
              "4004 0                923.59362                    2              \n",
              "4005 0                862.79546                    2              \n",
              "4006 0               2424.24242                    2              \n",
              "4007 0                840.22986                    2              \n",
              "4008 0                356.30054                    1              \n",
              "4009 0                342.72719                    2              \n",
              "4010 0                606.46061                    2              \n",
              "4011 0                744.15913                    2              \n",
              "4012 0                419.81528                    2              \n",
              "4013 1                 20.99076                    2              \n",
              "4014 1                539.04282                    2              \n",
              "4015 0               1091.51973                    2              \n",
              "4016 0                705.19003                    2              \n",
              "4017 0               4198.15281                    2              \n",
              "4018 0                503.77834                    2              \n",
              "4019 0               3010.86272                    2              \n",
              "4020 0                692.69521                    2              \n",
              "4021 0                850.12594                    2              \n",
              "4022 0               1275.18892                    2              \n",
              "4023 0               1385.39043                    2              \n",
              "4024 0               1839.08044                    2              \n",
              "4025 0                237.53369                    2              "
            ],
            "text/latex": "A data.frame: 4025 × 3\n\\begin{tabular}{lll}\n dataPT.Y16\\_Q89a & dataPT.Y16\\_Income\\_Equivalised & dataPT.Y16\\_Q93b\\\\\n <fct> & <dbl> & <fct>\\\\\n\\hline\n\t 0 & 1763.22418 & 2\\\\\n\t 0 &  827.58618 & 2\\\\\n\t 0 &  526.02020 & 2\\\\\n\t 0 & 1133.50126 & 2\\\\\n\t 0 &  356.30054 & 2\\\\\n\t 0 &  721.15229 & 2\\\\\n\t 0 &  663.94613 & 2\\\\\n\t 1 & 1442.30458 & 2\\\\\n\t 1 & 1175.31671 & 1\\\\\n\t 1 & 1389.09704 & 2\\\\\n\t 1 &  448.65364 & 2\\\\\n\t 1 &  439.67487 & 1\\\\\n\t 1 &  801.28032 & 1\\\\\n\t 0 &  479.81806 & 2\\\\\n\t 0 & 2030.43801 & 2\\\\\n\t 0 & 1692.03167 & 2\\\\\n\t 0 & 1389.09704 & 2\\\\\n\t 0 & 2030.43801 & 2\\\\\n\t 1 &  586.23315 & 2\\\\\n\t 0 & 1175.31671 & 2\\\\\n\t 1 &  400.58361 & 2\\\\\n\t 0 &  766.28351 & 2\\\\\n\t 0 &   71.26011 & 2\\\\\n\t 1 &  439.67487 & 2\\\\\n\t 0 & 1121.63410 & 2\\\\\n\t 0 &   85.51213 & 2\\\\\n\t 0 & 1175.31671 & 2\\\\\n\t 0 &  881.61209 & 2\\\\\n\t 0 &  977.01148 & 2\\\\\n\t 1 & 1389.09704 & 2\\\\\n\t ⋮ & ⋮ & ⋮\\\\\n\t 0 & 2078.08564 & 1\\\\\n\t 0 &  961.72642 & 2\\\\\n\t 0 &  404.30707 & 2\\\\\n\t 0 &  779.28212 & 2\\\\\n\t 1 &  692.69521 & 2\\\\\n\t 0 & 2998.68058 & 2\\\\\n\t 0 & 1049.53820 & 2\\\\\n\t 0 &  755.66751 & 2\\\\\n\t 0 &  923.59362 & 2\\\\\n\t 0 &  862.79546 & 2\\\\\n\t 0 & 2424.24242 & 2\\\\\n\t 0 &  840.22986 & 2\\\\\n\t 0 &  356.30054 & 1\\\\\n\t 0 &  342.72719 & 2\\\\\n\t 0 &  606.46061 & 2\\\\\n\t 0 &  744.15913 & 2\\\\\n\t 0 &  419.81528 & 2\\\\\n\t 1 &   20.99076 & 2\\\\\n\t 1 &  539.04282 & 2\\\\\n\t 0 & 1091.51973 & 2\\\\\n\t 0 &  705.19003 & 2\\\\\n\t 0 & 4198.15281 & 2\\\\\n\t 0 &  503.77834 & 2\\\\\n\t 0 & 3010.86272 & 2\\\\\n\t 0 &  692.69521 & 2\\\\\n\t 0 &  850.12594 & 2\\\\\n\t 0 & 1275.18892 & 2\\\\\n\t 0 & 1385.39043 & 2\\\\\n\t 0 & 1839.08044 & 2\\\\\n\t 0 &  237.53369 & 2\\\\\n\\end{tabular}\n",
            "text/markdown": "\nA data.frame: 4025 × 3\n\n| dataPT.Y16_Q89a &lt;fct&gt; | dataPT.Y16_Income_Equivalised &lt;dbl&gt; | dataPT.Y16_Q93b &lt;fct&gt; |\n|---|---|---|\n| 0 | 1763.22418 | 2 |\n| 0 |  827.58618 | 2 |\n| 0 |  526.02020 | 2 |\n| 0 | 1133.50126 | 2 |\n| 0 |  356.30054 | 2 |\n| 0 |  721.15229 | 2 |\n| 0 |  663.94613 | 2 |\n| 1 | 1442.30458 | 2 |\n| 1 | 1175.31671 | 1 |\n| 1 | 1389.09704 | 2 |\n| 1 |  448.65364 | 2 |\n| 1 |  439.67487 | 1 |\n| 1 |  801.28032 | 1 |\n| 0 |  479.81806 | 2 |\n| 0 | 2030.43801 | 2 |\n| 0 | 1692.03167 | 2 |\n| 0 | 1389.09704 | 2 |\n| 0 | 2030.43801 | 2 |\n| 1 |  586.23315 | 2 |\n| 0 | 1175.31671 | 2 |\n| 1 |  400.58361 | 2 |\n| 0 |  766.28351 | 2 |\n| 0 |   71.26011 | 2 |\n| 1 |  439.67487 | 2 |\n| 0 | 1121.63410 | 2 |\n| 0 |   85.51213 | 2 |\n| 0 | 1175.31671 | 2 |\n| 0 |  881.61209 | 2 |\n| 0 |  977.01148 | 2 |\n| 1 | 1389.09704 | 2 |\n| ⋮ | ⋮ | ⋮ |\n| 0 | 2078.08564 | 1 |\n| 0 |  961.72642 | 2 |\n| 0 |  404.30707 | 2 |\n| 0 |  779.28212 | 2 |\n| 1 |  692.69521 | 2 |\n| 0 | 2998.68058 | 2 |\n| 0 | 1049.53820 | 2 |\n| 0 |  755.66751 | 2 |\n| 0 |  923.59362 | 2 |\n| 0 |  862.79546 | 2 |\n| 0 | 2424.24242 | 2 |\n| 0 |  840.22986 | 2 |\n| 0 |  356.30054 | 1 |\n| 0 |  342.72719 | 2 |\n| 0 |  606.46061 | 2 |\n| 0 |  744.15913 | 2 |\n| 0 |  419.81528 | 2 |\n| 1 |   20.99076 | 2 |\n| 1 |  539.04282 | 2 |\n| 0 | 1091.51973 | 2 |\n| 0 |  705.19003 | 2 |\n| 0 | 4198.15281 | 2 |\n| 0 |  503.77834 | 2 |\n| 0 | 3010.86272 | 2 |\n| 0 |  692.69521 | 2 |\n| 0 |  850.12594 | 2 |\n| 0 | 1275.18892 | 2 |\n| 0 | 1385.39043 | 2 |\n| 0 | 1839.08044 | 2 |\n| 0 |  237.53369 | 2 |\n\n",
            "text/html": [
              "<table>\n",
              "<caption>A data.frame: 4025 × 3</caption>\n",
              "<thead>\n",
              "\t<tr><th scope=col>dataPT.Y16_Q89a</th><th scope=col>dataPT.Y16_Income_Equivalised</th><th scope=col>dataPT.Y16_Q93b</th></tr>\n",
              "\t<tr><th scope=col>&lt;fct&gt;</th><th scope=col>&lt;dbl&gt;</th><th scope=col>&lt;fct&gt;</th></tr>\n",
              "</thead>\n",
              "<tbody>\n",
              "\t<tr><td>0</td><td>1763.22418</td><td>2</td></tr>\n",
              "\t<tr><td>0</td><td> 827.58618</td><td>2</td></tr>\n",
              "\t<tr><td>0</td><td> 526.02020</td><td>2</td></tr>\n",
              "\t<tr><td>0</td><td>1133.50126</td><td>2</td></tr>\n",
              "\t<tr><td>0</td><td> 356.30054</td><td>2</td></tr>\n",
              "\t<tr><td>0</td><td> 721.15229</td><td>2</td></tr>\n",
              "\t<tr><td>0</td><td> 663.94613</td><td>2</td></tr>\n",
              "\t<tr><td>1</td><td>1442.30458</td><td>2</td></tr>\n",
              "\t<tr><td>1</td><td>1175.31671</td><td>1</td></tr>\n",
              "\t<tr><td>1</td><td>1389.09704</td><td>2</td></tr>\n",
              "\t<tr><td>1</td><td> 448.65364</td><td>2</td></tr>\n",
              "\t<tr><td>1</td><td> 439.67487</td><td>1</td></tr>\n",
              "\t<tr><td>1</td><td> 801.28032</td><td>1</td></tr>\n",
              "\t<tr><td>0</td><td> 479.81806</td><td>2</td></tr>\n",
              "\t<tr><td>0</td><td>2030.43801</td><td>2</td></tr>\n",
              "\t<tr><td>0</td><td>1692.03167</td><td>2</td></tr>\n",
              "\t<tr><td>0</td><td>1389.09704</td><td>2</td></tr>\n",
              "\t<tr><td>0</td><td>2030.43801</td><td>2</td></tr>\n",
              "\t<tr><td>1</td><td> 586.23315</td><td>2</td></tr>\n",
              "\t<tr><td>0</td><td>1175.31671</td><td>2</td></tr>\n",
              "\t<tr><td>1</td><td> 400.58361</td><td>2</td></tr>\n",
              "\t<tr><td>0</td><td> 766.28351</td><td>2</td></tr>\n",
              "\t<tr><td>0</td><td>  71.26011</td><td>2</td></tr>\n",
              "\t<tr><td>1</td><td> 439.67487</td><td>2</td></tr>\n",
              "\t<tr><td>0</td><td>1121.63410</td><td>2</td></tr>\n",
              "\t<tr><td>0</td><td>  85.51213</td><td>2</td></tr>\n",
              "\t<tr><td>0</td><td>1175.31671</td><td>2</td></tr>\n",
              "\t<tr><td>0</td><td> 881.61209</td><td>2</td></tr>\n",
              "\t<tr><td>0</td><td> 977.01148</td><td>2</td></tr>\n",
              "\t<tr><td>1</td><td>1389.09704</td><td>2</td></tr>\n",
              "\t<tr><td>⋮</td><td>⋮</td><td>⋮</td></tr>\n",
              "\t<tr><td>0</td><td>2078.08564</td><td>1</td></tr>\n",
              "\t<tr><td>0</td><td> 961.72642</td><td>2</td></tr>\n",
              "\t<tr><td>0</td><td> 404.30707</td><td>2</td></tr>\n",
              "\t<tr><td>0</td><td> 779.28212</td><td>2</td></tr>\n",
              "\t<tr><td>1</td><td> 692.69521</td><td>2</td></tr>\n",
              "\t<tr><td>0</td><td>2998.68058</td><td>2</td></tr>\n",
              "\t<tr><td>0</td><td>1049.53820</td><td>2</td></tr>\n",
              "\t<tr><td>0</td><td> 755.66751</td><td>2</td></tr>\n",
              "\t<tr><td>0</td><td> 923.59362</td><td>2</td></tr>\n",
              "\t<tr><td>0</td><td> 862.79546</td><td>2</td></tr>\n",
              "\t<tr><td>0</td><td>2424.24242</td><td>2</td></tr>\n",
              "\t<tr><td>0</td><td> 840.22986</td><td>2</td></tr>\n",
              "\t<tr><td>0</td><td> 356.30054</td><td>1</td></tr>\n",
              "\t<tr><td>0</td><td> 342.72719</td><td>2</td></tr>\n",
              "\t<tr><td>0</td><td> 606.46061</td><td>2</td></tr>\n",
              "\t<tr><td>0</td><td> 744.15913</td><td>2</td></tr>\n",
              "\t<tr><td>0</td><td> 419.81528</td><td>2</td></tr>\n",
              "\t<tr><td>1</td><td>  20.99076</td><td>2</td></tr>\n",
              "\t<tr><td>1</td><td> 539.04282</td><td>2</td></tr>\n",
              "\t<tr><td>0</td><td>1091.51973</td><td>2</td></tr>\n",
              "\t<tr><td>0</td><td> 705.19003</td><td>2</td></tr>\n",
              "\t<tr><td>0</td><td>4198.15281</td><td>2</td></tr>\n",
              "\t<tr><td>0</td><td> 503.77834</td><td>2</td></tr>\n",
              "\t<tr><td>0</td><td>3010.86272</td><td>2</td></tr>\n",
              "\t<tr><td>0</td><td> 692.69521</td><td>2</td></tr>\n",
              "\t<tr><td>0</td><td> 850.12594</td><td>2</td></tr>\n",
              "\t<tr><td>0</td><td>1275.18892</td><td>2</td></tr>\n",
              "\t<tr><td>0</td><td>1385.39043</td><td>2</td></tr>\n",
              "\t<tr><td>0</td><td>1839.08044</td><td>2</td></tr>\n",
              "\t<tr><td>0</td><td> 237.53369</td><td>2</td></tr>\n",
              "</tbody>\n",
              "</table>\n"
            ]
          },
          "metadata": {
            "tags": []
          }
        }
      ]
    },
    {
      "cell_type": "code",
      "metadata": {
        "id": "gPE1vZiAPd_Y",
        "colab_type": "code",
        "colab": {
          "base_uri": "https://localhost:8080/",
          "height": 437
        },
        "outputId": "2d936cd2-1532-4f65-c52a-cc0f480a12ac"
      },
      "source": [
        "# Histogram with kernel density curve\n",
        "ggplot(dataPTsample_imp, aes(x = dataPT.Y16_Income_Equivalised)) +\n",
        "    geom_density(alpha = .2, fill = \"#FF6666\")"
      ],
      "execution_count": 47,
      "outputs": [
        {
          "output_type": "display_data",
          "data": {
            "image/png": "[encoded data removed]",
            "text/plain": [
              "plot without title"
            ]
          },
          "metadata": {
            "tags": [],
            "image/png": {
              "width": 420,
              "height": 420
            },
            "text/plain": {
              "width": 420,
              "height": 420
            }
          }
        }
      ]
    },
    {
      "cell_type": "markdown",
      "metadata": {
        "id": "BKXVmVE625u9",
        "colab_type": "text"
      },
      "source": [
        "### Transform -> log"
      ]
    },
    {
      "cell_type": "code",
      "metadata": {
        "id": "mG0AIyFy15_D",
        "colab_type": "code",
        "colab": {}
      },
      "source": [
        "dataPTsample_imp$dataPT.Y16_Income_Equivalised_log <- log(dataPTsample_imp$dataPT.Y16_Income_Equivalise)"
      ],
      "execution_count": 0,
      "outputs": []
    },
    {
      "cell_type": "code",
      "metadata": {
        "id": "TtqUvu5t4rGo",
        "colab_type": "code",
        "colab": {
          "base_uri": "https://localhost:8080/",
          "height": 437
        },
        "outputId": "8394ea80-3a9d-44a1-864c-97c4e9eaba31"
      },
      "source": [
        "# Histogram with kernel density curve\n",
        "ggplot(dataPTsample_imp, aes(x = dataPT.Y16_Income_Equivalised_log)) +\n",
        "    geom_density(alpha = .2, fill = \"#FF6666\")"
      ],
      "execution_count": 49,
      "outputs": [
        {
          "output_type": "display_data",
          "data": {
            "image/png": "[encoded data removed]",
            "text/plain": [
              "plot without title"
            ]
          },
          "metadata": {
            "tags": [],
            "image/png": {
              "width": 420,
              "height": 420
            },
            "text/plain": {
              "width": 420,
              "height": 420
            }
          }
        }
      ]
    },
    {
      "cell_type": "code",
      "metadata": {
        "id": "k31kVQ1-a5Iq",
        "colab_type": "code",
        "colab": {}
      },
      "source": [
        "dataPTsample_imp$dataPT.Y16_Q89a <- as.factor(dataPTsample_imp$dataPT.Y16_Q89a)\n",
        "dataPTsample_imp$dataPT.Y16_Income_Equivalised <- as.numeric(dataPTsample_imp$dataPT.Y16_Income_Equivalised)\n",
        "dataPTsample_imp$dataPT.Y16_Income_Equivalised_log <- as.numeric(dataPTsample_imp$dataPT.Y16_Income_Equivalised_log)\n",
        "dataPTsample_imp$dataPT.Y16_Q93b <- as.factor(dataPTsample_imp$dataPT.Y16_Q93b)"
      ],
      "execution_count": 0,
      "outputs": []
    },
    {
      "cell_type": "markdown",
      "metadata": {
        "id": "TP5wRUeO8L8g",
        "colab_type": "text"
      },
      "source": [
        ""
      ]
    },
    {
      "cell_type": "code",
      "metadata": {
        "id": "8SnPkL-28Ajk",
        "colab_type": "code",
        "colab": {
          "base_uri": "https://localhost:8080/",
          "height": 505
        },
        "outputId": "29613b45-b170-4689-9dff-fd8d768a30c4"
      },
      "source": [
        "library(GGally)\n",
        "# Convert data to numeric\n",
        "corr <- data.frame(lapply(dataPTsample_imp, as.integer))\n",
        "# Plot the graphggcorr(using GGally)\n",
        "ggcorr(corr, method = c(\"everything\", \"spearman\"), nbreaks = 6,\n",
        "hjust = 0.8,label = TRUE, label_size = 3, color = \"grey50\")"
      ],
      "execution_count": 52,
      "outputs": [
        {
          "output_type": "stream",
          "text": [
            "Registered S3 method overwritten by 'GGally':\n",
            "  method from   \n",
            "  +.gg   ggplot2\n",
            "\n"
          ],
          "name": "stderr"
        },
        {
          "output_type": "display_data",
          "data": {
            "image/png": "[encoded data removed]",
            "text/plain": [
              "plot without title"
            ]
          },
          "metadata": {
            "tags": [],
            "image/png": {
              "width": 420,
              "height": 420
            },
            "text/plain": {
              "width": 420,
              "height": 420
            }
          }
        }
      ]
    },
    {
      "cell_type": "markdown",
      "metadata": {
        "id": "MUal49B5koO9",
        "colab_type": "text"
      },
      "source": [
        "### Set levels"
      ]
    },
    {
      "cell_type": "code",
      "metadata": {
        "id": "xF_rRK8-qW1_",
        "colab_type": "code",
        "colab": {}
      },
      "source": [
        "#dataPTsample$dataPT.Y16_Income_Equivalised_levels <- cut(dataPTsample$dataPT.Y16_Income_Equivalised, c(0,26,351,682,842,2624,6091))\n",
        "#dataPTsample$dataPT.Y16_Income_Equivalised_levels <- cut(dataPTsample$dataPT.Y16_Income_Equivalised, c(0,26,351,682,842,2624,6091))"
      ],
      "execution_count": 0,
      "outputs": []
    },
    {
      "cell_type": "markdown",
      "metadata": {
        "id": "osblt7BYdyPI",
        "colab_type": "text"
      },
      "source": [
        "## Probit Regression\n",
        "\n",
        "A probit regression is a version of the generalized linear model used to model dichotomous outcome variables. It uses the inverse standard normal distribution as a linear combination of the predictors. The binary outcome variable Y is assumed to have a Bernoulli distribution with parameter $p$ (where the success probability is $p\\in(0,1)$). Hence, the probit link function is\n",
        "\n",
        "$$\\Phi^{-1}(\\pi_{i}) = X_{i}\\beta + \\varepsilon _{i}$$\n",
        "\n",
        "where\n",
        "\n",
        "$$\\Phi(Z) = \\int_{-\\propto}^{Z}\\frac{1}{\\sqrt2\\pi}e^{\\frac{1}{2}t^{2}}dt.$$\n",
        "\n",
        "\n",
        "This is the cumulative normal distribution\n",
        "$\\Phi$ That is, given any Z-score, $\\Phi(Z)\\in[0,1]$\n",
        "\n",
        "So we would say that\n",
        "$$Y =\\Phi(X\\beta + \\varepsilon)$$\n",
        "$$\\Phi^{-1}(Y)= X\\beta + \\varepsilon$$\n",
        "$$Y′ = X\\beta + \\varepsilon$$\n",
        "\n",
        "Link function is $F(Y) = \\Phi^{-1}(Y)$ \n"
      ]
    },
    {
      "cell_type": "code",
      "metadata": {
        "id": "icygCakoKKhY",
        "colab_type": "code",
        "outputId": "6ad7f347-abed-40fc-a7e0-bea97677f862",
        "colab": {
          "base_uri": "https://localhost:8080/",
          "height": 391
        }
      },
      "source": [
        "No_Predictor <-glm(dataPTsample_imp$dataPT.Y16_Q89a~1,dataPTsample_imp,family = binomial(link= \"probit\"))\n",
        "summary(No_Predictor)"
      ],
      "execution_count": 53,
      "outputs": [
        {
          "output_type": "display_data",
          "data": {
            "text/plain": [
              "\n",
              "Call:\n",
              "glm(formula = dataPTsample_imp$dataPT.Y16_Q89a ~ 1, family = binomial(link = \"probit\"), \n",
              "    data = dataPTsample_imp)\n",
              "\n",
              "Deviance Residuals: \n",
              "    Min       1Q   Median       3Q      Max  \n",
              "-0.8808  -0.8808  -0.8808   1.5065   1.5065  \n",
              "\n",
              "Coefficients:\n",
              "            Estimate Std. Error z value Pr(>|z|)    \n",
              "(Intercept) -0.46353    0.02055  -22.56   <2e-16 ***\n",
              "---\n",
              "Signif. codes:  0 ‘***’ 0.001 ‘**’ 0.01 ‘*’ 0.05 ‘.’ 0.1 ‘ ’ 1\n",
              "\n",
              "(Dispersion parameter for binomial family taken to be 1)\n",
              "\n",
              "    Null deviance: 5055.3  on 4024  degrees of freedom\n",
              "Residual deviance: 5055.3  on 4024  degrees of freedom\n",
              "AIC: 5057.3\n",
              "\n",
              "Number of Fisher Scoring iterations: 4\n"
            ]
          },
          "metadata": {
            "tags": []
          }
        }
      ]
    },
    {
      "cell_type": "code",
      "metadata": {
        "id": "uG1GlK_DUhi2",
        "colab_type": "code",
        "outputId": "644a9c2a-f135-4c04-f649-33593d938f88",
        "colab": {
          "base_uri": "https://localhost:8080/",
          "height": 408
        }
      },
      "source": [
        "library(stargazer)\n",
        "stargazer(No_Predictor, type = 'text', no.space = TRUE)"
      ],
      "execution_count": 54,
      "outputs": [
        {
          "output_type": "stream",
          "text": [
            "\n",
            "Please cite as: \n",
            "\n",
            "\n",
            " Hlavac, Marek (2018). stargazer: Well-Formatted Regression and Summary Statistics Tables.\n",
            "\n",
            " R package version 5.2.2. https://CRAN.R-project.org/package=stargazer \n",
            "\n",
            "\n"
          ],
          "name": "stderr"
        },
        {
          "output_type": "stream",
          "text": [
            "\n",
            "=============================================\n",
            "                      Dependent variable:    \n",
            "                  ---------------------------\n",
            "                        dataPT.Y16_Q89a      \n",
            "---------------------------------------------\n",
            "Constant                   -0.464***         \n",
            "                            (0.021)          \n",
            "---------------------------------------------\n",
            "Observations                 4,025           \n",
            "Log Likelihood            -2,527.652         \n",
            "Akaike Inf. Crit.          5,057.303         \n",
            "=============================================\n",
            "Note:             *p<0.1; **p<0.05; ***p<0.01\n"
          ],
          "name": "stdout"
        }
      ]
    },
    {
      "cell_type": "code",
      "metadata": {
        "id": "qMjwvU42O3iZ",
        "colab_type": "code",
        "outputId": "638e1191-762f-4979-fa0d-1763a6eb0f01",
        "colab": {
          "base_uri": "https://localhost:8080/",
          "height": 578
        }
      },
      "source": [
        "probit_warm <-glm(dataPTsample_imp$dataPT.Y16_Q89a ~ dataPTsample_imp$dataPT.Y16_Q93b + dataPTsample_imp$dataPT.Y16_Income_Equivalised_log, dataPTsample_imp,family = binomial(link= \"probit\"))\n",
        "summary(probit_warm)"
      ],
      "execution_count": 55,
      "outputs": [
        {
          "output_type": "display_data",
          "data": {
            "text/plain": [
              "\n",
              "Call:\n",
              "glm(formula = dataPTsample_imp$dataPT.Y16_Q89a ~ dataPTsample_imp$dataPT.Y16_Q93b + \n",
              "    dataPTsample_imp$dataPT.Y16_Income_Equivalised_log, family = binomial(link = \"probit\"), \n",
              "    data = dataPTsample_imp)\n",
              "\n",
              "Deviance Residuals: \n",
              "    Min       1Q   Median       3Q      Max  \n",
              "-2.2931  -0.8270  -0.5981   1.0910   2.8489  \n",
              "\n",
              "Coefficients:\n",
              "                                                   Estimate Std. Error z value\n",
              "(Intercept)                                         4.35373    0.21500  20.250\n",
              "dataPTsample_imp$dataPT.Y16_Q93b2                  -0.66724    0.06933  -9.624\n",
              "dataPTsample_imp$dataPT.Y16_Q93b98                 -1.23316    0.34654  -3.559\n",
              "dataPTsample_imp$dataPT.Y16_Q93b99                 -4.52756   57.93593  -0.078\n",
              "dataPTsample_imp$dataPT.Y16_Income_Equivalised_log -0.66302    0.03327 -19.928\n",
              "                                                   Pr(>|z|)    \n",
              "(Intercept)                                         < 2e-16 ***\n",
              "dataPTsample_imp$dataPT.Y16_Q93b2                   < 2e-16 ***\n",
              "dataPTsample_imp$dataPT.Y16_Q93b98                 0.000373 ***\n",
              "dataPTsample_imp$dataPT.Y16_Q93b99                 0.937711    \n",
              "dataPTsample_imp$dataPT.Y16_Income_Equivalised_log  < 2e-16 ***\n",
              "---\n",
              "Signif. codes:  0 ‘***’ 0.001 ‘**’ 0.01 ‘*’ 0.05 ‘.’ 0.1 ‘ ’ 1\n",
              "\n",
              "(Dispersion parameter for binomial family taken to be 1)\n",
              "\n",
              "    Null deviance: 5055.3  on 4024  degrees of freedom\n",
              "Residual deviance: 4418.5  on 4020  degrees of freedom\n",
              "AIC: 4428.5\n",
              "\n",
              "Number of Fisher Scoring iterations: 10\n"
            ]
          },
          "metadata": {
            "tags": []
          }
        }
      ]
    },
    {
      "cell_type": "code",
      "metadata": {
        "id": "FUIqepBtAhA3",
        "colab_type": "code",
        "colab": {
          "base_uri": "https://localhost:8080/",
          "height": 391
        },
        "outputId": "8687b8c4-06ee-40b0-8d2b-ae1479b47484"
      },
      "source": [
        "library(stargazer)\n",
        "stargazer(probit_warm, type = 'text', no.space = TRUE)"
      ],
      "execution_count": 56,
      "outputs": [
        {
          "output_type": "stream",
          "text": [
            "\n",
            "=============================================================\n",
            "                                      Dependent variable:    \n",
            "                                  ---------------------------\n",
            "                                        dataPT.Y16_Q89a      \n",
            "-------------------------------------------------------------\n",
            "dataPT.Y16_Q93b2                           -0.667***         \n",
            "                                            (0.069)          \n",
            "dataPT.Y16_Q93b98                          -1.233***         \n",
            "                                            (0.347)          \n",
            "dataPT.Y16_Q93b99                           -4.528           \n",
            "                                           (57.936)          \n",
            "dataPT.Y16_Income_Equivalised_log          -0.663***         \n",
            "                                            (0.033)          \n",
            "Constant                                   4.354***          \n",
            "                                            (0.215)          \n",
            "-------------------------------------------------------------\n",
            "Observations                                 4,025           \n",
            "Log Likelihood                            -2,209.254         \n",
            "Akaike Inf. Crit.                          4,428.509         \n",
            "=============================================================\n",
            "Note:                             *p<0.1; **p<0.05; ***p<0.01\n"
          ],
          "name": "stdout"
        }
      ]
    },
    {
      "cell_type": "markdown",
      "metadata": {
        "id": "Y_IGFaB-Arnu",
        "colab_type": "text"
      },
      "source": [
        "Both dataPT.Y16_Q93b and dataPT.Y16_Income_Equivalised_log are statistically significant. \n",
        "\n",
        "The probit regression coefficients give the change in the z-score or probit index for a one unit change in the predictor.\n",
        "\n",
        "* For a one unit increase in dataPT.Y16_Income_Equivalised_log the z-score decreases -0.621\n",
        "\n",
        "* For factor variables (dataPT.Y16_Q93), with no arreas (referece group), increase:\n",
        "* dataPT.Y16_Q93b2, the z-score decreaces by 0.777.\n",
        "* dataPT.Y16_Q93b98 (refusal to answer), the z-score decreaces by 1.474.\n"
      ]
    },
    {
      "cell_type": "code",
      "metadata": {
        "id": "U6S3Ghxd_1Gr",
        "colab_type": "code",
        "colab": {
          "base_uri": "https://localhost:8080/",
          "height": 536
        },
        "outputId": "6e56728c-bfe7-47b6-b391-e983fd5911e1"
      },
      "source": [
        "confint(probit_warm)"
      ],
      "execution_count": 57,
      "outputs": [
        {
          "output_type": "stream",
          "text": [
            "Waiting for profiling to be done...\n",
            "\n",
            "Warning message:\n",
            "“glm.fit: fitted probabilities numerically 0 or 1 occurred”\n",
            "Warning message:\n",
            "“glm.fit: fitted probabilities numerically 0 or 1 occurred”\n",
            "Warning message:\n",
            "“glm.fit: fitted probabilities numerically 0 or 1 occurred”\n",
            "Warning message:\n",
            "“glm.fit: fitted probabilities numerically 0 or 1 occurred”\n",
            "Warning message:\n",
            "“glm.fit: fitted probabilities numerically 0 or 1 occurred”\n",
            "Warning message:\n",
            "“glm.fit: fitted probabilities numerically 0 or 1 occurred”\n",
            "Warning message:\n",
            "“glm.fit: fitted probabilities numerically 0 or 1 occurred”\n",
            "Warning message:\n",
            "“glm.fit: fitted probabilities numerically 0 or 1 occurred”\n",
            "Warning message:\n",
            "“glm.fit: fitted probabilities numerically 0 or 1 occurred”\n",
            "Warning message:\n",
            "“glm.fit: fitted probabilities numerically 0 or 1 occurred”\n"
          ],
          "name": "stderr"
        },
        {
          "output_type": "display_data",
          "data": {
            "text/plain": [
              "                                                   2.5 %      97.5 %    \n",
              "(Intercept)                                         3.9478292  4.7635270\n",
              "dataPTsample_imp$dataPT.Y16_Q93b2                  -0.8032180 -0.5318283\n",
              "dataPTsample_imp$dataPT.Y16_Q93b98                 -1.9615468 -0.5900161\n",
              "dataPTsample_imp$dataPT.Y16_Q93b99                         NA  7.2802573\n",
              "dataPTsample_imp$dataPT.Y16_Income_Equivalised_log -0.7263493 -0.6003090"
            ],
            "text/latex": "A matrix: 5 × 2 of type dbl\n\\begin{tabular}{r|ll}\n  & 2.5 \\% & 97.5 \\%\\\\\n\\hline\n\t(Intercept) &  3.9478292 &  4.7635270\\\\\n\tdataPTsample\\_imp\\$dataPT.Y16\\_Q93b2 & -0.8032180 & -0.5318283\\\\\n\tdataPTsample\\_imp\\$dataPT.Y16\\_Q93b98 & -1.9615468 & -0.5900161\\\\\n\tdataPTsample\\_imp\\$dataPT.Y16\\_Q93b99 &         NA &  7.2802573\\\\\n\tdataPTsample\\_imp\\$dataPT.Y16\\_Income\\_Equivalised\\_log & -0.7263493 & -0.6003090\\\\\n\\end{tabular}\n",
            "text/markdown": "\nA matrix: 5 × 2 of type dbl\n\n| <!--/--> | 2.5 % | 97.5 % |\n|---|---|---|\n| (Intercept) |  3.9478292 |  4.7635270 |\n| dataPTsample_imp$dataPT.Y16_Q93b2 | -0.8032180 | -0.5318283 |\n| dataPTsample_imp$dataPT.Y16_Q93b98 | -1.9615468 | -0.5900161 |\n| dataPTsample_imp$dataPT.Y16_Q93b99 |         NA |  7.2802573 |\n| dataPTsample_imp$dataPT.Y16_Income_Equivalised_log | -0.7263493 | -0.6003090 |\n\n",
            "text/html": [
              "<table>\n",
              "<caption>A matrix: 5 × 2 of type dbl</caption>\n",
              "<thead>\n",
              "\t<tr><th></th><th scope=col>2.5 %</th><th scope=col>97.5 %</th></tr>\n",
              "</thead>\n",
              "<tbody>\n",
              "\t<tr><th scope=row>(Intercept)</th><td> 3.9478292</td><td> 4.7635270</td></tr>\n",
              "\t<tr><th scope=row>dataPTsample_imp$dataPT.Y16_Q93b2</th><td>-0.8032180</td><td>-0.5318283</td></tr>\n",
              "\t<tr><th scope=row>dataPTsample_imp$dataPT.Y16_Q93b98</th><td>-1.9615468</td><td>-0.5900161</td></tr>\n",
              "\t<tr><th scope=row>dataPTsample_imp$dataPT.Y16_Q93b99</th><td>        NA</td><td> 7.2802573</td></tr>\n",
              "\t<tr><th scope=row>dataPTsample_imp$dataPT.Y16_Income_Equivalised_log</th><td>-0.7263493</td><td>-0.6003090</td></tr>\n",
              "</tbody>\n",
              "</table>\n"
            ]
          },
          "metadata": {
            "tags": []
          }
        }
      ]
    },
    {
      "cell_type": "code",
      "metadata": {
        "id": "NIsVlUxyIHKT",
        "colab_type": "code",
        "colab": {
          "base_uri": "https://localhost:8080/",
          "height": 96
        },
        "outputId": "8021e362-ed6b-4a44-a8d0-39acbd0536ce"
      },
      "source": [
        "coeftest(probit_warm, vcov. = vcovHC, type = \"HC1\")"
      ],
      "execution_count": 58,
      "outputs": [
        {
          "output_type": "error",
          "ename": "ERROR",
          "evalue": "ignored",
          "traceback": [
            "Error in coeftest(probit_warm, vcov. = vcovHC, type = \"HC1\"): could not find function \"coeftest\"\nTraceback:\n"
          ]
        }
      ]
    },
    {
      "cell_type": "markdown",
      "metadata": {
        "id": "4BMF30HuJvzL",
        "colab_type": "text"
      },
      "source": [
        "The estimated model equation is\n",
        "\n",
        "$$ˆP(warm, arreas, income)= Φ−4.129164 (constant) - 0.777284 (b2) -1.473603(b98) - 0.621163 (Log Y16 Income Equivalised)$$\n",
        "\n",
        "* (constant) given that all predictors are set to their mean values."
      ]
    },
    {
      "cell_type": "markdown",
      "metadata": {
        "id": "AjLC7BxUKy4-",
        "colab_type": "text"
      },
      "source": [
        "Coefficient interpretation: \n",
        "\n",
        "* An increase in x increases/decreases the likelihood that y=1 (makes that outcome more/less likely). In other words, an increase in x makes the outcome of 1 more or less likely.\n",
        "*  It is interpreted the sign of the coefficient but not the magnitude. The magnitude cannot be interpreted using the coefficient because different models have different scales of coefficients. The regression probit coefficients differ by a scale factor (and therefore we cannot interpret the magnitude of the coefficients).\n",
        "\n",
        "* Arrears or refusal (in comparison to no arreas), individuals higher household income less likely to not having the ability to keep the house warmn\n",
        "\n"
      ]
    },
    {
      "cell_type": "markdown",
      "metadata": {
        "id": "yrhHnsU9_pj0",
        "colab_type": "text"
      },
      "source": [
        "Marginal Effects"
      ]
    },
    {
      "cell_type": "code",
      "metadata": {
        "id": "Eq12P-eem8kf",
        "colab_type": "code",
        "outputId": "72689e7a-0109-46e2-895e-5a555e589c64",
        "colab": {
          "base_uri": "https://localhost:8080/",
          "height": 714
        }
      },
      "source": [
        "library(\"mfx\")\n",
        "probitmfx(dataPTsample_imp$dataPT.Y16_Q89a ~ dataPTsample_imp$dataPT.Y16_Q93b + dataPTsample_imp$dataPT.Y16_Income_Equivalised_log, dataPTsample_imp)"
      ],
      "execution_count": 59,
      "outputs": [
        {
          "output_type": "stream",
          "text": [
            "Loading required package: sandwich\n",
            "\n",
            "Loading required package: lmtest\n",
            "\n",
            "Loading required package: zoo\n",
            "\n",
            "\n",
            "Attaching package: ‘zoo’\n",
            "\n",
            "\n",
            "The following objects are masked from ‘package:base’:\n",
            "\n",
            "    as.Date, as.Date.numeric\n",
            "\n",
            "\n",
            "Loading required package: MASS\n",
            "\n",
            "Loading required package: betareg\n",
            "\n"
          ],
          "name": "stderr"
        },
        {
          "output_type": "display_data",
          "data": {
            "text/plain": [
              "Call:\n",
              "probitmfx(formula = dataPTsample_imp$dataPT.Y16_Q89a ~ dataPTsample_imp$dataPT.Y16_Q93b + \n",
              "    dataPTsample_imp$dataPT.Y16_Income_Equivalised_log, data = dataPTsample_imp)\n",
              "\n",
              "Marginal Effects:\n",
              "                                                        dF/dx  Std. Err.\n",
              "dataPTsample_imp$dataPT.Y16_Q93b2                  -0.2524478  0.0271449\n",
              "dataPTsample_imp$dataPT.Y16_Q93b98                 -0.2608094  0.0306956\n",
              "dataPTsample_imp$dataPT.Y16_Q93b99                 -0.2983414  0.0076604\n",
              "dataPTsample_imp$dataPT.Y16_Income_Equivalised_log -0.2298097  0.0115417\n",
              "                                                          z     P>|z|    \n",
              "dataPTsample_imp$dataPT.Y16_Q93b2                   -9.3000 < 2.2e-16 ***\n",
              "dataPTsample_imp$dataPT.Y16_Q93b98                  -8.4966 < 2.2e-16 ***\n",
              "dataPTsample_imp$dataPT.Y16_Q93b99                 -38.9461 < 2.2e-16 ***\n",
              "dataPTsample_imp$dataPT.Y16_Income_Equivalised_log -19.9112 < 2.2e-16 ***\n",
              "---\n",
              "Signif. codes:  0 ‘***’ 0.001 ‘**’ 0.01 ‘*’ 0.05 ‘.’ 0.1 ‘ ’ 1\n",
              "\n",
              "dF/dx is for discrete change for the following variables:\n",
              "\n",
              "[1] \"dataPTsample_imp$dataPT.Y16_Q93b2\"  \"dataPTsample_imp$dataPT.Y16_Q93b98\"\n",
              "[3] \"dataPTsample_imp$dataPT.Y16_Q93b99\""
            ]
          },
          "metadata": {
            "tags": []
          }
        }
      ]
    },
    {
      "cell_type": "markdown",
      "metadata": {
        "id": "l8axaa78Op8f",
        "colab_type": "text"
      },
      "source": [
        "#### Marginal effects interpretation: \n",
        "\n",
        "* It is interpreted both the sign and the magnitude of the marginal effects.\n",
        "\n",
        "* The marginal effects at the mean and the average marginal effects are almost identical.\n",
        "\n",
        "* An increase in x increases (decreases) the probability that y=1 by the marginal effect expressed as a percent.\n",
        "  -  For dummy independent variables, the marginal effect is expressed in comparison to the base category (x=0).\n",
        "  -  For continuous independent variables, the marginal effect is expressed for a one-unit change in x.\n",
        "\n",
        "* No Arreas, are -0.297662 (30%) more likely to not have ability to have house warmn (in comparison with no arreas)\n",
        "Refusal are -0.293661 (30%) more likely to not have the abiliuty to have house warmn (in comparison with no arreas)\n",
        "\n",
        "* Log transformed variables require one more step, because for them a one-unit increase in 𝑥 means multiplying 𝑥 by the base (in this case 𝑒).In this case, the marginal effects that would obtain for log transformed predictor would show the change in 𝑃𝑟(𝑦) for a 2.7182818285-fold change in 𝑥. \n",
        "\n",
        "* For each additional € of (log) income, individuals are (-0.220872 * e), 2.7182818285-fold change in 𝑥, (2.7182818285*-0.220872) % more probability to have ability to have house harm).\n",
        "\n",
        "* The result is the average change in the probability \n"
      ]
    },
    {
      "cell_type": "code",
      "metadata": {
        "id": "qBucOa7y-qe2",
        "colab_type": "code",
        "outputId": "bbb4d9d8-abb9-4058-e904-61ab96cb9a25",
        "colab": {
          "base_uri": "https://localhost:8080/",
          "height": 85
        }
      },
      "source": [
        "xtabs(~dataPT.Y16_Q89a + dataPT.Y16_Q93b,dataPTsample_imp)"
      ],
      "execution_count": 60,
      "outputs": [
        {
          "output_type": "display_data",
          "data": {
            "text/plain": [
              "               dataPT.Y16_Q93b\n",
              "dataPT.Y16_Q89a    1    2   98   99\n",
              "              0  158 2553   19    1\n",
              "              1  249 1042    3    0"
            ]
          },
          "metadata": {
            "tags": []
          }
        }
      ]
    },
    {
      "cell_type": "code",
      "metadata": {
        "id": "7X0h6yQgfm8u",
        "colab_type": "code",
        "colab": {
          "base_uri": "https://localhost:8080/",
          "height": 68
        },
        "outputId": "955b7b16-8c50-41f8-ae92-5d3f356d3713"
      },
      "source": [
        "# Probit model average marginal effects\n",
        "ProbitScalar <- mean(dnorm(predict(probit_warm, type = \"link\")))\n",
        "ProbitScalar * coef(probit_warm)"
      ],
      "execution_count": 62,
      "outputs": [
        {
          "output_type": "display_data",
          "data": {
            "text/plain": [
              "                                       (Intercept) \n",
              "                                         1.3517002 \n",
              "                 dataPTsample_imp$dataPT.Y16_Q93b2 \n",
              "                                        -0.2071571 \n",
              "                dataPTsample_imp$dataPT.Y16_Q93b98 \n",
              "                                        -0.3828592 \n",
              "                dataPTsample_imp$dataPT.Y16_Q93b99 \n",
              "                                        -1.4056692 \n",
              "dataPTsample_imp$dataPT.Y16_Income_Equivalised_log \n",
              "                                        -0.2058464 "
            ],
            "text/latex": "\\begin{description*}\n\\item[(Intercept)] 1.35170016499375\n\\item[dataPTsample\\textbackslash{}\\_imp\\textbackslash{}\\$dataPT.Y16\\textbackslash{}\\_Q93b2] -0.207157105237687\n\\item[dataPTsample\\textbackslash{}\\_imp\\textbackslash{}\\$dataPT.Y16\\textbackslash{}\\_Q93b98] -0.382859185481759\n\\item[dataPTsample\\textbackslash{}\\_imp\\textbackslash{}\\$dataPT.Y16\\textbackslash{}\\_Q93b99] -1.40566918111654\n\\item[dataPTsample\\textbackslash{}\\_imp\\textbackslash{}\\$dataPT.Y16\\textbackslash{}\\_Income\\textbackslash{}\\_Equivalised\\textbackslash{}\\_log] -0.205846408083283\n\\end{description*}\n",
            "text/markdown": "(Intercept)\n:   1.35170016499375dataPTsample_imp$dataPT.Y16_Q93b2\n:   -0.207157105237687dataPTsample_imp$dataPT.Y16_Q93b98\n:   -0.382859185481759dataPTsample_imp$dataPT.Y16_Q93b99\n:   -1.40566918111654dataPTsample_imp$dataPT.Y16_Income_Equivalised_log\n:   -0.205846408083283\n\n",
            "text/html": [
              "<style>\n",
              ".dl-inline {width: auto; margin:0; padding: 0}\n",
              ".dl-inline>dt, .dl-inline>dd {float: none; width: auto; display: inline-block}\n",
              ".dl-inline>dt::after {content: \":\\0020\"; padding-right: .5ex}\n",
              ".dl-inline>dt:not(:first-of-type) {padding-left: .5ex}\n",
              "</style><dl class=dl-inline><dt>(Intercept)</dt><dd>1.35170016499375</dd><dt>dataPTsample_imp$dataPT.Y16_Q93b2</dt><dd>-0.207157105237687</dd><dt>dataPTsample_imp$dataPT.Y16_Q93b98</dt><dd>-0.382859185481759</dd><dt>dataPTsample_imp$dataPT.Y16_Q93b99</dt><dd>-1.40566918111654</dd><dt>dataPTsample_imp$dataPT.Y16_Income_Equivalised_log</dt><dd>-0.205846408083283</dd></dl>\n"
            ]
          },
          "metadata": {
            "tags": []
          }
        }
      ]
    },
    {
      "cell_type": "markdown",
      "metadata": {
        "id": "e6K75C9SzvSl",
        "colab_type": "text"
      },
      "source": [
        "Multiple Regression With k Independent Variables\n",
        "Generally, the dependent variable Y may depend on k different independent variables. Thus in practice we are often faced with a multiple regression model:\n",
        "Yi= β0+β1X1i+...+βkXki+ϵi,i=1,...,N\n",
        "\n",
        "we can think of the term  β0=β0⋅1, i.e. as the coefficient of a constant term.\n",
        "\n",
        "A single coefficientβj measures the effect of a unit change in  Xjon the expected value of Y, ceteris paribus (holding all else constant):"
      ]
    },
    {
      "cell_type": "markdown",
      "metadata": {
        "id": "PekEVmqX0nJJ",
        "colab_type": "text"
      },
      "source": [
        "Using Partial Effects at the Average (PEA):\n",
        "\n",
        "* a unit increase in the sample average value of educ results in a 0.0356 increase in the probability of returning to the labor force ;\n",
        "* a unit increase in the sample average value of age results in a 0.018698 decrease in the probability of returning to the labor force ;\n",
        "if the sample average number of kids under the age of 6, kidslt6 increases by one, then the probability of returning to the labor force changes by  −0.411591+0.096475⋅\n",
        "\n",
        "* kids ge6 if the average number of exper increases by one, then the probability of returning to the labor force changes by  0.039023−0.000573⋅(2⋅exper).\n",
        "\n",
        "\n",
        "\n",
        "\n",
        "\n"
      ]
    },
    {
      "cell_type": "code",
      "metadata": {
        "id": "W33KIXHw1A1o",
        "colab_type": "code",
        "colab": {
          "base_uri": "https://localhost:8080/",
          "height": 187
        },
        "outputId": "68af7ef0-298a-415e-b38e-6cc100b78379"
      },
      "source": [
        "APE_probit = mfx::probitmfx(formula = probit_warm$formula, data = probit_warm$data, atmean = FALSE)\n",
        "print(APE_probit$mfxest)"
      ],
      "execution_count": 69,
      "outputs": [
        {
          "output_type": "stream",
          "text": [
            "                                                        dF/dx   Std. Err.\n",
            "dataPTsample_imp$dataPT.Y16_Q93b2                  -0.2291372 0.024732571\n",
            "dataPTsample_imp$dataPT.Y16_Q93b98                 -0.2572150 0.037082891\n",
            "dataPTsample_imp$dataPT.Y16_Q93b99                 -0.3190708 0.009076746\n",
            "dataPTsample_imp$dataPT.Y16_Income_Equivalised_log -0.2058464 0.008868800\n",
            "                                                            z         P>|z|\n",
            "dataPTsample_imp$dataPT.Y16_Q93b2                   -9.264595  1.958194e-20\n",
            "dataPTsample_imp$dataPT.Y16_Q93b98                  -6.936217  4.027391e-12\n",
            "dataPTsample_imp$dataPT.Y16_Q93b99                 -35.152552 1.062590e-270\n",
            "dataPTsample_imp$dataPT.Y16_Income_Equivalised_log -23.210176 3.593990e-119\n"
          ],
          "name": "stdout"
        }
      ]
    },
    {
      "cell_type": "markdown",
      "metadata": {
        "id": "HKZ2ByRS1H_O",
        "colab_type": "text"
      },
      "source": [
        "Using (Average Partial Effect (APE):\n",
        "\n",
        "* a unit increase in educ results in the sample average estimated increase of 0.0299 in the probability of returning to the labor force;\n",
        "* a unit increase in age results in the sample average estimated decrease of 0.015705 in the probability of returning to the labor force;\n",
        "* a unit increase in kidslt6 results results in the sample average estimated change of −0.01252+0.081028⋅\n",
        "kdsge6.\n",
        "\n",
        "Note: this is similar to the PEA expression, which stems from the fact that the partial derivative with respect to kidsge6 returns −0.01252+0.081028⋅kidsge6. Since APE averages all the partial effects, kidsge6 turns into its average  \n",
        "kidsge6. In contrast, PEA already uses kidsge6 , but the expressions become equivalent, although with different coefficients."
      ]
    },
    {
      "cell_type": "code",
      "metadata": {
        "id": "8HyPyBcW1aEH",
        "colab_type": "code",
        "colab": {
          "base_uri": "https://localhost:8080/",
          "height": 221
        },
        "outputId": "7d513dd3-3414-41f0-bc79-a2bee83eef4f"
      },
      "source": [
        "print(round(coef(summary(probit_warm)), 5))"
      ],
      "execution_count": 64,
      "outputs": [
        {
          "output_type": "stream",
          "text": [
            "                                                   Estimate Std. Error\n",
            "(Intercept)                                         4.35373    0.21500\n",
            "dataPTsample_imp$dataPT.Y16_Q93b2                  -0.66724    0.06933\n",
            "dataPTsample_imp$dataPT.Y16_Q93b98                 -1.23316    0.34654\n",
            "dataPTsample_imp$dataPT.Y16_Q93b99                 -4.52756   57.93593\n",
            "dataPTsample_imp$dataPT.Y16_Income_Equivalised_log -0.66302    0.03327\n",
            "                                                     z value Pr(>|z|)\n",
            "(Intercept)                                         20.24966  0.00000\n",
            "dataPTsample_imp$dataPT.Y16_Q93b2                   -9.62411  0.00000\n",
            "dataPTsample_imp$dataPT.Y16_Q93b98                  -3.55851  0.00037\n",
            "dataPTsample_imp$dataPT.Y16_Q93b99                  -0.07815  0.93771\n",
            "dataPTsample_imp$dataPT.Y16_Income_Equivalised_log -19.92830  0.00000\n"
          ],
          "name": "stdout"
        }
      ]
    },
    {
      "cell_type": "markdown",
      "metadata": {
        "id": "4Aunt91A1mF5",
        "colab_type": "text"
      },
      "source": [
        "Interpreation on follows a similar idea to the logit, with the difference being that instead of the log-odds-ratio we now have the inverse normal cdf of the probability,  Φ−1(pi).\n",
        "\n",
        "Consequently, it makes more sense to evaluate the PEA and APE"
      ]
    },
    {
      "cell_type": "code",
      "metadata": {
        "id": "osyolupc15JE",
        "colab_type": "code",
        "colab": {
          "base_uri": "https://localhost:8080/",
          "height": 187
        },
        "outputId": "23f52703-710b-433a-c90d-51ce442562a1"
      },
      "source": [
        "PEA_probit = mfx::probitmfx(formula = probit_warm$formula, data = probit_warm$data, atmean = TRUE)\n",
        "print(PEA_probit$mfxest)"
      ],
      "execution_count": 65,
      "outputs": [
        {
          "output_type": "stream",
          "text": [
            "                                                        dF/dx  Std. Err.\n",
            "dataPTsample_imp$dataPT.Y16_Q93b2                  -0.2524478 0.02714492\n",
            "dataPTsample_imp$dataPT.Y16_Q93b98                 -0.2608094 0.03069561\n",
            "dataPTsample_imp$dataPT.Y16_Q93b99                 -0.2983414 0.00766036\n",
            "dataPTsample_imp$dataPT.Y16_Income_Equivalised_log -0.2298097 0.01154173\n",
            "                                                            z        P>|z|\n",
            "dataPTsample_imp$dataPT.Y16_Q93b2                   -9.300002 1.404427e-20\n",
            "dataPTsample_imp$dataPT.Y16_Q93b98                  -8.496637 1.951619e-17\n",
            "dataPTsample_imp$dataPT.Y16_Q93b99                 -38.946125 0.000000e+00\n",
            "dataPTsample_imp$dataPT.Y16_Income_Equivalised_log -19.911193 3.254745e-88\n"
          ],
          "name": "stdout"
        }
      ]
    },
    {
      "cell_type": "code",
      "metadata": {
        "id": "9DKaZLOg1-Bq",
        "colab_type": "code",
        "colab": {
          "base_uri": "https://localhost:8080/",
          "height": 187
        },
        "outputId": "d80a9529-e5a4-4224-c8e5-b2bf0d852d17"
      },
      "source": [
        "APE_probit = mfx::probitmfx(formula = probit_warm$formula, data = probit_warm$data, atmean = FALSE)\n",
        "print(APE_probit$mfxest)"
      ],
      "execution_count": 67,
      "outputs": [
        {
          "output_type": "stream",
          "text": [
            "                                                        dF/dx   Std. Err.\n",
            "dataPTsample_imp$dataPT.Y16_Q93b2                  -0.2291372 0.024732571\n",
            "dataPTsample_imp$dataPT.Y16_Q93b98                 -0.2572150 0.037082891\n",
            "dataPTsample_imp$dataPT.Y16_Q93b99                 -0.3190708 0.009076746\n",
            "dataPTsample_imp$dataPT.Y16_Income_Equivalised_log -0.2058464 0.008868800\n",
            "                                                            z         P>|z|\n",
            "dataPTsample_imp$dataPT.Y16_Q93b2                   -9.264595  1.958194e-20\n",
            "dataPTsample_imp$dataPT.Y16_Q93b98                  -6.936217  4.027391e-12\n",
            "dataPTsample_imp$dataPT.Y16_Q93b99                 -35.152552 1.062590e-270\n",
            "dataPTsample_imp$dataPT.Y16_Income_Equivalised_log -23.210176 3.593990e-119\n"
          ],
          "name": "stdout"
        }
      ]
    },
    {
      "cell_type": "markdown",
      "metadata": {
        "id": "eUut5DjF2G9_",
        "colab_type": "text"
      },
      "source": [
        "The interpretation of PEA and APE of the probit model are analogous to the logit model - a unit increase in the (average, if PEA) regressor results in the specified change (or average change in the case of APE) in the probability.\n",
        "\n",
        "Marginal effects show the change in probability when the predictor, or independent, variable increases by one unit. For continuous variables this represents the instantaneous change given that the ‘unit’ may be very small. For binary variables, the change is from 0 to 1, so one ‘unit’ as it is usually thought.\n",
        "\n",
        "As in the multiple linear regression case, the intercept does not have a meaningful interpretation.\n"
      ]
    },
    {
      "cell_type": "markdown",
      "metadata": {
        "id": "Mdyti96ITxK8",
        "colab_type": "text"
      },
      "source": [
        "### Goodness of fit measures"
      ]
    },
    {
      "cell_type": "code",
      "metadata": {
        "id": "KpjTLDEFYRF-",
        "colab_type": "code",
        "colab": {
          "base_uri": "https://localhost:8080/",
          "height": 85
        },
        "outputId": "344600a0-04ca-4b33-f57f-6d8bb0b1c4a9"
      },
      "source": [
        "table5 <- table(true = dataPTsample_imp$dataPT.Y16_Q89a, pred = round(fitted(probit_warm)))\n",
        "table5"
      ],
      "execution_count": 70,
      "outputs": [
        {
          "output_type": "display_data",
          "data": {
            "text/plain": [
              "    pred\n",
              "true    0    1\n",
              "   0 2479  252\n",
              "   1  889  405"
            ]
          },
          "metadata": {
            "tags": []
          }
        }
      ]
    },
    {
      "cell_type": "code",
      "metadata": {
        "id": "iZ7GNfopYuRk",
        "colab_type": "code",
        "colab": {
          "base_uri": "https://localhost:8080/",
          "height": 85
        },
        "outputId": "a09f3a3a-6173-41e6-cd32-986b409379cb"
      },
      "source": [
        "prop.table(table5)"
      ],
      "execution_count": 71,
      "outputs": [
        {
          "output_type": "display_data",
          "data": {
            "text/plain": [
              "    pred\n",
              "true         0         1\n",
              "   0 0.6159006 0.0626087\n",
              "   1 0.2208696 0.1006211"
            ]
          },
          "metadata": {
            "tags": []
          }
        }
      ]
    },
    {
      "cell_type": "code",
      "metadata": {
        "id": "dRUGwxJLABcJ",
        "colab_type": "code",
        "colab": {}
      },
      "source": [
        "predicted.data <- data.frame(\n",
        "  probability.of.hd=probit_warm$fitted.values,\n",
        "  warm=dataPTsample_imp$dataPT.Y16_Q89a)"
      ],
      "execution_count": 0,
      "outputs": []
    },
    {
      "cell_type": "code",
      "metadata": {
        "id": "wKOk8x2-vwY0",
        "colab_type": "code",
        "colab": {}
      },
      "source": [
        "predicted <- predict(probit_warm, dataPTsample_imp, type=\"response\")"
      ],
      "execution_count": 0,
      "outputs": []
    },
    {
      "cell_type": "code",
      "metadata": {
        "id": "UCgSCUDoBRyH",
        "colab_type": "code",
        "outputId": "1fc48d59-b9df-4c82-f0bb-f7421930e19c",
        "colab": {
          "base_uri": "https://localhost:8080/",
          "height": 437
        }
      },
      "source": [
        "#plot(predicted.data$warm)\n",
        "g4 <- ggplot(predicted.data, aes(warm))\n",
        "# Number of cars in each class:\n",
        "g4 + geom_bar() + labs(title= \"Predicted\",  y=\"Count\", x = \"Response\")"
      ],
      "execution_count": 74,
      "outputs": [
        {
          "output_type": "display_data",
          "data": {
            "image/png": "[encoded data removed]",
            "text/plain": [
              "plot without title"
            ]
          },
          "metadata": {
            "tags": [],
            "image/png": {
              "width": 420,
              "height": 420
            },
            "text/plain": {
              "width": 420,
              "height": 420
            }
          }
        }
      ]
    },
    {
      "cell_type": "code",
      "metadata": {
        "id": "HVA78OV-cFo1",
        "colab_type": "code",
        "colab": {
          "base_uri": "https://localhost:8080/",
          "height": 34
        },
        "outputId": "43b79bbb-c0b4-42f8-a113-bfb7cdb43524"
      },
      "source": [
        "100 - (59.27 + 11.97)"
      ],
      "execution_count": 75,
      "outputs": [
        {
          "output_type": "display_data",
          "data": {
            "text/plain": [
              "[1] 28.76"
            ],
            "text/latex": "28.76",
            "text/markdown": "28.76",
            "text/html": [
              "28.76"
            ]
          },
          "metadata": {
            "tags": []
          }
        }
      ]
    },
    {
      "cell_type": "markdown",
      "metadata": {
        "id": "_9ZcmYlrakH2",
        "colab_type": "text"
      },
      "source": [
        "71.24% (59.27% + 11.97) correctly classified and 28.76 missclasfied"
      ]
    },
    {
      "cell_type": "code",
      "metadata": {
        "id": "ImgmYN2RXpsU",
        "colab_type": "code",
        "colab": {
          "base_uri": "https://localhost:8080/",
          "height": 51
        },
        "outputId": "3c1aa978-9ef6-41c4-b43a-041fc74eb113"
      },
      "source": [
        "# McFadden's Pseudo R-squared\n",
        "probit0 <- update(probit_warm, formula = . ~ 1)\n",
        "#probit0<-update(probit, formula= dataPTsample_imp$dataPT.Y16_Q89a ~ 1)\n",
        "McFadden<- 1 - as.vector(logLik(probit_warm)/logLik(probit0))\n",
        "pseudoR2 <- 1 - (probit_warm$deviance) / (probit_warm$null.deviance)\n",
        "pseudoR2\n",
        "McFadden"
      ],
      "execution_count": 90,
      "outputs": [
        {
          "output_type": "display_data",
          "data": {
            "text/plain": [
              "[1] 0.1259657"
            ],
            "text/latex": "0.125965651354172",
            "text/markdown": "0.125965651354172",
            "text/html": [
              "0.125965651354172"
            ]
          },
          "metadata": {
            "tags": []
          }
        },
        {
          "output_type": "display_data",
          "data": {
            "text/plain": [
              "[1] 0.1259657"
            ],
            "text/latex": "0.125965651354172",
            "text/markdown": "0.125965651354172",
            "text/html": [
              "0.125965651354172"
            ]
          },
          "metadata": {
            "tags": []
          }
        }
      ]
    },
    {
      "cell_type": "markdown",
      "metadata": {
        "id": "JoocZP16WYAg",
        "colab_type": "text"
      },
      "source": [
        "The Pseudo Pseudo R-squared) was 12,5%, implying that the model explained only about 12,5% 71% of the deviations in the probability of dataPTsample_imp$dataPT.Y16_Q89a."
      ]
    },
    {
      "cell_type": "markdown",
      "metadata": {
        "id": "Kr4ES8tNrUTu",
        "colab_type": "text"
      },
      "source": [
        "## With interation terms (arreas and income)\n",
        "\n"
      ]
    },
    {
      "cell_type": "code",
      "metadata": {
        "id": "8lxQEJ95D7N1",
        "colab_type": "code",
        "colab": {}
      },
      "source": [
        "mod2 <- glm(dataPT.Y16_Q89a ~ (dataPT.Y16_Q93b + dataPT.Y16_Income_Equivalised_log)^2, \n",
        "             data=dataPTsample_imp, na.action=\"na.exclude\",  family=\"binomial\") "
      ],
      "execution_count": 0,
      "outputs": []
    },
    {
      "cell_type": "code",
      "metadata": {
        "id": "rR9ctbjd_TT8",
        "colab_type": "code",
        "outputId": "b4c964b5-be6e-499c-ddc6-aac35192bcca",
        "colab": {
          "base_uri": "https://localhost:8080/",
          "height": 442
        }
      },
      "source": [
        "mod2"
      ],
      "execution_count": 78,
      "outputs": [
        {
          "output_type": "display_data",
          "data": {
            "text/plain": [
              "\n",
              "Call:  glm(formula = dataPT.Y16_Q89a ~ (dataPT.Y16_Q93b + dataPT.Y16_Income_Equivalised_log)^2, \n",
              "    family = \"binomial\", data = dataPTsample_imp, na.action = \"na.exclude\")\n",
              "\n",
              "Coefficients:\n",
              "                                        (Intercept)  \n",
              "                                             6.8434  \n",
              "                                   dataPT.Y16_Q93b2  \n",
              "                                            -0.4057  \n",
              "                                  dataPT.Y16_Q93b98  \n",
              "                                             0.5640  \n",
              "                                  dataPT.Y16_Q93b99  \n",
              "                                           -11.7978  \n",
              "                  dataPT.Y16_Income_Equivalised_log  \n",
              "                                            -1.0387  \n",
              " dataPT.Y16_Q93b2:dataPT.Y16_Income_Equivalised_log  \n",
              "                                            -0.1092  \n",
              "dataPT.Y16_Q93b98:dataPT.Y16_Income_Equivalised_log  \n",
              "                                            -0.4196  \n",
              "dataPT.Y16_Q93b99:dataPT.Y16_Income_Equivalised_log  \n",
              "                                                 NA  \n",
              "\n",
              "Degrees of Freedom: 4024 Total (i.e. Null);  4018 Residual\n",
              "Null Deviance:\t    5055 \n",
              "Residual Deviance: 4419 \tAIC: 4433"
            ]
          },
          "metadata": {
            "tags": []
          }
        }
      ]
    },
    {
      "cell_type": "code",
      "metadata": {
        "id": "Bmh8d_BfrkZQ",
        "colab_type": "code",
        "colab": {}
      },
      "source": [
        "modinteration = probitmfx(dataPT.Y16_Q89a ~ (dataPT.Y16_Q93b + dataPT.Y16_Income_Equivalised_log^2), \n",
        "             data=dataPTsample_imp)"
      ],
      "execution_count": 0,
      "outputs": []
    },
    {
      "cell_type": "code",
      "metadata": {
        "id": "_4x09XyAFGlh",
        "colab_type": "code",
        "outputId": "be151a8a-0e52-44ca-920e-0700b3331b67",
        "colab": {
          "base_uri": "https://localhost:8080/",
          "height": 289
        }
      },
      "source": [
        "modinteration"
      ],
      "execution_count": 86,
      "outputs": [
        {
          "output_type": "display_data",
          "data": {
            "text/plain": [
              "Call:\n",
              "probitmfx(formula = dataPT.Y16_Q89a ~ (dataPT.Y16_Q93b + dataPT.Y16_Income_Equivalised_log^2), \n",
              "    data = dataPTsample_imp)\n",
              "\n",
              "Marginal Effects:\n",
              "                                       dF/dx  Std. Err.        z     P>|z|    \n",
              "dataPT.Y16_Q93b2                  -0.2524478  0.0271449  -9.3000 < 2.2e-16 ***\n",
              "dataPT.Y16_Q93b98                 -0.2608094  0.0306956  -8.4966 < 2.2e-16 ***\n",
              "dataPT.Y16_Q93b99                 -0.2983414  0.0076604 -38.9461 < 2.2e-16 ***\n",
              "dataPT.Y16_Income_Equivalised_log -0.2298097  0.0115417 -19.9112 < 2.2e-16 ***\n",
              "---\n",
              "Signif. codes:  0 ‘***’ 0.001 ‘**’ 0.01 ‘*’ 0.05 ‘.’ 0.1 ‘ ’ 1\n",
              "\n",
              "dF/dx is for discrete change for the following variables:\n",
              "\n",
              "[1] \"dataPT.Y16_Q93b2\"  \"dataPT.Y16_Q93b98\" \"dataPT.Y16_Q93b99\""
            ]
          },
          "metadata": {
            "tags": []
          }
        }
      ]
    },
    {
      "cell_type": "markdown",
      "metadata": {
        "id": "-bFyKjmUVyQ2",
        "colab_type": "text"
      },
      "source": [
        "With intarations there is no gain (no significance)"
      ]
    },
    {
      "cell_type": "markdown",
      "metadata": {
        "id": "IQEcdb-0yblO",
        "colab_type": "text"
      },
      "source": [
        "## Residuals\n",
        "\n",
        "In the probit model, the inverse standard normal distribution of the probability is modeled as a linear combination of the predictors.\n",
        "\n",
        "### Detecting heteroscedasticty\n",
        "One issue that often raises concerns in statistical inference is that of heteroscedasticity, when the error term has non constant variance. Heteroscedasticity can bias the statistical inference and lead to improper standard errors, confidence intervals, and p-values. In ordinary linear regression, this topic has been covered extensively. Not much has been proposed in the literature for categorical models.\n",
        "\n",
        "Residuals and Diagnostics for Binary and Ordinal Regression Models: An Introduction to the sure Package\n",
        "https://journal.r-project.org/archive/2018/RJ-2018-004/RJ-2018-004.pdf"
      ]
    },
    {
      "cell_type": "code",
      "metadata": {
        "id": "MtXdIOreORo3",
        "colab_type": "code",
        "outputId": "f9e40157-d08b-49a0-ac0b-55b1fcf46113",
        "colab": {
          "base_uri": "https://localhost:8080/",
          "height": 437
        }
      },
      "source": [
        "plot(predict(probit_warm),residuals(probit_warm))\n",
        "abline(h=0,lty=2,col=\"grey\")\n",
        "lines(lowess(predict(probit_warm),residuals(probit_warm)),col=\"black\",lwd=2)"
      ],
      "execution_count": 92,
      "outputs": [
        {
          "output_type": "display_data",
          "data": {
            "image/png": "[encoded data removed]",
            "text/plain": [
              "plot without title"
            ]
          },
          "metadata": {
            "tags": [],
            "image/png": {
              "width": 420,
              "height": 420
            },
            "text/plain": {
              "width": 420,
              "height": 420
            }
          }
        }
      ]
    },
    {
      "cell_type": "code",
      "metadata": {
        "id": "wnbUeHl_gVZF",
        "colab_type": "code",
        "colab": {
          "base_uri": "https://localhost:8080/",
          "height": 34
        },
        "outputId": "5faff46d-a9ba-40ab-80a8-2493b38f78fa"
      },
      "source": [
        "#Sums of squares:\n",
        "deviance(probit_warm)"
      ],
      "execution_count": 94,
      "outputs": [
        {
          "output_type": "display_data",
          "data": {
            "text/plain": [
              "[1] 4418.509"
            ],
            "text/latex": "4418.50874919432",
            "text/markdown": "4418.50874919432",
            "text/html": [
              "4418.50874919432"
            ]
          },
          "metadata": {
            "tags": []
          }
        }
      ]
    },
    {
      "cell_type": "code",
      "metadata": {
        "id": "PiwK51AVge4G",
        "colab_type": "code",
        "colab": {
          "base_uri": "https://localhost:8080/",
          "height": 34
        },
        "outputId": "412fa35c-e66c-41d9-eb00-0b39c72ee526"
      },
      "source": [
        "sum(residuals(probit_warm, type = \"deviance\")^2)"
      ],
      "execution_count": 95,
      "outputs": [
        {
          "output_type": "display_data",
          "data": {
            "text/plain": [
              "[1] 4418.509"
            ],
            "text/latex": "4418.50874919432",
            "text/markdown": "4418.50874919432",
            "text/html": [
              "4418.50874919432"
            ]
          },
          "metadata": {
            "tags": []
          }
        }
      ]
    },
    {
      "cell_type": "code",
      "metadata": {
        "id": "kyPGjDIqgsQn",
        "colab_type": "code",
        "colab": {
          "base_uri": "https://localhost:8080/",
          "height": 34
        },
        "outputId": "39f52efe-ef56-474a-9d15-72310c83b83f"
      },
      "source": [
        "sum(residuals(probit_warm, type = \"pearson\")^2)"
      ],
      "execution_count": 96,
      "outputs": [
        {
          "output_type": "display_data",
          "data": {
            "text/plain": [
              "[1] 4043.438"
            ],
            "text/latex": "4043.43750087839",
            "text/markdown": "4043.43750087839",
            "text/html": [
              "4043.43750087839"
            ]
          },
          "metadata": {
            "tags": []
          }
        }
      ]
    },
    {
      "cell_type": "markdown",
      "metadata": {
        "id": "7kpj8uJw4SMv",
        "colab_type": "text"
      },
      "source": [
        "### Bakground\n",
        "\n",
        "* Energy poverty in Portugal: Combining vulnerability mapping with household interviews\n",
        "(https://ligar.adene.pt/wp-content/uploads/2019/10/Artigo-Energy-poverty-in-Portugal.pdf)\n",
        "\n",
        "* An Empirical Estimation of Energy Poverty in Poor South African Households\n",
        "(https://www.semanticscholar.org/paper/An-Empirical-Estimation-of-Energy-Poverty-in-Poor-Ismail/8edc74fc94e47b6f7889a8dfb13ad71a352924bf)\n",
        "\n",
        "* Qualifying and quantifying fuel poverty across the\n",
        "European Union using consensual indicators.\n",
        "https://www.eagacharitabletrust.org/app/uploads/2016/03/h_thomsoneufuelpoverty.pdf\n",
        "\n",
        "* Selecting Indicators to Measure Energy Poverty Under the Pilot Project ‘Energy Poverty – Assessment of the Impact of the Crisis and Review of Existing and Possible New Measures in the Member States (https://ec.europa.eu/energy/sites/ener/files/documents/Selecting%20Indicators%20to%20Measure%20Energy%20Poverty.pdf)\n",
        "\n",
        "* STUDY ON THE APPLICATION OF THE SOCIAL ENERGY\n",
        "TARIFF IN PORTUGAL (https://publicadministration.un.org/unpsa/Portals/0/UNPSA_Submitted_Docs/2019/6681792d-c839-4e02-a3c6-74671ce9babe/File%201_2020%20UNPSA_ASET-Automatic%20Social%20Energy%20Tariff_Evaluation%20Report_26112019_115858_364a97ae-b028-4834-9fb4-2f42bdb43809.pdf?ver=2019-11-26-115858-290)\n",
        "\n",
        "* Health, Well-Being and Energy Poverty in Europe: A Comparative Study of 32 European Countries\n",
        "(https://www.ncbi.nlm.nih.gov/pmc/articles/PMC5486270/)\n",
        "\n",
        "* Energy poverty measures and the identification of the\n",
        "energy poor: A comparison between the utilitarian\n",
        "and multidimensional approaches in Chile\n",
        "https://www.econstor.eu/bitstream/10419/204512/1/1678631272.pdf)\n",
        "\n",
        "* Energy poverty measures and the identification of the\n",
        "energy poor: A comparison between the utilitarian\n",
        "and multidimensional approaches in Chile (http://enr-network.org/wp-content/uploads/ENERGYPOVERTY-EnRPositionPaper-Energypoverty-Jan-2019.pdf)\n",
        "\n"
      ]
    },
    {
      "cell_type": "markdown",
      "metadata": {
        "id": "EzFm-RY-6q_7",
        "colab_type": "text"
      },
      "source": [
        "### References: \n",
        "\n",
        "Jeffrey_M._Wooldridge_Introductory_Econometrics_A_Modern_Approach__2012.pdf (Chapter 17, pg 583 et seq.) \n",
        "\n",
        "chapter 17 \n",
        "Limited Dependent Variable Models and Sample Selection\n",
        "Corrections 583\n",
        "17.1 Logit and Probit Models for Binary\n",
        "Response 584\n",
        "Specifying Logit and Probit Models 584\n",
        "Maximum Likelihood Estimation of Logit and Probit Models 587\n",
        "Testing Multiple Hypotheses 588\n",
        "Interpreting the Logit and Probit\n",
        "Estimates 589\n",
        "\n",
        "Microeconometrics - Methods and Applications - A. Colin Cameron Pravin K. Trivedi- microeconometrics-methods-and-applications.pdf\n",
        "\n",
        "PART FOUR\n",
        "Models for Cross-Section\n",
        "Data 461\n",
        "\n",
        "Econometric Analysis of Cross Section and Panel Data\n",
        "\n",
        "Je¤rey M. Wooldridge\n",
        "\n",
        "The Linear Probability Model for Binary Response 454\n",
        "15.3 Index Models for Binary Response: Probit and Logit 457"
      ]
    }
  ]
}