{
 "cells": [
  {
   "cell_type": "markdown",
   "metadata": {},
   "source": [
    "# Fintech and Digital Currencies"
   ]
  },
  {
   "cell_type": "markdown",
   "metadata": {},
   "source": [
    "url: https://mailchi.mp/cepr/fintech-and-digital-currencies-basel-26-27-september-2019"
   ]
  },
  {
   "cell_type": "markdown",
   "metadata": {},
   "source": [
    "Implications for financial markets of the rise of artificial intelligence (AI), big data and crypto-assets, and the macroeconomic outcomes;\n",
    "\n",
    "Technological innovations in financial and payment systems: implications for financial intermediation;\n",
    "\n",
    "Consequences of digitalisation for financial stability, monetary transmission and the conduct of monetary policy;\n",
    "\n",
    "How financial innovation can help central banks to achieve their mandates;\n",
    "\n",
    "Central bank digital currencies: pros and cons;\n",
    "\n",
    "How central banks and financial regulators might respond to recent financial innovations;\n",
    "\n",
    "Big data and consumer protection in the financial sector;\n",
    "\n",
    "Financial innovation and new funding models (eg ICOs); and\n",
    "\n",
    "Technology and financial inclusion.\n"
   ]
  },
  {
   "cell_type": "markdown",
   "metadata": {},
   "source": [
    "## Tittle\n",
    "\n"
   ]
  },
  {
   "cell_type": "markdown",
   "metadata": {},
   "source": [
    "### Abstract"
   ]
  },
  {
   "cell_type": "markdown",
   "metadata": {},
   "source": [
    "### Background\n",
    "\n",
    "- Definition of money\n",
    "\n",
    "- Physical and Digital\n",
    "\n",
    "- Means of payment or investment\n",
    "\n",
    "- Markets and information\n",
    "\n",
    "- Market signalling\n",
    "\n",
    "- Market abuse and manipulation"
   ]
  },
  {
   "cell_type": "markdown",
   "metadata": {},
   "source": [
    "### Literature\n",
    "\n",
    "Regulation caracterisation \n"
   ]
  },
  {
   "cell_type": "markdown",
   "metadata": {},
   "source": [
    "### Methodology\n",
    "\n",
    "- Network analysis\n",
    "- Liquidity\n",
    "- M.V (Quantitative theory of money)\n",
    "- Signalling and market concentration (price manipulation)\n"
   ]
  },
  {
   "cell_type": "markdown",
   "metadata": {},
   "source": [
    "### Data\n",
    "\n",
    "Ethereum_blockchain \n",
    "\n",
    "(https://github.com/blockchain-etl/ethereum-etl)\n",
    "\n",
    "Choose at least 3 tokens/contracts\n",
    "\n",
    "Liquid: \n",
    "- BTC (bigquery-public-data:crypto_bitcoin)\n",
    "\n",
    "- ETH Classic (bigquery-public-data:crypto_ethereum_classic)\n",
    "\n",
    "Token (bigquery-public-data:ethereum_blockchain)\n",
    "\n",
    "- BNB(0xB8c77482e45F1F44dE1745F52C74426C631bDD52) #Binance Token (https://www.binance.com/)\n",
    "\n",
    "- Envion (0xd780ae2bf04cd96e577d3d014762f831d97129d0) # Envion (https://www.envion.org/)\n",
    "\n",
    "- Tronix (0xf230b790e05390fc8295f4d3f60332c93bed42e2) #Tron (https://tron.network/) migrated \n",
    "\n",
    "- CryptoKitties (0x06012c8cf97bead5deae237070f9587f8e7a266d)(https://www.cryptokitties.co/) \n",
    "\n",
    "- Cryoto.com (0xa0b73e1ff0b80914ab6fe0444e65848c4c34450b) # (https://www.crypto.com/en/chain)"
   ]
  },
  {
   "cell_type": "markdown",
   "metadata": {},
   "source": [
    "### Results\n"
   ]
  },
  {
   "cell_type": "markdown",
   "metadata": {},
   "source": [
    "### Future work\n",
    "\n",
    "### Limitations\n",
    "\n",
    "### References\n",
    "\n",
    "Cf.: https://docs.google.com/spreadsheets/d/1ao7iRA439WwVhe_JVHpbATOQcWJmyk0uZZZaD2kFT7c/edit#gid=0\n",
    "\n"
   ]
  },
  {
   "cell_type": "code",
   "execution_count": 2,
   "metadata": {},
   "outputs": [],
   "source": [
    "from google.cloud import bigquery\n",
    "\n",
    "client = bigquery.Client.from_service_account_json(\"/Users/dvf/Desktop/Blockchain_Legal-1e0dd726f3a4.json\")\n"
   ]
  },
  {
   "cell_type": "code",
   "execution_count": 25,
   "metadata": {},
   "outputs": [
    {
     "data": {
      "text/html": [
       "<div>\n",
       "<style scoped>\n",
       "    .dataframe tbody tr th:only-of-type {\n",
       "        vertical-align: middle;\n",
       "    }\n",
       "\n",
       "    .dataframe tbody tr th {\n",
       "        vertical-align: top;\n",
       "    }\n",
       "\n",
       "    .dataframe thead th {\n",
       "        text-align: right;\n",
       "    }\n",
       "</style>\n",
       "<table border=\"1\" class=\"dataframe\">\n",
       "  <thead>\n",
       "    <tr style=\"text-align: right;\">\n",
       "      <th></th>\n",
       "      <th>token_address</th>\n",
       "      <th>from_address</th>\n",
       "      <th>to_address</th>\n",
       "      <th>value</th>\n",
       "      <th>transaction_hash</th>\n",
       "      <th>log_index</th>\n",
       "      <th>block_timestamp</th>\n",
       "      <th>block_number</th>\n",
       "      <th>block_hash</th>\n",
       "    </tr>\n",
       "  </thead>\n",
       "  <tbody>\n",
       "    <tr>\n",
       "      <th>0</th>\n",
       "      <td>0x70a72833d6bf7f508c8224ce59ea1ef3d0ea3a38</td>\n",
       "      <td>0x2b5634c42055806a59e9107ed44d43c426e58258</td>\n",
       "      <td>0x262fec3747d4b5bdf76299057b299e1d4af66cf6</td>\n",
       "      <td>60806000000000000000000</td>\n",
       "      <td>0xbe84a15e5b093fc6acc144a3c33c6b1dee9527d004a8...</td>\n",
       "      <td>47</td>\n",
       "      <td>2018-08-17 13:37:17+00:00</td>\n",
       "      <td>6163971</td>\n",
       "      <td>0xf74624a734e916f556510432938150a32f032e0085c6...</td>\n",
       "    </tr>\n",
       "    <tr>\n",
       "      <th>1</th>\n",
       "      <td>0x70a72833d6bf7f508c8224ce59ea1ef3d0ea3a38</td>\n",
       "      <td>0xfa4b5be3f2f84f56703c42eb22142744e95a2c58</td>\n",
       "      <td>0x234bbe94296714e92b548a0e0836744c9f617c5b</td>\n",
       "      <td>6016249380000000000000</td>\n",
       "      <td>0xd773f89b467f513ca768471a98cf16c771cf89d3e228...</td>\n",
       "      <td>0</td>\n",
       "      <td>2018-08-17 08:26:53+00:00</td>\n",
       "      <td>6162697</td>\n",
       "      <td>0xe779a6c99724fd1768135acd50281a251b5c9a9069a1...</td>\n",
       "    </tr>\n",
       "    <tr>\n",
       "      <th>2</th>\n",
       "      <td>0x70a72833d6bf7f508c8224ce59ea1ef3d0ea3a38</td>\n",
       "      <td>0x2a0c0dbecc7e4d658f48e01e3fa353f44050c208</td>\n",
       "      <td>0x1077ab95c1ff324842ae8dd1ca3ebf6dfbe1e16f</td>\n",
       "      <td>1277319492736347559191</td>\n",
       "      <td>0x238ffbb15326194173ca942238b7fe83ea412bc7da4b...</td>\n",
       "      <td>24</td>\n",
       "      <td>2018-08-17 18:48:35+00:00</td>\n",
       "      <td>6165258</td>\n",
       "      <td>0xdf9a92e5ce89eb87bff8c29f0c7832c062258a0a5a0b...</td>\n",
       "    </tr>\n",
       "    <tr>\n",
       "      <th>3</th>\n",
       "      <td>0x70a72833d6bf7f508c8224ce59ea1ef3d0ea3a38</td>\n",
       "      <td>0xdd3e96e7a54144c9c4586f9afd271b896d706113</td>\n",
       "      <td>0xe05d9b367a22658211da3814058803dd9a162e32</td>\n",
       "      <td>75000000000000000000000</td>\n",
       "      <td>0x6b99aee10cbfd44d18a98cc404500223c1ce18bacbc0...</td>\n",
       "      <td>49</td>\n",
       "      <td>2018-08-17 02:01:47+00:00</td>\n",
       "      <td>6161164</td>\n",
       "      <td>0x072265b39dacf243315ba40476df68b8a5784332dcf4...</td>\n",
       "    </tr>\n",
       "    <tr>\n",
       "      <th>4</th>\n",
       "      <td>0x70a72833d6bf7f508c8224ce59ea1ef3d0ea3a38</td>\n",
       "      <td>0x2b5634c42055806a59e9107ed44d43c426e58258</td>\n",
       "      <td>0xdfd53c4cfb7c29c5019edfde49416a2dff527273</td>\n",
       "      <td>189800000000000000000</td>\n",
       "      <td>0x2fb3f494c4646a8fab626f6b1beee97df7514a476823...</td>\n",
       "      <td>27</td>\n",
       "      <td>2018-08-17 02:02:23+00:00</td>\n",
       "      <td>6161166</td>\n",
       "      <td>0xc71eae67fb6439d27f17454ce5a2986aff838d35fa15...</td>\n",
       "    </tr>\n",
       "  </tbody>\n",
       "</table>\n",
       "</div>"
      ],
      "text/plain": [
       "                                token_address  \\\n",
       "0  0x70a72833d6bf7f508c8224ce59ea1ef3d0ea3a38   \n",
       "1  0x70a72833d6bf7f508c8224ce59ea1ef3d0ea3a38   \n",
       "2  0x70a72833d6bf7f508c8224ce59ea1ef3d0ea3a38   \n",
       "3  0x70a72833d6bf7f508c8224ce59ea1ef3d0ea3a38   \n",
       "4  0x70a72833d6bf7f508c8224ce59ea1ef3d0ea3a38   \n",
       "\n",
       "                                 from_address  \\\n",
       "0  0x2b5634c42055806a59e9107ed44d43c426e58258   \n",
       "1  0xfa4b5be3f2f84f56703c42eb22142744e95a2c58   \n",
       "2  0x2a0c0dbecc7e4d658f48e01e3fa353f44050c208   \n",
       "3  0xdd3e96e7a54144c9c4586f9afd271b896d706113   \n",
       "4  0x2b5634c42055806a59e9107ed44d43c426e58258   \n",
       "\n",
       "                                   to_address                    value  \\\n",
       "0  0x262fec3747d4b5bdf76299057b299e1d4af66cf6  60806000000000000000000   \n",
       "1  0x234bbe94296714e92b548a0e0836744c9f617c5b   6016249380000000000000   \n",
       "2  0x1077ab95c1ff324842ae8dd1ca3ebf6dfbe1e16f   1277319492736347559191   \n",
       "3  0xe05d9b367a22658211da3814058803dd9a162e32  75000000000000000000000   \n",
       "4  0xdfd53c4cfb7c29c5019edfde49416a2dff527273    189800000000000000000   \n",
       "\n",
       "                                    transaction_hash  log_index  \\\n",
       "0  0xbe84a15e5b093fc6acc144a3c33c6b1dee9527d004a8...         47   \n",
       "1  0xd773f89b467f513ca768471a98cf16c771cf89d3e228...          0   \n",
       "2  0x238ffbb15326194173ca942238b7fe83ea412bc7da4b...         24   \n",
       "3  0x6b99aee10cbfd44d18a98cc404500223c1ce18bacbc0...         49   \n",
       "4  0x2fb3f494c4646a8fab626f6b1beee97df7514a476823...         27   \n",
       "\n",
       "            block_timestamp  block_number  \\\n",
       "0 2018-08-17 13:37:17+00:00       6163971   \n",
       "1 2018-08-17 08:26:53+00:00       6162697   \n",
       "2 2018-08-17 18:48:35+00:00       6165258   \n",
       "3 2018-08-17 02:01:47+00:00       6161164   \n",
       "4 2018-08-17 02:02:23+00:00       6161166   \n",
       "\n",
       "                                          block_hash  \n",
       "0  0xf74624a734e916f556510432938150a32f032e0085c6...  \n",
       "1  0xe779a6c99724fd1768135acd50281a251b5c9a9069a1...  \n",
       "2  0xdf9a92e5ce89eb87bff8c29f0c7832c062258a0a5a0b...  \n",
       "3  0x072265b39dacf243315ba40476df68b8a5784332dcf4...  \n",
       "4  0xc71eae67fb6439d27f17454ce5a2986aff838d35fa15...  "
      ]
     },
     "execution_count": 25,
     "metadata": {},
     "output_type": "execute_result"
    }
   ],
   "source": [
    "#query UTK as example\n",
    "QUERY = (\n",
    "    'SELECT * FROM `bigquery-public-data.ethereum_blockchain.token_transfers`'\n",
    "    'WHERE token_address = \"0x70a72833d6bf7f508c8224ce59ea1ef3d0ea3a38\"' \n",
    "    'LIMIT 1000')\n",
    "query_job = client.query(QUERY)  # API request\n",
    "rows = query_job.result()  # Waits for query to finish\n",
    "\n",
    "df = query_job.result(QUERY).to_dataframe()\n",
    "df.head()"
   ]
  },
  {
   "cell_type": "code",
   "execution_count": 26,
   "metadata": {},
   "outputs": [
    {
     "data": {
      "text/html": [
       "<div>\n",
       "<style scoped>\n",
       "    .dataframe tbody tr th:only-of-type {\n",
       "        vertical-align: middle;\n",
       "    }\n",
       "\n",
       "    .dataframe tbody tr th {\n",
       "        vertical-align: top;\n",
       "    }\n",
       "\n",
       "    .dataframe thead th {\n",
       "        text-align: right;\n",
       "    }\n",
       "</style>\n",
       "<table border=\"1\" class=\"dataframe\">\n",
       "  <thead>\n",
       "    <tr style=\"text-align: right;\">\n",
       "      <th></th>\n",
       "      <th>token_address</th>\n",
       "      <th>from_address</th>\n",
       "      <th>to_address</th>\n",
       "      <th>value</th>\n",
       "      <th>transaction_hash</th>\n",
       "      <th>log_index</th>\n",
       "      <th>block_timestamp</th>\n",
       "      <th>block_number</th>\n",
       "      <th>block_hash</th>\n",
       "    </tr>\n",
       "  </thead>\n",
       "  <tbody>\n",
       "    <tr>\n",
       "      <th>0</th>\n",
       "      <td>0x70a72833d6bf7f508c8224ce59ea1ef3d0ea3a38</td>\n",
       "      <td>0x1d34a468977f81b6c8368e83d01b46442edefeba</td>\n",
       "      <td>0xa12431d0b9db640034b0cdfceef9cce161e62be4</td>\n",
       "      <td>2.021870e+21</td>\n",
       "      <td>0xe7b7af59d46fe71096d87f3fc8870c50ade0cf72f494...</td>\n",
       "      <td>165</td>\n",
       "      <td>2018-02-27 23:52:52 UTC</td>\n",
       "      <td>5168192</td>\n",
       "      <td>0x0228bcbd68da7a7841aecaa6d5185dc4a4a348dd0a39...</td>\n",
       "    </tr>\n",
       "    <tr>\n",
       "      <th>1</th>\n",
       "      <td>0x70a72833d6bf7f508c8224ce59ea1ef3d0ea3a38</td>\n",
       "      <td>0xc990db5665c150f5158e74926a9ad6b30190a493</td>\n",
       "      <td>0x7385075bfbccd136a7fefa314bbd1f11c5a193e4</td>\n",
       "      <td>4.010700e+21</td>\n",
       "      <td>0xa06a93d45a422782ed0c7db673b15f6f9db81b416a20...</td>\n",
       "      <td>20</td>\n",
       "      <td>2018-02-27 22:45:06 UTC</td>\n",
       "      <td>5167909</td>\n",
       "      <td>0x0356d8626e04ecd5a7ed9f240b0da5844a0985b4a173...</td>\n",
       "    </tr>\n",
       "    <tr>\n",
       "      <th>2</th>\n",
       "      <td>0x70a72833d6bf7f508c8224ce59ea1ef3d0ea3a38</td>\n",
       "      <td>0xff17df7afc2187a8fa227ae5caf606b4febf87a8</td>\n",
       "      <td>0xa12431d0b9db640034b0cdfceef9cce161e62be4</td>\n",
       "      <td>1.500000e+21</td>\n",
       "      <td>0x963a2a1a0ddd47b53a6212fc55f8936cfd47ba876e88...</td>\n",
       "      <td>104</td>\n",
       "      <td>2018-02-27 22:45:06 UTC</td>\n",
       "      <td>5167909</td>\n",
       "      <td>0x0356d8626e04ecd5a7ed9f240b0da5844a0985b4a173...</td>\n",
       "    </tr>\n",
       "    <tr>\n",
       "      <th>3</th>\n",
       "      <td>0x70a72833d6bf7f508c8224ce59ea1ef3d0ea3a38</td>\n",
       "      <td>0xdc2b3df48121dcfa75f25b7f276419024f57ad40</td>\n",
       "      <td>0xa12431d0b9db640034b0cdfceef9cce161e62be4</td>\n",
       "      <td>4.950000e+20</td>\n",
       "      <td>0x37976d7a44fc2aee5ed203dc3f6a13ae40bcdc194044...</td>\n",
       "      <td>84</td>\n",
       "      <td>2018-02-27 23:42:44 UTC</td>\n",
       "      <td>5168151</td>\n",
       "      <td>0x07b72f0c8c2d62cb795514d655bfc41b62392b669c3f...</td>\n",
       "    </tr>\n",
       "    <tr>\n",
       "      <th>4</th>\n",
       "      <td>0x70a72833d6bf7f508c8224ce59ea1ef3d0ea3a38</td>\n",
       "      <td>0xcb4f8581c06218e2a9dc1b6b565656bea0fc31b9</td>\n",
       "      <td>0x46705dfff24256421a05d056c29e81bdc09723b8</td>\n",
       "      <td>1.072200e+23</td>\n",
       "      <td>0xaad18348473d53f8337525b052a4596411fc5da83001...</td>\n",
       "      <td>10</td>\n",
       "      <td>2018-02-27 06:14:59 UTC</td>\n",
       "      <td>5163820</td>\n",
       "      <td>0x07bee99e1d7d6e939baed6ed7f7c0ebada9e1e197617...</td>\n",
       "    </tr>\n",
       "  </tbody>\n",
       "</table>\n",
       "</div>"
      ],
      "text/plain": [
       "                                token_address  \\\n",
       "0  0x70a72833d6bf7f508c8224ce59ea1ef3d0ea3a38   \n",
       "1  0x70a72833d6bf7f508c8224ce59ea1ef3d0ea3a38   \n",
       "2  0x70a72833d6bf7f508c8224ce59ea1ef3d0ea3a38   \n",
       "3  0x70a72833d6bf7f508c8224ce59ea1ef3d0ea3a38   \n",
       "4  0x70a72833d6bf7f508c8224ce59ea1ef3d0ea3a38   \n",
       "\n",
       "                                 from_address  \\\n",
       "0  0x1d34a468977f81b6c8368e83d01b46442edefeba   \n",
       "1  0xc990db5665c150f5158e74926a9ad6b30190a493   \n",
       "2  0xff17df7afc2187a8fa227ae5caf606b4febf87a8   \n",
       "3  0xdc2b3df48121dcfa75f25b7f276419024f57ad40   \n",
       "4  0xcb4f8581c06218e2a9dc1b6b565656bea0fc31b9   \n",
       "\n",
       "                                   to_address         value  \\\n",
       "0  0xa12431d0b9db640034b0cdfceef9cce161e62be4  2.021870e+21   \n",
       "1  0x7385075bfbccd136a7fefa314bbd1f11c5a193e4  4.010700e+21   \n",
       "2  0xa12431d0b9db640034b0cdfceef9cce161e62be4  1.500000e+21   \n",
       "3  0xa12431d0b9db640034b0cdfceef9cce161e62be4  4.950000e+20   \n",
       "4  0x46705dfff24256421a05d056c29e81bdc09723b8  1.072200e+23   \n",
       "\n",
       "                                    transaction_hash  log_index  \\\n",
       "0  0xe7b7af59d46fe71096d87f3fc8870c50ade0cf72f494...        165   \n",
       "1  0xa06a93d45a422782ed0c7db673b15f6f9db81b416a20...         20   \n",
       "2  0x963a2a1a0ddd47b53a6212fc55f8936cfd47ba876e88...        104   \n",
       "3  0x37976d7a44fc2aee5ed203dc3f6a13ae40bcdc194044...         84   \n",
       "4  0xaad18348473d53f8337525b052a4596411fc5da83001...         10   \n",
       "\n",
       "           block_timestamp  block_number  \\\n",
       "0  2018-02-27 23:52:52 UTC       5168192   \n",
       "1  2018-02-27 22:45:06 UTC       5167909   \n",
       "2  2018-02-27 22:45:06 UTC       5167909   \n",
       "3  2018-02-27 23:42:44 UTC       5168151   \n",
       "4  2018-02-27 06:14:59 UTC       5163820   \n",
       "\n",
       "                                          block_hash  \n",
       "0  0x0228bcbd68da7a7841aecaa6d5185dc4a4a348dd0a39...  \n",
       "1  0x0356d8626e04ecd5a7ed9f240b0da5844a0985b4a173...  \n",
       "2  0x0356d8626e04ecd5a7ed9f240b0da5844a0985b4a173...  \n",
       "3  0x07b72f0c8c2d62cb795514d655bfc41b62392b669c3f...  \n",
       "4  0x07bee99e1d7d6e939baed6ed7f7c0ebada9e1e197617...  "
      ]
     },
     "execution_count": 26,
     "metadata": {},
     "output_type": "execute_result"
    }
   ],
   "source": [
    "#or\n",
    "import pandas as pd\n",
    "\n",
    "google_sheet_url = \"https://docs.google.com/spreadsheets/d/1DbF-3ZrWYfiGr6Ae3M1L6xgkb_Q6CgPU48oU0YG-d0s/export?format=csv\"\n",
    "#replace with export?format=csv\n",
    "\n",
    "df = pd.read_csv(google_sheet_url)\n",
    "                  \n",
    "df.head()"
   ]
  },
  {
   "cell_type": "code",
   "execution_count": null,
   "metadata": {},
   "outputs": [],
   "source": [
    "df.shape\n",
    "(100, 16)\n",
    "\n",
    "df.dtypes"
   ]
  },
  {
   "cell_type": "code",
   "execution_count": 27,
   "metadata": {},
   "outputs": [],
   "source": [
    "import networkx as nx\n",
    "import matplotlib.pyplot\n",
    "\n",
    "\n",
    "FG = nx.from_pandas_edgelist(df, source='from_address', target='to_address', edge_attr=True)"
   ]
  },
  {
   "cell_type": "code",
   "execution_count": null,
   "metadata": {},
   "outputs": [],
   "source": [
    "#FG.nodes()"
   ]
  },
  {
   "cell_type": "code",
   "execution_count": 28,
   "metadata": {},
   "outputs": [
    {
     "name": "stdout",
     "output_type": "stream",
     "text": [
      "Name: \n",
      "Type: Graph\n",
      "Number of nodes: 42824\n",
      "Number of edges: 62315\n",
      "Average degree:   2.9103\n"
     ]
    }
   ],
   "source": [
    "print(nx.info(FG))"
   ]
  },
  {
   "cell_type": "code",
   "execution_count": null,
   "metadata": {},
   "outputs": [],
   "source": [
    "nx.draw_networkx(FG, with_labels=False) "
   ]
  },
  {
   "cell_type": "code",
   "execution_count": 10,
   "metadata": {},
   "outputs": [
    {
     "data": {
      "text/plain": [
       "6.79607676464422e-05"
      ]
     },
     "execution_count": 10,
     "metadata": {},
     "output_type": "execute_result"
    }
   ],
   "source": [
    "nx.algorithms.degree_centrality(FG) \n",
    "\n",
    "nx.density(FG) # Average edge density of the Graphs"
   ]
  },
  {
   "cell_type": "code",
   "execution_count": null,
   "metadata": {},
   "outputs": [],
   "source": [
    "nx.average_shortest_path_length(FG) # Average shortest path length for all paths in the Graph"
   ]
  },
  {
   "cell_type": "code",
   "execution_count": 12,
   "metadata": {},
   "outputs": [
    {
     "data": {
      "text/plain": [
       "{1: 10436.688137095583,\n",
       " 2: 5157.093161744135,\n",
       " 3: 4558.885497908896,\n",
       " 4: 3875.9872483221475,\n",
       " 5: 3153.40990990991,\n",
       " 6: 2732.7908805031448,\n",
       " 7: 1988.3590733590734,\n",
       " 8: 2023.9296875,\n",
       " 9: 1607.5925925925926,\n",
       " 10: 1080.5,\n",
       " 11: 1346.9625668449198,\n",
       " 12: 1261.375,\n",
       " 13: 1341.4871794871794,\n",
       " 14: 1150.7244897959183,\n",
       " 15: 1027.911111111111,\n",
       " 16: 1203.59375,\n",
       " 18: 515.9166666666666,\n",
       " 19: 1005.5263157894736,\n",
       " 21: 428.8666666666667,\n",
       " 22: 2.090909090909091,\n",
       " 23: 4.130434782608695,\n",
       " 24: 24.729166666666668,\n",
       " 27: 291.5925925925926,\n",
       " 28: 547.5714285714286,\n",
       " 33: 2.0303030303030303,\n",
       " 46: 2.5869565217391304,\n",
       " 62: 2.0,\n",
       " 82: 188.03658536585365,\n",
       " 90: 171.4777777777778,\n",
       " 138: 112.3913043478261,\n",
       " 221: 6.46606334841629,\n",
       " 259: 2.8764478764478763,\n",
       " 276: 5.329710144927536,\n",
       " 293: 3.9283276450511946,\n",
       " 296: 3.875,\n",
       " 317: 4.022082018927445,\n",
       " 326: 3.726993865030675,\n",
       " 344: 3.7936046511627906,\n",
       " 364: 3.868131868131868,\n",
       " 394: 3.7588832487309647,\n",
       " 400: 3.9075,\n",
       " 427: 38.695550351288055,\n",
       " 429: 3.727272727272727,\n",
       " 459: 3.762527233115468,\n",
       " 718: 2.497214484679666,\n",
       " 721: 2.737864077669903,\n",
       " 873: 2.8327605956471937,\n",
       " 1887: 2.12241653418124,\n",
       " 8258: 3.5989343666747398,\n",
       " 12316: 2.5384053264046766,\n",
       " 15248: 1.9252360965372508}"
      ]
     },
     "execution_count": 12,
     "metadata": {},
     "output_type": "execute_result"
    }
   ],
   "source": [
    "nx.average_degree_connectivity(FG) # the average of its neighbours' degree (For a node of degree k - What is)"
   ]
  },
  {
   "cell_type": "code",
   "execution_count": 13,
   "metadata": {},
   "outputs": [
    {
     "data": {
      "text/html": [
       "<div>\n",
       "<style scoped>\n",
       "    .dataframe tbody tr th:only-of-type {\n",
       "        vertical-align: middle;\n",
       "    }\n",
       "\n",
       "    .dataframe tbody tr th {\n",
       "        vertical-align: top;\n",
       "    }\n",
       "\n",
       "    .dataframe thead th {\n",
       "        text-align: right;\n",
       "    }\n",
       "</style>\n",
       "<table border=\"1\" class=\"dataframe\">\n",
       "  <thead>\n",
       "    <tr style=\"text-align: right;\">\n",
       "      <th></th>\n",
       "      <th>token_address</th>\n",
       "      <th>from_address</th>\n",
       "      <th>to_address</th>\n",
       "      <th>value</th>\n",
       "      <th>transaction_hash</th>\n",
       "      <th>log_index</th>\n",
       "      <th>block_timestamp</th>\n",
       "      <th>block_number</th>\n",
       "      <th>block_hash</th>\n",
       "    </tr>\n",
       "  </thead>\n",
       "  <tbody>\n",
       "    <tr>\n",
       "      <th>0</th>\n",
       "      <td>0x1016479ef8ef8668a1a1358fa2f99bcded6bbcd8</td>\n",
       "      <td>0x00d70c8cea258ada872b3a615c4b775bc748dab7</td>\n",
       "      <td>0x3d4622e93725897d16ea14526ce1e5c7aa169323</td>\n",
       "      <td>1000</td>\n",
       "      <td>0xa51cbc4813d0a07c30f62048a1532586b50d358c30f8...</td>\n",
       "      <td>0</td>\n",
       "      <td>2016-04-27 10:17:29+00:00</td>\n",
       "      <td>1412778</td>\n",
       "      <td>0xf2e13d9d898d0641f532c575eeb2b29fa08e42527c3f...</td>\n",
       "    </tr>\n",
       "    <tr>\n",
       "      <th>1</th>\n",
       "      <td>0x1130547436810db920fa73681c946fea15e9b758</td>\n",
       "      <td>0xc947faed052820f1ad6f4dda435e684a2cd06bb4</td>\n",
       "      <td>0xb1a2b43a7433dd150bb82227ed519cd6b142d382</td>\n",
       "      <td>3000000000</td>\n",
       "      <td>0xe7a8dcf96249fcbfa7bd2d9570f54e2dea14a5b0c36d...</td>\n",
       "      <td>0</td>\n",
       "      <td>2016-04-27 18:02:34+00:00</td>\n",
       "      <td>1414793</td>\n",
       "      <td>0x446b84f0a719c4aa44dca61f13b6c64ebefc6094cbe3...</td>\n",
       "    </tr>\n",
       "    <tr>\n",
       "      <th>2</th>\n",
       "      <td>0x1a0dbcf7d58edc7891ce956b27db4820ae65b14a</td>\n",
       "      <td>0x53786e5722f854a62783395dcdc27d633a9b063e</td>\n",
       "      <td>0x01ddbd112f334577d80406c84d08364ef09a5ed7</td>\n",
       "      <td>1</td>\n",
       "      <td>0x46100776bdd49297a14b06610dfd2df44f2415871e41...</td>\n",
       "      <td>1</td>\n",
       "      <td>2016-04-27 09:08:33+00:00</td>\n",
       "      <td>1412486</td>\n",
       "      <td>0xa9aee0c205773cde9c3cdcb7c1b04f7d049a48cfcd1e...</td>\n",
       "    </tr>\n",
       "    <tr>\n",
       "      <th>3</th>\n",
       "      <td>0x1a0dbcf7d58edc7891ce956b27db4820ae65b14a</td>\n",
       "      <td>0x53786e5722f854a62783395dcdc27d633a9b063e</td>\n",
       "      <td>0xe968c63813050c36a0fba5f249205df7c92f9299</td>\n",
       "      <td>1</td>\n",
       "      <td>0x15136f9789d1247529f155b2ab69a91833314de87e60...</td>\n",
       "      <td>1</td>\n",
       "      <td>2016-04-27 09:26:08+00:00</td>\n",
       "      <td>1412563</td>\n",
       "      <td>0xa6da8094efffc371295bf0a75d501fdef07754083d9b...</td>\n",
       "    </tr>\n",
       "    <tr>\n",
       "      <th>4</th>\n",
       "      <td>0x1a0dbcf7d58edc7891ce956b27db4820ae65b14a</td>\n",
       "      <td>0x53786e5722f854a62783395dcdc27d633a9b063e</td>\n",
       "      <td>0x01ddbd112f334577d80406c84d08364ef09a5ed7</td>\n",
       "      <td>2</td>\n",
       "      <td>0x15136f9789d1247529f155b2ab69a91833314de87e60...</td>\n",
       "      <td>3</td>\n",
       "      <td>2016-04-27 09:26:08+00:00</td>\n",
       "      <td>1412563</td>\n",
       "      <td>0xa6da8094efffc371295bf0a75d501fdef07754083d9b...</td>\n",
       "    </tr>\n",
       "  </tbody>\n",
       "</table>\n",
       "</div>"
      ],
      "text/plain": [
       "                                token_address  \\\n",
       "0  0x1016479ef8ef8668a1a1358fa2f99bcded6bbcd8   \n",
       "1  0x1130547436810db920fa73681c946fea15e9b758   \n",
       "2  0x1a0dbcf7d58edc7891ce956b27db4820ae65b14a   \n",
       "3  0x1a0dbcf7d58edc7891ce956b27db4820ae65b14a   \n",
       "4  0x1a0dbcf7d58edc7891ce956b27db4820ae65b14a   \n",
       "\n",
       "                                 from_address  \\\n",
       "0  0x00d70c8cea258ada872b3a615c4b775bc748dab7   \n",
       "1  0xc947faed052820f1ad6f4dda435e684a2cd06bb4   \n",
       "2  0x53786e5722f854a62783395dcdc27d633a9b063e   \n",
       "3  0x53786e5722f854a62783395dcdc27d633a9b063e   \n",
       "4  0x53786e5722f854a62783395dcdc27d633a9b063e   \n",
       "\n",
       "                                   to_address       value  \\\n",
       "0  0x3d4622e93725897d16ea14526ce1e5c7aa169323        1000   \n",
       "1  0xb1a2b43a7433dd150bb82227ed519cd6b142d382  3000000000   \n",
       "2  0x01ddbd112f334577d80406c84d08364ef09a5ed7           1   \n",
       "3  0xe968c63813050c36a0fba5f249205df7c92f9299           1   \n",
       "4  0x01ddbd112f334577d80406c84d08364ef09a5ed7           2   \n",
       "\n",
       "                                    transaction_hash  log_index  \\\n",
       "0  0xa51cbc4813d0a07c30f62048a1532586b50d358c30f8...          0   \n",
       "1  0xe7a8dcf96249fcbfa7bd2d9570f54e2dea14a5b0c36d...          0   \n",
       "2  0x46100776bdd49297a14b06610dfd2df44f2415871e41...          1   \n",
       "3  0x15136f9789d1247529f155b2ab69a91833314de87e60...          1   \n",
       "4  0x15136f9789d1247529f155b2ab69a91833314de87e60...          3   \n",
       "\n",
       "            block_timestamp  block_number  \\\n",
       "0 2016-04-27 10:17:29+00:00       1412778   \n",
       "1 2016-04-27 18:02:34+00:00       1414793   \n",
       "2 2016-04-27 09:08:33+00:00       1412486   \n",
       "3 2016-04-27 09:26:08+00:00       1412563   \n",
       "4 2016-04-27 09:26:08+00:00       1412563   \n",
       "\n",
       "                                          block_hash  \n",
       "0  0xf2e13d9d898d0641f532c575eeb2b29fa08e42527c3f...  \n",
       "1  0x446b84f0a719c4aa44dca61f13b6c64ebefc6094cbe3...  \n",
       "2  0xa9aee0c205773cde9c3cdcb7c1b04f7d049a48cfcd1e...  \n",
       "3  0xa6da8094efffc371295bf0a75d501fdef07754083d9b...  \n",
       "4  0xa6da8094efffc371295bf0a75d501fdef07754083d9b...  "
      ]
     },
     "execution_count": 13,
     "metadata": {},
     "output_type": "execute_result"
    }
   ],
   "source": [
    "#query UTK as example\n",
    "QUERYeth = (\n",
    "    'SELECT * FROM `bigquery-public-data.crypto_ethereum.token_transfers`'\n",
    "    'LIMIT 1000')\n",
    "query_job = client.query(QUERYeth)  \n",
    "rows = query_job.result()  \n",
    "\n",
    "dfeth = query_job.result(QUERYeth).to_dataframe()\n",
    "dfeth.head()"
   ]
  },
  {
   "cell_type": "code",
   "execution_count": 14,
   "metadata": {},
   "outputs": [],
   "source": [
    "import networkx as nx\n",
    "import matplotlib.pyplot\n",
    "\n",
    "\n",
    "FGeth = nx.from_pandas_edgelist(dfeth, source='from_address', target='to_address', edge_attr=True)"
   ]
  },
  {
   "cell_type": "code",
   "execution_count": 15,
   "metadata": {},
   "outputs": [
    {
     "name": "stdout",
     "output_type": "stream",
     "text": [
      "Name: \n",
      "Type: Graph\n",
      "Number of nodes: 909\n",
      "Number of edges: 792\n",
      "Average degree:   1.7426\n"
     ]
    }
   ],
   "source": [
    "print(nx.info(FGeth))"
   ]
  },
  {
   "cell_type": "code",
   "execution_count": 17,
   "metadata": {},
   "outputs": [
    {
     "data": {
      "image/png": "[encoded data removed]",
      "text/plain": [
       "<Figure size 432x288 with 1 Axes>"
      ]
     },
     "metadata": {
      "needs_background": "light"
     },
     "output_type": "display_data"
    }
   ],
   "source": [
    "nx.draw_networkx(FGeth, with_labels=False) "
   ]
  },
  {
   "cell_type": "code",
   "execution_count": null,
   "metadata": {},
   "outputs": [],
   "source": []
  }
 ],
 "metadata": {
  "kernelspec": {
   "display_name": "Python 3",
   "language": "python",
   "name": "python3"
  },
  "language_info": {
   "codemirror_mode": {
    "name": "ipython",
    "version": 3
   },
   "file_extension": ".py",
   "mimetype": "text/x-python",
   "name": "python",
   "nbconvert_exporter": "python",
   "pygments_lexer": "ipython3",
   "version": "3.7.1"
  }
 },
 "nbformat": 4,
 "nbformat_minor": 2
}
